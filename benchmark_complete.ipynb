{
  "nbformat": 4,
  "nbformat_minor": 0,
  "metadata": {
    "colab": {
      "name": "benchmark_complete.ipynb",
      "provenance": [],
      "collapsed_sections": [
        "dsDglQ-J96ZO"
      ],
      "toc_visible": true,
      "include_colab_link": true
    },
    "kernelspec": {
      "display_name": "Python 3",
      "name": "python3"
    },
    "language_info": {
      "name": "python"
    }
  },
  "cells": [
    {
      "cell_type": "markdown",
      "metadata": {
        "id": "view-in-github",
        "colab_type": "text"
      },
      "source": [
        "<a href=\"https://colab.research.google.com/github/MickaRiv/ProjetDatascientest-VoiceSeparator/blob/main/benchmark_complete.ipynb\" target=\"_parent\"><img src=\"https://colab.research.google.com/assets/colab-badge.svg\" alt=\"Open In Colab\"/></a>"
      ]
    },
    {
      "cell_type": "markdown",
      "metadata": {
        "id": "x-5hUcPu48yf"
      },
      "source": [
        "# Install nussl, voicesep et import systématiques"
      ]
    },
    {
      "cell_type": "markdown",
      "metadata": {
        "id": "dsDglQ-J96ZO"
      },
      "source": [
        "## Install de nussl"
      ]
    },
    {
      "cell_type": "code",
      "metadata": {
        "id": "L9U4Vxvz5ZRg",
        "outputId": "63b23b2d-f49f-4173-cf10-0f261f2537f1",
        "colab": {
          "base_uri": "https://localhost:8080/"
        }
      },
      "source": [
        "!pip install nussl"
      ],
      "execution_count": null,
      "outputs": [
        {
          "output_type": "stream",
          "name": "stdout",
          "text": [
            "Collecting nussl\n",
            "  Downloading nussl-1.1.9-py2.py3-none-any.whl (239 kB)\n",
            "\u001b[?25l\r\u001b[K     |█▍                              | 10 kB 29.8 MB/s eta 0:00:01\r\u001b[K     |██▊                             | 20 kB 38.6 MB/s eta 0:00:01\r\u001b[K     |████                            | 30 kB 44.5 MB/s eta 0:00:01\r\u001b[K     |█████▌                          | 40 kB 44.9 MB/s eta 0:00:01\r\u001b[K     |██████▉                         | 51 kB 18.7 MB/s eta 0:00:01\r\u001b[K     |████████▏                       | 61 kB 21.3 MB/s eta 0:00:01\r\u001b[K     |█████████▋                      | 71 kB 17.7 MB/s eta 0:00:01\r\u001b[K     |███████████                     | 81 kB 17.6 MB/s eta 0:00:01\r\u001b[K     |████████████▎                   | 92 kB 19.4 MB/s eta 0:00:01\r\u001b[K     |█████████████▋                  | 102 kB 16.1 MB/s eta 0:00:01\r\u001b[K     |███████████████                 | 112 kB 16.1 MB/s eta 0:00:01\r\u001b[K     |████████████████▍               | 122 kB 16.1 MB/s eta 0:00:01\r\u001b[K     |█████████████████▊              | 133 kB 16.1 MB/s eta 0:00:01\r\u001b[K     |███████████████████▏            | 143 kB 16.1 MB/s eta 0:00:01\r\u001b[K     |████████████████████▌           | 153 kB 16.1 MB/s eta 0:00:01\r\u001b[K     |█████████████████████▉          | 163 kB 16.1 MB/s eta 0:00:01\r\u001b[K     |███████████████████████▎        | 174 kB 16.1 MB/s eta 0:00:01\r\u001b[K     |████████████████████████▋       | 184 kB 16.1 MB/s eta 0:00:01\r\u001b[K     |██████████████████████████      | 194 kB 16.1 MB/s eta 0:00:01\r\u001b[K     |███████████████████████████▎    | 204 kB 16.1 MB/s eta 0:00:01\r\u001b[K     |████████████████████████████▊   | 215 kB 16.1 MB/s eta 0:00:01\r\u001b[K     |██████████████████████████████  | 225 kB 16.1 MB/s eta 0:00:01\r\u001b[K     |███████████████████████████████▍| 235 kB 16.1 MB/s eta 0:00:01\r\u001b[K     |████████████████████████████████| 239 kB 16.1 MB/s \n",
            "\u001b[?25hCollecting sox\n",
            "  Downloading sox-1.4.1-py2.py3-none-any.whl (39 kB)\n",
            "Collecting zarr\n",
            "  Downloading zarr-2.11.0-py3-none-any.whl (153 kB)\n",
            "\u001b[K     |████████████████████████████████| 153 kB 68.0 MB/s \n",
            "\u001b[?25hCollecting soxbindings>=1.2.2\n",
            "  Downloading soxbindings-1.2.3-cp37-cp37m-manylinux2010_x86_64.whl (3.3 MB)\n",
            "\u001b[K     |████████████████████████████████| 3.3 MB 63.3 MB/s \n",
            "\u001b[?25hCollecting norbert\n",
            "  Downloading norbert-0.2.1-py2.py3-none-any.whl (11 kB)\n",
            "Collecting museval\n",
            "  Downloading museval-0.4.0-py2.py3-none-any.whl (21 kB)\n",
            "Collecting musdb\n",
            "  Downloading musdb-0.4.0-py2.py3-none-any.whl (29 kB)\n",
            "Collecting ffmpy\n",
            "  Downloading ffmpy-0.3.0.tar.gz (4.8 kB)\n",
            "Collecting termtables\n",
            "  Downloading termtables-0.2.4-py3-none-any.whl (17 kB)\n",
            "Collecting pytorch-ignite\n",
            "  Downloading pytorch_ignite-0.4.8-py3-none-any.whl (251 kB)\n",
            "\u001b[K     |████████████████████████████████| 251 kB 73.7 MB/s \n",
            "\u001b[?25hCollecting jams\n",
            "  Downloading jams-0.3.4.tar.gz (51 kB)\n",
            "\u001b[K     |████████████████████████████████| 51 kB 66 kB/s \n",
            "\u001b[?25hCollecting pyloudnorm\n",
            "  Downloading pyloudnorm-0.1.0-py3-none-any.whl (9.3 kB)\n",
            "Requirement already satisfied: importlib-resources in /usr/local/lib/python3.7/dist-packages (from nussl) (5.4.0)\n",
            "Collecting gpytorch\n",
            "  Downloading gpytorch-1.6.0.tar.gz (310 kB)\n",
            "\u001b[K     |████████████████████████████████| 310 kB 61.0 MB/s \n",
            "\u001b[?25hCollecting ffmpeg-python\n",
            "  Downloading ffmpeg_python-0.2.0-py3-none-any.whl (25 kB)\n",
            "Requirement already satisfied: tqdm in /usr/local/lib/python3.7/dist-packages (from nussl) (4.62.3)\n",
            "Requirement already satisfied: matplotlib in /usr/local/lib/python3.7/dist-packages (from nussl) (3.2.2)\n",
            "Requirement already satisfied: pyyaml in /usr/local/lib/python3.7/dist-packages (from nussl) (3.13)\n",
            "Requirement already satisfied: tensorboard in /usr/local/lib/python3.7/dist-packages (from nussl) (2.8.0)\n",
            "Requirement already satisfied: torch in /usr/local/lib/python3.7/dist-packages (from nussl) (1.10.0+cu111)\n",
            "Requirement already satisfied: librosa in /usr/local/lib/python3.7/dist-packages (from nussl) (0.8.1)\n",
            "Requirement already satisfied: numpy>=1.9.0 in /usr/local/lib/python3.7/dist-packages (from sox->nussl) (1.21.5)\n",
            "Requirement already satisfied: future in /usr/local/lib/python3.7/dist-packages (from ffmpeg-python->nussl) (0.16.0)\n",
            "Requirement already satisfied: zipp>=3.1.0 in /usr/local/lib/python3.7/dist-packages (from importlib-resources->nussl) (3.7.0)\n",
            "Requirement already satisfied: pandas in /usr/local/lib/python3.7/dist-packages (from jams->nussl) (1.3.5)\n",
            "Requirement already satisfied: sortedcontainers>=2.0.0 in /usr/local/lib/python3.7/dist-packages (from jams->nussl) (2.4.0)\n",
            "Requirement already satisfied: jsonschema>=3.0.0 in /usr/local/lib/python3.7/dist-packages (from jams->nussl) (4.3.3)\n",
            "Requirement already satisfied: six in /usr/local/lib/python3.7/dist-packages (from jams->nussl) (1.15.0)\n",
            "Requirement already satisfied: decorator in /usr/local/lib/python3.7/dist-packages (from jams->nussl) (4.4.2)\n",
            "Collecting mir_eval>=0.5\n",
            "  Downloading mir_eval-0.7.tar.gz (90 kB)\n",
            "\u001b[K     |████████████████████████████████| 90 kB 7.9 MB/s \n",
            "\u001b[?25hRequirement already satisfied: importlib-metadata in /usr/local/lib/python3.7/dist-packages (from jsonschema>=3.0.0->jams->nussl) (4.11.0)\n",
            "Requirement already satisfied: pyrsistent!=0.17.0,!=0.17.1,!=0.17.2,>=0.14.0 in /usr/local/lib/python3.7/dist-packages (from jsonschema>=3.0.0->jams->nussl) (0.18.1)\n",
            "Requirement already satisfied: attrs>=17.4.0 in /usr/local/lib/python3.7/dist-packages (from jsonschema>=3.0.0->jams->nussl) (21.4.0)\n",
            "Requirement already satisfied: typing-extensions in /usr/local/lib/python3.7/dist-packages (from jsonschema>=3.0.0->jams->nussl) (3.10.0.2)\n",
            "Requirement already satisfied: scipy>=1.0.0 in /usr/local/lib/python3.7/dist-packages (from mir_eval>=0.5->jams->nussl) (1.4.1)\n",
            "Requirement already satisfied: joblib>=0.14 in /usr/local/lib/python3.7/dist-packages (from librosa->nussl) (1.1.0)\n",
            "Requirement already satisfied: resampy>=0.2.2 in /usr/local/lib/python3.7/dist-packages (from librosa->nussl) (0.2.2)\n",
            "Requirement already satisfied: numba>=0.43.0 in /usr/local/lib/python3.7/dist-packages (from librosa->nussl) (0.51.2)\n",
            "Requirement already satisfied: audioread>=2.0.0 in /usr/local/lib/python3.7/dist-packages (from librosa->nussl) (2.1.9)\n",
            "Requirement already satisfied: pooch>=1.0 in /usr/local/lib/python3.7/dist-packages (from librosa->nussl) (1.6.0)\n",
            "Requirement already satisfied: scikit-learn!=0.19.0,>=0.14.0 in /usr/local/lib/python3.7/dist-packages (from librosa->nussl) (1.0.2)\n",
            "Requirement already satisfied: soundfile>=0.10.2 in /usr/local/lib/python3.7/dist-packages (from librosa->nussl) (0.10.3.post1)\n",
            "Requirement already satisfied: packaging>=20.0 in /usr/local/lib/python3.7/dist-packages (from librosa->nussl) (21.3)\n",
            "Requirement already satisfied: setuptools in /usr/local/lib/python3.7/dist-packages (from numba>=0.43.0->librosa->nussl) (57.4.0)\n",
            "Requirement already satisfied: llvmlite<0.35,>=0.34.0.dev0 in /usr/local/lib/python3.7/dist-packages (from numba>=0.43.0->librosa->nussl) (0.34.0)\n",
            "Requirement already satisfied: pyparsing!=3.0.5,>=2.0.2 in /usr/local/lib/python3.7/dist-packages (from packaging>=20.0->librosa->nussl) (3.0.7)\n",
            "Requirement already satisfied: requests>=2.19.0 in /usr/local/lib/python3.7/dist-packages (from pooch>=1.0->librosa->nussl) (2.23.0)\n",
            "Requirement already satisfied: appdirs>=1.3.0 in /usr/local/lib/python3.7/dist-packages (from pooch>=1.0->librosa->nussl) (1.4.4)\n",
            "Requirement already satisfied: certifi>=2017.4.17 in /usr/local/lib/python3.7/dist-packages (from requests>=2.19.0->pooch>=1.0->librosa->nussl) (2021.10.8)\n",
            "Requirement already satisfied: urllib3!=1.25.0,!=1.25.1,<1.26,>=1.21.1 in /usr/local/lib/python3.7/dist-packages (from requests>=2.19.0->pooch>=1.0->librosa->nussl) (1.24.3)\n",
            "Requirement already satisfied: chardet<4,>=3.0.2 in /usr/local/lib/python3.7/dist-packages (from requests>=2.19.0->pooch>=1.0->librosa->nussl) (3.0.4)\n",
            "Requirement already satisfied: idna<3,>=2.5 in /usr/local/lib/python3.7/dist-packages (from requests>=2.19.0->pooch>=1.0->librosa->nussl) (2.10)\n",
            "Requirement already satisfied: threadpoolctl>=2.0.0 in /usr/local/lib/python3.7/dist-packages (from scikit-learn!=0.19.0,>=0.14.0->librosa->nussl) (3.1.0)\n",
            "Requirement already satisfied: cffi>=1.0 in /usr/local/lib/python3.7/dist-packages (from soundfile>=0.10.2->librosa->nussl) (1.15.0)\n",
            "Requirement already satisfied: pycparser in /usr/local/lib/python3.7/dist-packages (from cffi>=1.0->soundfile>=0.10.2->librosa->nussl) (2.21)\n",
            "Requirement already satisfied: python-dateutil>=2.1 in /usr/local/lib/python3.7/dist-packages (from matplotlib->nussl) (2.8.2)\n",
            "Requirement already satisfied: cycler>=0.10 in /usr/local/lib/python3.7/dist-packages (from matplotlib->nussl) (0.11.0)\n",
            "Requirement already satisfied: kiwisolver>=1.0.1 in /usr/local/lib/python3.7/dist-packages (from matplotlib->nussl) (1.3.2)\n",
            "Collecting stempeg>=0.2.3\n",
            "  Downloading stempeg-0.2.3-py3-none-any.whl (963 kB)\n",
            "\u001b[K     |████████████████████████████████| 963 kB 53.8 MB/s \n",
            "\u001b[?25hCollecting pyaml\n",
            "  Downloading pyaml-21.10.1-py2.py3-none-any.whl (24 kB)\n",
            "Collecting simplejson\n",
            "  Downloading simplejson-3.17.6-cp37-cp37m-manylinux_2_5_x86_64.manylinux1_x86_64.manylinux_2_12_x86_64.manylinux2010_x86_64.whl (130 kB)\n",
            "\u001b[K     |████████████████████████████████| 130 kB 66.1 MB/s \n",
            "\u001b[?25hRequirement already satisfied: pytz>=2017.3 in /usr/local/lib/python3.7/dist-packages (from pandas->jams->nussl) (2018.9)\n",
            "Requirement already satisfied: wheel>=0.26 in /usr/local/lib/python3.7/dist-packages (from tensorboard->nussl) (0.37.1)\n",
            "Requirement already satisfied: werkzeug>=0.11.15 in /usr/local/lib/python3.7/dist-packages (from tensorboard->nussl) (1.0.1)\n",
            "Requirement already satisfied: tensorboard-plugin-wit>=1.6.0 in /usr/local/lib/python3.7/dist-packages (from tensorboard->nussl) (1.8.1)\n",
            "Requirement already satisfied: markdown>=2.6.8 in /usr/local/lib/python3.7/dist-packages (from tensorboard->nussl) (3.3.6)\n",
            "Requirement already satisfied: absl-py>=0.4 in /usr/local/lib/python3.7/dist-packages (from tensorboard->nussl) (1.0.0)\n",
            "Requirement already satisfied: grpcio>=1.24.3 in /usr/local/lib/python3.7/dist-packages (from tensorboard->nussl) (1.43.0)\n",
            "Requirement already satisfied: protobuf>=3.6.0 in /usr/local/lib/python3.7/dist-packages (from tensorboard->nussl) (3.17.3)\n",
            "Requirement already satisfied: google-auth-oauthlib<0.5,>=0.4.1 in /usr/local/lib/python3.7/dist-packages (from tensorboard->nussl) (0.4.6)\n",
            "Requirement already satisfied: google-auth<3,>=1.6.3 in /usr/local/lib/python3.7/dist-packages (from tensorboard->nussl) (1.35.0)\n",
            "Requirement already satisfied: tensorboard-data-server<0.7.0,>=0.6.0 in /usr/local/lib/python3.7/dist-packages (from tensorboard->nussl) (0.6.1)\n",
            "Requirement already satisfied: pyasn1-modules>=0.2.1 in /usr/local/lib/python3.7/dist-packages (from google-auth<3,>=1.6.3->tensorboard->nussl) (0.2.8)\n",
            "Requirement already satisfied: rsa<5,>=3.1.4 in /usr/local/lib/python3.7/dist-packages (from google-auth<3,>=1.6.3->tensorboard->nussl) (4.8)\n",
            "Requirement already satisfied: cachetools<5.0,>=2.0.0 in /usr/local/lib/python3.7/dist-packages (from google-auth<3,>=1.6.3->tensorboard->nussl) (4.2.4)\n",
            "Requirement already satisfied: requests-oauthlib>=0.7.0 in /usr/local/lib/python3.7/dist-packages (from google-auth-oauthlib<0.5,>=0.4.1->tensorboard->nussl) (1.3.1)\n",
            "Requirement already satisfied: pyasn1<0.5.0,>=0.4.6 in /usr/local/lib/python3.7/dist-packages (from pyasn1-modules>=0.2.1->google-auth<3,>=1.6.3->tensorboard->nussl) (0.4.8)\n",
            "Requirement already satisfied: oauthlib>=3.0.0 in /usr/local/lib/python3.7/dist-packages (from requests-oauthlib>=0.7.0->google-auth-oauthlib<0.5,>=0.4.1->tensorboard->nussl) (3.2.0)\n",
            "Collecting asciitree\n",
            "  Downloading asciitree-0.3.3.tar.gz (4.0 kB)\n",
            "Collecting numcodecs>=0.6.4\n",
            "  Downloading numcodecs-0.9.1-cp37-cp37m-manylinux2010_x86_64.whl (6.2 MB)\n",
            "\u001b[K     |████████████████████████████████| 6.2 MB 48.6 MB/s \n",
            "\u001b[?25hCollecting fasteners\n",
            "  Downloading fasteners-0.17.3-py3-none-any.whl (18 kB)\n",
            "Building wheels for collected packages: ffmpy, gpytorch, jams, mir-eval, asciitree\n",
            "  Building wheel for ffmpy (setup.py) ... \u001b[?25l\u001b[?25hdone\n",
            "  Created wheel for ffmpy: filename=ffmpy-0.3.0-py3-none-any.whl size=4712 sha256=495bbb03db08487deaed66913e8a6338c20048456936d7f04064ab2806c73fb2\n",
            "  Stored in directory: /root/.cache/pip/wheels/13/e4/6c/e8059816e86796a597c6e6b0d4c880630f51a1fcfa0befd5e6\n",
            "  Building wheel for gpytorch (setup.py) ... \u001b[?25l\u001b[?25hdone\n",
            "  Created wheel for gpytorch: filename=gpytorch-1.6.0-py2.py3-none-any.whl size=509889 sha256=5530aad0367554a9ee23883929787de29c7c51407667a7722626d9302592938f\n",
            "  Stored in directory: /root/.cache/pip/wheels/66/b5/89/34c06ad393a6feb72b4cdde46d0f1c667f3e2632960f9df109\n",
            "  Building wheel for jams (setup.py) ... \u001b[?25l\u001b[?25hdone\n",
            "  Created wheel for jams: filename=jams-0.3.4-py3-none-any.whl size=64922 sha256=a5f82d77f5416bcfafb2892b6421f5ab5254c3ab7623b06b7b38d19500f68754\n",
            "  Stored in directory: /root/.cache/pip/wheels/c9/aa/16/ce72bc4caa58dfab819e3f46b3542f2bf90a83009f4ea07a48\n",
            "  Building wheel for mir-eval (setup.py) ... \u001b[?25l\u001b[?25hdone\n",
            "  Created wheel for mir-eval: filename=mir_eval-0.7-py3-none-any.whl size=100721 sha256=e87587d5d28bb2e553aeb40478af97bea1c83a955aade34222730a736d0b3b66\n",
            "  Stored in directory: /root/.cache/pip/wheels/18/5a/46/d2527ff1fd975e1a793375e6ed763bfe4d3ea396b7cdc470eb\n",
            "  Building wheel for asciitree (setup.py) ... \u001b[?25l\u001b[?25hdone\n",
            "  Created wheel for asciitree: filename=asciitree-0.3.3-py3-none-any.whl size=5050 sha256=1bc1b94d632efd4ad5afd16033c3ea7277005863aafd9b663eda31958229d8d1\n",
            "  Stored in directory: /root/.cache/pip/wheels/12/1c/38/0def51e15add93bff3f4bf9c248b94db0839b980b8535e72a0\n",
            "Successfully built ffmpy gpytorch jams mir-eval asciitree\n",
            "Installing collected packages: ffmpeg-python, stempeg, pyaml, sox, simplejson, numcodecs, musdb, mir-eval, fasteners, asciitree, zarr, termtables, soxbindings, pytorch-ignite, pyloudnorm, norbert, museval, jams, gpytorch, ffmpy, nussl\n",
            "Successfully installed asciitree-0.3.3 fasteners-0.17.3 ffmpeg-python-0.2.0 ffmpy-0.3.0 gpytorch-1.6.0 jams-0.3.4 mir-eval-0.7 musdb-0.4.0 museval-0.4.0 norbert-0.2.1 numcodecs-0.9.1 nussl-1.1.9 pyaml-21.10.1 pyloudnorm-0.1.0 pytorch-ignite-0.4.8 simplejson-3.17.6 sox-1.4.1 soxbindings-1.2.3 stempeg-0.2.3 termtables-0.2.4 zarr-2.11.0\n"
          ]
        }
      ]
    },
    {
      "cell_type": "markdown",
      "source": [
        "## Installation de voicesep"
      ],
      "metadata": {
        "id": "DxRxDiuzlNLt"
      }
    },
    {
      "cell_type": "code",
      "source": [
        "!pip install git+https://github.com/MickaRiv/ProjetDatascientest-VoiceSeparator"
      ],
      "metadata": {
        "id": "XnAjLWyDlQeI",
        "outputId": "c37c2980-adb8-429a-97b8-a3858abf5036",
        "colab": {
          "base_uri": "https://localhost:8080/"
        }
      },
      "execution_count": null,
      "outputs": [
        {
          "output_type": "stream",
          "name": "stdout",
          "text": [
            "Collecting git+https://github.com/MickaRiv/ProjetDatascientest-VoiceSeparator\n",
            "  Cloning https://github.com/MickaRiv/ProjetDatascientest-VoiceSeparator to /tmp/pip-req-build-rtbu3haz\n",
            "  Running command git clone -q https://github.com/MickaRiv/ProjetDatascientest-VoiceSeparator /tmp/pip-req-build-rtbu3haz\n",
            "Building wheels for collected packages: voice-separator\n",
            "  Building wheel for voice-separator (setup.py) ... \u001b[?25l\u001b[?25hdone\n",
            "  Created wheel for voice-separator: filename=voice_separator-0.0.1-py3-none-any.whl size=7671 sha256=a2707e30f9502a5452d385413b8cfe87e99006f81fc8f1f51f98c994ad48b5cc\n",
            "  Stored in directory: /tmp/pip-ephem-wheel-cache-5vhh6r2a/wheels/89/ad/91/9cded351057b1a842fbbfa97f091da426d85036b0efd2e0273\n",
            "Successfully built voice-separator\n",
            "Installing collected packages: voice-separator\n",
            "Successfully installed voice-separator-0.0.1\n"
          ]
        }
      ]
    },
    {
      "cell_type": "markdown",
      "metadata": {
        "id": "MPX4IqQv-VfG"
      },
      "source": [
        "## Imports"
      ]
    },
    {
      "cell_type": "code",
      "metadata": {
        "id": "pqGKL8p6-b9V",
        "outputId": "e552ef13-4c9f-4f2a-e0ef-4142cc06991d",
        "colab": {
          "base_uri": "https://localhost:8080/"
        }
      },
      "source": [
        "# Chargement des paquets\n",
        "import pandas as pd\n",
        "import matplotlib.pyplot as plt\n",
        "import seaborn as sns\n",
        "#import librosa\n",
        "import nussl\n",
        "import numpy as np\n",
        "import os,sys\n",
        "import glob\n",
        "from sklearn.preprocessing import MinMaxScaler\n",
        "#import importlib # pour mise à jour des lib en développement\n"
      ],
      "execution_count": null,
      "outputs": [
        {
          "output_type": "stream",
          "name": "stderr",
          "text": [
            "SoX could not be found!\n",
            "\n",
            "    If you do not have SoX, proceed here:\n",
            "     - - - http://sox.sourceforge.net/ - - -\n",
            "\n",
            "    If you do (or think that you should) have SoX, double-check your\n",
            "    path variables.\n",
            "    \n"
          ]
        }
      ]
    },
    {
      "cell_type": "markdown",
      "source": [
        "# Préparation de l'environnement de travail"
      ],
      "metadata": {
        "id": "gKDnHFHblV15"
      }
    },
    {
      "cell_type": "markdown",
      "source": [
        "**Cette étape est cruciale pour le bon fonctionnement du notebook.**"
      ],
      "metadata": {
        "id": "vwY3HLwVn1bb"
      }
    },
    {
      "cell_type": "markdown",
      "metadata": {
        "id": "uupQ_3YVjywo"
      },
      "source": [
        "## Montage du drive"
      ]
    },
    {
      "cell_type": "markdown",
      "source": [
        "Dans ce notebook, le montage du drive sert principalement à récupérer les modèle UNet existants et à sauvegarder les métriques calculées, mais aussi potentiellement à positionner le dossier temporaire des prédictions Demucs et Spleeter."
      ],
      "metadata": {
        "id": "QqF-LLe2mtpK"
      }
    },
    {
      "cell_type": "code",
      "metadata": {
        "id": "6o8wSI0nimOg",
        "colab": {
          "base_uri": "https://localhost:8080/"
        },
        "outputId": "6695efd3-d130-4648-c05e-0cb32b7f9ea9"
      },
      "source": [
        "from google.colab import drive # import drive from google colab\n",
        "drive.mount(\"/content/drive\")  # we mount the google drive at /content/drive"
      ],
      "execution_count": null,
      "outputs": [
        {
          "output_type": "stream",
          "name": "stdout",
          "text": [
            "Mounted at /content/drive\n"
          ]
        }
      ]
    },
    {
      "cell_type": "markdown",
      "source": [
        "## Définition des emplacements des dossiers"
      ],
      "metadata": {
        "id": "iy-h63jThvZA"
      }
    },
    {
      "cell_type": "markdown",
      "source": [
        "Choix d'un nouveau dossier de sauvegarde pour les métriques."
      ],
      "metadata": {
        "id": "LcVfvcNPl83F"
      }
    },
    {
      "cell_type": "code",
      "source": [
        "metrics_path = os.path.join(\"/content\", \"drive\", \"MyDrive\", \"Projet Datascientest\", \"metrics\")\n",
        "\n",
        "# Création automatique du dossier de métriques si nécessaire\n",
        "if not os.path.exists(metrics_path):\n",
        "  os.mkdir(metrics_path)"
      ],
      "metadata": {
        "id": "xMPghNW6hAq8"
      },
      "execution_count": null,
      "outputs": []
    },
    {
      "cell_type": "markdown",
      "source": [
        "Sélection du dossier existant de stockage des modèles UNet."
      ],
      "metadata": {
        "id": "TaANOHC4mbOt"
      }
    },
    {
      "cell_type": "code",
      "source": [
        "unets_path = os.path.join(\"/content\", \"drive\", \"MyDrive\", \"Projet Datascientest\", \"UNet\")"
      ],
      "metadata": {
        "id": "G6_Es3ePmYNC"
      },
      "execution_count": null,
      "outputs": []
    },
    {
      "cell_type": "markdown",
      "source": [
        "Sélection du dossier musdb18 contenant les musiques."
      ],
      "metadata": {
        "id": "q5rI56E2ngqo"
      }
    },
    {
      "cell_type": "code",
      "source": [
        "musdb_path = os.path.join(\"/content\", \"drive\", \"MyDrive\", \"Projet Datascientest\", \"musdb18\")"
      ],
      "metadata": {
        "id": "dvTfjQdlnqR2"
      },
      "execution_count": null,
      "outputs": []
    },
    {
      "cell_type": "markdown",
      "source": [
        "## Choix du dossier temporaire pour les prédictions"
      ],
      "metadata": {
        "id": "jqj-a07zh2Rd"
      }
    },
    {
      "cell_type": "markdown",
      "source": [
        "Ce dossier peut être positionné, au choix :\n",
        "- sur le drive qui a été connecté\n",
        "- en local dans colab"
      ],
      "metadata": {
        "id": "qjAkDGael7LG"
      }
    },
    {
      "cell_type": "code",
      "source": [
        "# Pour un dossier sur drive\n",
        "tmp_path = os.path.join(\"/content\", \"drive\", \"MyDrive\",\"Projet Datascientest\", \"tmp\")\n",
        "# Pour un dossier en local\n",
        "#tmp_path = \"tmp\"\n",
        "\n",
        "# Création automatique des chemins si nécessaire\n",
        "if not os.path.exists(tmp_path):\n",
        "  os.mkdir(tmp_path)\n",
        "in_path = os.path.join(tmp_path,\"input\")\n",
        "if not os.path.exists(in_path):\n",
        "  os.mkdir(in_path)\n",
        "out_path = os.path.join(tmp_path,\"output\")\n",
        "if not os.path.exists(out_path):\n",
        "  os.mkdir(out_path)"
      ],
      "metadata": {
        "id": "6PYAaDp6h2u3"
      },
      "execution_count": null,
      "outputs": []
    },
    {
      "cell_type": "markdown",
      "metadata": {
        "id": "OO1TYLaqq_rs"
      },
      "source": [
        "# Comparaison sur toutes les musiques\n"
      ]
    },
    {
      "cell_type": "markdown",
      "metadata": {
        "id": "pNJ3OZJN50Vl"
      },
      "source": [
        "## Téléchargement des données"
      ]
    },
    {
      "cell_type": "code",
      "metadata": {
        "id": "1ul51ZZbqN3t"
      },
      "source": [
        "# Récupération de la base de données musdb18 depuis google drive\n",
        "from voicesep.core import get_musdb_data\n",
        "\n",
        "musdb_test = get_musdb_data(gather_accompaniment=True,folder=musdb_path,subfolder=\"test\")"
      ],
      "execution_count": null,
      "outputs": []
    },
    {
      "cell_type": "markdown",
      "metadata": {
        "id": "zaLc6xRHBlFp"
      },
      "source": [
        "## Méthodes existantes"
      ]
    },
    {
      "cell_type": "code",
      "metadata": {
        "id": "asHICvCY1qhu"
      },
      "source": [
        "from voicesep.models import evaluate_dict_models"
      ],
      "execution_count": null,
      "outputs": []
    },
    {
      "cell_type": "markdown",
      "source": [
        "### Méthodes primitives"
      ],
      "metadata": {
        "id": "rCK9ZcnpoqGb"
      }
    },
    {
      "cell_type": "markdown",
      "source": [
        "La méthode Timbre clustering est très gourmande en RAM, et requiert un important sous-échantillonnage. Elle est donc traitée séparément des autres méthodes primitives.\n",
        "\n",
        "On peut remarquer que, grâce à une défintion par lambda fonctions, les objets des méthodes ne sont pas construits simultanément afin de ne pas surcharger la RAM. "
      ],
      "metadata": {
        "id": "ZcjGcS14ovJA"
      }
    },
    {
      "cell_type": "code",
      "source": [
        "methods = {\n",
        "           #\"TimbreClustering\": lambda mix,truth: nussl.separation.primitive.TimbreClustering(mix,2,50),\n",
        "           \"Repet\": lambda mix,truth: nussl.separation.primitive.Repet(mix),\n",
        "           \"RepetSim\": lambda mix,truth: nussl.separation.primitive.RepetSim(mix),\n",
        "           \"FT2D\": lambda mix,truth: nussl.separation.primitive.FT2D(mix),\n",
        "           \"HPSS\": lambda mix,truth: nussl.separation.primitive.HPSS(mix),\n",
        "           \"High-Low Pass\": lambda mix,truth: nussl.separation.benchmark.HighLowPassFilter(mix, 1000),\n",
        "           \"Ideal Binary Mask\": lambda mix,truth: nussl.separation.benchmark.IdealBinaryMask(mix,truth),\n",
        "           \"Ideal Ratio Mask\": lambda mix,truth: nussl.separation.benchmark.IdealRatioMask(mix,truth),\n",
        "          }\n",
        "\n",
        "freq = 16384\n",
        "for i in range(len(musdb_test)):\n",
        "  item = musdb_test[i]\n",
        "  mix = item[\"mix\"]\n",
        "  sources = item['sources']\n",
        "  truth = [sources['drums+bass+other'], sources['vocals']]\n",
        "  mix.resample(freq,res_type='kaiser_fast')\n",
        "  truth[0].resample(freq,res_type='kaiser_fast')\n",
        "  truth[1].resample(freq,res_type='kaiser_fast')\n",
        "\n",
        "  scores_list = []\n",
        "  for name,method in methods.items():\n",
        "    print(i,name)\n",
        "    scores_list.append(evaluate_dict_models({name:method(mix,truth)}, truth, visualize=False, report=False))\n",
        "  scores = pd.concat(scores_list)\n",
        "  save_path = os.path.join(metrics_path, f\"{i}_primitive.csv\")\n",
        "  scores.to_csv(save_path)"
      ],
      "metadata": {
        "id": "msqUfKlbgtc2"
      },
      "execution_count": null,
      "outputs": []
    },
    {
      "cell_type": "markdown",
      "source": [
        "La méthode Timbre clustering est donc utilisée ici, avec un sous-échantillonnage 4 fois plus léger."
      ],
      "metadata": {
        "id": "7ghIKYaEpeYH"
      }
    },
    {
      "cell_type": "code",
      "source": [
        "methods = {\n",
        "           \"TimbreClustering\": lambda mix,truth: nussl.separation.primitive.TimbreClustering(mix,2,50),\n",
        "           #\"Repet\": lambda mix,truth: nussl.separation.primitive.Repet(mix),\n",
        "           #\"RepetSim\": lambda mix,truth: nussl.separation.primitive.RepetSim(mix),\n",
        "           #\"FT2D\": lambda mix,truth: nussl.separation.primitive.FT2D(mix),\n",
        "           #\"HPSS\": lambda mix,truth: nussl.separation.primitive.HPSS(mix),\n",
        "           #\"High-Low Pass\": lambda mix,truth: nussl.separation.benchmark.HighLowPassFilter(mix, 1000),\n",
        "           #\"Ideal Binary Mask\": lambda mix,truth: nussl.separation.benchmark.IdealBinaryMask(mix,truth),\n",
        "           #\"Ideal Ratio Mask\": lambda mix,truth: nussl.separation.benchmark.IdealRatioMask(mix,truth),\n",
        "          }\n",
        "\n",
        "freq = 4096\n",
        "for i in range(len(musdb_test)):\n",
        "  item = musdb_test[i]\n",
        "  mix = item[\"mix\"]\n",
        "  sources = item['sources']\n",
        "  truth = [sources['drums+bass+other'], sources['vocals']]\n",
        "  mix.resample(freq,res_type='kaiser_fast')\n",
        "  truth[0].resample(freq,res_type='kaiser_fast')\n",
        "  truth[1].resample(freq,res_type='kaiser_fast')\n",
        "\n",
        "  scores_list = []\n",
        "  for name,method in methods.items():\n",
        "    print(i,name)\n",
        "    scores_list.append(evaluate_dict_models({name:method(mix,truth)}, truth, visualize=False, report=False))\n",
        "  scores = pd.concat(scores_list)\n",
        "  save_path = os.path.join(metrics_path, f\"{i}_primitive_TC.csv\")\n",
        "  scores.to_csv(save_path)"
      ],
      "metadata": {
        "id": "r2KiXAKA2VmJ"
      },
      "execution_count": null,
      "outputs": []
    },
    {
      "cell_type": "markdown",
      "source": [
        "### Méthodes Demucs deep"
      ],
      "metadata": {
        "id": "HGDjFIsQp1sd"
      }
    },
    {
      "cell_type": "markdown",
      "source": [
        "#### Installation de Demucs"
      ],
      "metadata": {
        "id": "0e1SoIUsp98y"
      }
    },
    {
      "cell_type": "code",
      "source": [
        "!pip install demucs"
      ],
      "metadata": {
        "id": "xeajsKWsU9oe"
      },
      "execution_count": null,
      "outputs": []
    },
    {
      "cell_type": "markdown",
      "source": [
        "#### Calcul des scores"
      ],
      "metadata": {
        "id": "oPMThCAhqCly"
      }
    },
    {
      "cell_type": "code",
      "source": [
        "from voicesep.demucs import DemucsModel\n",
        "\n",
        "for i in range(len(musdb_test)):\n",
        "  item = musdb_test[i]\n",
        "  mix = item[\"mix\"]\n",
        "  sources = item['sources']\n",
        "  truth = [sources['drums+bass+other'], sources['vocals']]\n",
        "\n",
        "  sep_class_dict = {\n",
        "                    \"Demucs MDX\": DemucsModel(mix,\"mdx\",in_path,out_path),\n",
        "                    \"Demucs MDX EXTRA\": DemucsModel(mix,\"mdx_extra\",in_path,out_path),\n",
        "                    \"Demucs MDX Q\": DemucsModel(mix,\"mdx_q\",in_path,out_path),\n",
        "                    \"Demucs MDX EXTRA Q\": DemucsModel(mix,\"mdx_extra_q\",in_path,out_path),\n",
        "                   }\n",
        "  print(i)\n",
        "  scores = evaluate_dict_models(sep_class_dict, truth, visualize=False, report=False)\n",
        "  save_path = os.path.join(metrics_path, f\"{i}_demucs.csv\")\n",
        "  scores.to_csv(save_path)"
      ],
      "metadata": {
        "id": "EkNlbWhlWB1s"
      },
      "execution_count": null,
      "outputs": []
    },
    {
      "cell_type": "markdown",
      "source": [
        "### Méthodes Open-Unmix deep"
      ],
      "metadata": {
        "id": "NSV7202WqJat"
      }
    },
    {
      "cell_type": "markdown",
      "source": [
        "#### Installation d'Open-Unmix"
      ],
      "metadata": {
        "id": "DkqdG378qNST"
      }
    },
    {
      "cell_type": "code",
      "source": [
        "!pip install openunmix"
      ],
      "metadata": {
        "id": "3bdn2bRLecrA"
      },
      "execution_count": null,
      "outputs": []
    },
    {
      "cell_type": "markdown",
      "source": [
        "#### Calcul des scores"
      ],
      "metadata": {
        "id": "ztRHpiaKqQNE"
      }
    },
    {
      "cell_type": "markdown",
      "source": [
        "**ATTENTION : Il arrive que les modèles Open-Unmix saturent la RAM, notamment sur les musiques longues.**"
      ],
      "metadata": {
        "id": "tutwgU6ztHpZ"
      }
    },
    {
      "cell_type": "code",
      "source": [
        "from voicesep.openunmix import OpenUnmixModel\n",
        "\n",
        "for i in range(len(musdb_test)):\n",
        "  item = musdb_test[i]\n",
        "  mix = item[\"mix\"]\n",
        "  sources = item['sources']\n",
        "  truth = [sources['drums+bass+other'], sources['vocals']]\n",
        "\n",
        "  sep_class_dict = {\n",
        "                    #\"OpenUnmix UMXL\": OpenUnmixModel(mix,\"umxl\"),\n",
        "                    #\"OpenUnmix UMXHQ\": OpenUnmixModel(mix,\"umxhq\"),\n",
        "                    \"OpenUnmix UMX\": OpenUnmixModel(mix,\"umx\"),\n",
        "                   }\n",
        "  print(i)\n",
        "  scores = evaluate_dict_models(sep_class_dict, truth, visualize=False, report=False)\n",
        "  save_path = os.path.join(metrics_path, f\"{i}_openunmix.csv\")\n",
        "  scores.to_csv(save_path)"
      ],
      "metadata": {
        "id": "W7n79pG61dja"
      },
      "execution_count": null,
      "outputs": []
    },
    {
      "cell_type": "markdown",
      "source": [
        "### Méthodes Spleeter deep"
      ],
      "metadata": {
        "id": "rPaO0VFbqVRf"
      }
    },
    {
      "cell_type": "markdown",
      "source": [
        "#### Installation de Spleeter"
      ],
      "metadata": {
        "id": "6FqLJPchqYDy"
      }
    },
    {
      "cell_type": "code",
      "source": [
        "!pip install spleeter"
      ],
      "metadata": {
        "id": "OyRYoNpul1t6"
      },
      "execution_count": null,
      "outputs": []
    },
    {
      "cell_type": "markdown",
      "source": [
        "#### Calcul des scores"
      ],
      "metadata": {
        "id": "vEcABUgzqaaq"
      }
    },
    {
      "cell_type": "code",
      "source": [
        "from voicesep.spleeter import SpleeterModel\n",
        "\n",
        "for i in range(len(musdb_test)):\n",
        "  item = musdb_test[i]\n",
        "  mix = item[\"mix\"]\n",
        "  sources = item['sources']\n",
        "  truth = [sources['drums+bass+other'], sources['vocals']]\n",
        "\n",
        "  sep_class_dict = {\n",
        "                    \"Spleeter\": SpleeterModel(mix,in_path,out_path),\n",
        "                   }\n",
        "  print(i)\n",
        "  scores = evaluate_dict_models(sep_class_dict, truth, visualize=False, report=False)\n",
        "  save_path = os.path.join(metrics_path, f\"{i}_spleeter.csv\")\n",
        "  scores.to_csv(save_path)"
      ],
      "metadata": {
        "id": "HGyKy7oY1fKj"
      },
      "execution_count": null,
      "outputs": []
    },
    {
      "cell_type": "markdown",
      "source": [
        "## UNets construits"
      ],
      "metadata": {
        "id": "UI9kfO3COP52"
      }
    },
    {
      "cell_type": "markdown",
      "source": [
        "Définition de la loss personnalisée, qui sera appelée si besoin plus bas."
      ],
      "metadata": {
        "id": "SF2xhkoFuC6M"
      }
    },
    {
      "cell_type": "code",
      "source": [
        "import tensorflow as tf\n",
        "\n",
        "def myloss(y_true, y_pred):\n",
        "  return tf.math.reduce_sum(abs(y_true - y_pred)) + abs(tf.math.reduce_sum(y_true) - tf.math.reduce_sum(y_pred))"
      ],
      "metadata": {
        "id": "dUe5ikqQSBgX"
      },
      "execution_count": null,
      "outputs": []
    },
    {
      "cell_type": "markdown",
      "source": [
        "Des modèle UNet avec différents jeux de paramètres ont été construits. Les scores sont calculés pour chaque jeu de paramètres séparément.\n",
        "\n",
        "Tout d'abord, les modèles avec échantillonnage à 8kHz."
      ],
      "metadata": {
        "id": "HaOfxsdzuJg2"
      }
    },
    {
      "cell_type": "code",
      "source": [
        "from tensorflow.keras.models import load_model\n",
        "from voicesep.unet import UNetModel\n",
        "\n",
        "freq = 8192\n",
        "window_length = 1023\n",
        "hop_length = 768\n",
        "patch_size = 128\n",
        "nfreq = 512\n",
        "\n",
        "models = {\n",
        "          \"model_20220202_quick\":{\"myloss\":myloss},\n",
        "          \"model_20220127_long_train_sd+ds\":{\"myloss\":myloss},\n",
        "          \"model_20220101_init\":{},\n",
        "         }\n",
        "\n",
        "unets = {model:load_model(os.path.join(unets_path,model),custom_objects=data)\n",
        "         for model,data in models.items()}\n",
        "\n",
        "for i in range(len(musdb_test)):\n",
        "  data = musdb_test[i]\n",
        "  truth = [data[\"sources\"]['drums+bass+other'], data[\"sources\"]['vocals']]\n",
        "  truth[0].resample(freq,res_type='kaiser_fast')\n",
        "  truth[1].resample(freq,res_type='kaiser_fast')\n",
        "  truth[0].to_mono()\n",
        "  truth[1].to_mono()\n",
        "\n",
        "  sep_class_dict = {\n",
        "                    name: UNetModel(data[\"mix\"],\n",
        "                                    unet,\n",
        "                                    freq=freq,\n",
        "                                    window_length=window_length,\n",
        "                                    hop_length=hop_length,\n",
        "                                    patch_size=patch_size,\n",
        "                                    nfreq=nfreq)\n",
        "                    for name,unet in unets.items()\n",
        "                   }\n",
        "  print(i)  \n",
        "  scores = evaluate_dict_models(sep_class_dict, truth, visualize=False, report=False)\n",
        "  save_path = os.path.join(metrics_path, f\"{i}_unet_8k.csv\")\n",
        "  scores.to_csv(save_path)"
      ],
      "metadata": {
        "id": "KBy1TfaTOXwf"
      },
      "execution_count": null,
      "outputs": []
    },
    {
      "cell_type": "markdown",
      "source": [
        "Puis les modèles échantillonés à 4kHz."
      ],
      "metadata": {
        "id": "o6kZvplTuicD"
      }
    },
    {
      "cell_type": "code",
      "source": [
        "from tensorflow.keras.models import load_model\n",
        "from voicesep.unet import UNetModel\n",
        "\n",
        "freq = 4096\n",
        "window_length = 511\n",
        "hop_length = 384\n",
        "patch_size = 64\n",
        "nfreq = 256\n",
        "\n",
        "models = {\n",
        "          \"model_20220207_aug=8_4k\":{},\n",
        "          \"model_20220206_90x2_2.3M_4k_L2\":{},\n",
        "          \"model_20220206_90x2_2.3M_4k_L2_long\":{},\n",
        "          \"model_20220202_100x2_2.3M_maxepoch\":{},\n",
        "         }\n",
        "\n",
        "unets = {model:load_model(os.path.join(unets_path,model),custom_objects=data)\n",
        "         for model,data in models.items()}\n",
        "\n",
        "for i in range(len(musdb_test)):\n",
        "  data = musdb_test[i]\n",
        "  truth = [data[\"sources\"]['drums+bass+other'], data[\"sources\"]['vocals']]\n",
        "  truth[0].resample(freq,res_type='kaiser_fast')\n",
        "  truth[1].resample(freq,res_type='kaiser_fast')\n",
        "  truth[0].to_mono()\n",
        "  truth[1].to_mono()\n",
        "\n",
        "  sep_class_dict = {\n",
        "                    name: UNetModel(data[\"mix\"],\n",
        "                                    unet,\n",
        "                                    freq=freq,\n",
        "                                    window_length=window_length,\n",
        "                                    hop_length=hop_length,\n",
        "                                    patch_size=patch_size,\n",
        "                                    nfreq=nfreq)\n",
        "                    for name,unet in unets.items()\n",
        "                   }\n",
        "  print(i)  \n",
        "  scores = evaluate_dict_models(sep_class_dict, truth, visualize=False, report=False)\n",
        "  save_path = os.path.join(metrics_path, f\"{i}_unet_4k.csv\")\n",
        "  scores.to_csv(save_path)"
      ],
      "metadata": {
        "id": "zyrluRhScZHH"
      },
      "execution_count": null,
      "outputs": []
    },
    {
      "cell_type": "markdown",
      "source": [
        "## Concaténation de tous les scores"
      ],
      "metadata": {
        "id": "VlTS2eo1k6ug"
      }
    },
    {
      "cell_type": "markdown",
      "source": [
        "Il est à noter que nous nous intéressons ici uniquement aux scores concernant la prédiction de la voix.\n",
        "\n",
        "Les méthodes sont ordonnées par score moyen croissant.\n",
        "\n",
        "*Note : si vous souhaitez seulement charger le dataframe de scores de référence, vous pouvez passer directement à son chargement, quelques cellules plus bas.*"
      ],
      "metadata": {
        "id": "4gd4cLDwrFrO"
      }
    },
    {
      "cell_type": "code",
      "source": [
        "metric_files = glob.glob(os.path.join(metrics_path,\"*.csv\"))\n",
        "df = pd.concat([pd.read_csv(file,header=1,index_col=0).dropna()[[\"SI-SDR.1\"]].rename(columns={(\"SI-SDR.1\"):file.split(os.sep)[-1].split(\"_\")[0]})\n",
        "                for file in metric_files if \"all_scores\" not in file],axis=1)\n",
        "def join(x):\n",
        "  return x[x.notnull()]\n",
        "df = df.groupby(level=0,axis=1).apply(lambda x: x.apply(join, axis=1))\n",
        "df.columns = [int(col[0]) for col in df.columns]\n",
        "df = df.transpose()\n",
        "df = df.reindex(df.mean().sort_values().index, axis=1)"
      ],
      "metadata": {
        "id": "8XiXn2AYkayz"
      },
      "execution_count": null,
      "outputs": []
    },
    {
      "cell_type": "markdown",
      "source": [
        "### Sauvegarde du dataframe construit"
      ],
      "metadata": {
        "id": "t7gZwIqjtbhR"
      }
    },
    {
      "cell_type": "code",
      "source": [
        "df.to_csv(os.path.join(metrics_path,\"all_scores.csv\"))"
      ],
      "metadata": {
        "id": "hSV8aq6rtbQj"
      },
      "execution_count": null,
      "outputs": []
    },
    {
      "cell_type": "markdown",
      "source": [
        "### Chargement du dataframe de référence sur GitHub"
      ],
      "metadata": {
        "id": "zEwP2PNqtonC"
      }
    },
    {
      "cell_type": "code",
      "source": [
        "url_liste_musdb18 = \"https://raw.githubusercontent.com/MickaRiv/ProjetDatascientest-VoiceSeparator/main/data/all_scores.csv\"\n",
        "df=pd.read_csv(url_liste_musdb18,index_col=0)"
      ],
      "metadata": {
        "id": "ZEAnZXMetsys"
      },
      "execution_count": null,
      "outputs": []
    },
    {
      "cell_type": "markdown",
      "source": [
        "## Affichage des scores"
      ],
      "metadata": {
        "id": "QF3nej2tqvQ4"
      }
    },
    {
      "cell_type": "markdown",
      "source": [
        "### SI-SDR"
      ],
      "metadata": {
        "id": "Gu0aQ70vq1LP"
      }
    },
    {
      "cell_type": "code",
      "source": [
        "plt.figure(figsize=(20,12))\n",
        "sns.boxenplot(data=df)\n",
        "plt.xticks(rotation=90)\n",
        "plt.show()"
      ],
      "metadata": {
        "colab": {
          "base_uri": "https://localhost:8080/",
          "height": 731
        },
        "id": "Ou2_KmTQk0Hj",
        "outputId": "b9436b26-c711-4528-f8ec-62ecd71bd7a1"
      },
      "execution_count": null,
      "outputs": [
        {
          "output_type": "display_data",
          "data": {
            "image/png": "[encoded data removed]",
            "text/plain": [
              "<Figure size 1440x864 with 1 Axes>"
            ]
          },
          "metadata": {
            "needs_background": "light"
          }
        }
      ]
    },
    {
      "cell_type": "markdown",
      "source": [
        "### SI-SDR normalisés"
      ],
      "metadata": {
        "id": "bUJfYlr9q8fq"
      }
    },
    {
      "cell_type": "code",
      "source": [
        "scaler = MinMaxScaler()\n",
        "df_scaled = pd.DataFrame(scaler.fit_transform(df.transpose()),index=df.columns).transpose()\n",
        "plt.figure(figsize=(20,12))\n",
        "sns.boxenplot(data=df_scaled)\n",
        "plt.xticks(rotation=90)\n",
        "plt.show()"
      ],
      "metadata": {
        "colab": {
          "base_uri": "https://localhost:8080/",
          "height": 735
        },
        "id": "hkj6AvrMkz20",
        "outputId": "1c1c9d1d-aecc-484d-e569-991660d56d2d"
      },
      "execution_count": null,
      "outputs": [
        {
          "output_type": "display_data",
          "data": {
            "image/png": "[encoded data removed]",
            "text/plain": [
              "<Figure size 1440x864 with 1 Axes>"
            ]
          },
          "metadata": {
            "needs_background": "light"
          }
        }
      ]
    }
  ]
}