{
  "nbformat": 4,
  "nbformat_minor": 0,
  "metadata": {
    "colab": {
      "name": "separation_de_voix.ipynb",
      "provenance": [],
      "collapsed_sections": [],
      "authorship_tag": "ABX9TyO1snanhcEJ0WHuojLp0UmL",
      "include_colab_link": true
    },
    "kernelspec": {
      "name": "python3",
      "display_name": "Python 3"
    },
    "language_info": {
      "name": "python"
    }
  },
  "cells": [
    {
      "cell_type": "markdown",
      "metadata": {
        "id": "view-in-github",
        "colab_type": "text"
      },
      "source": [
        "<a href=\"https://colab.research.google.com/github/MickaRiv/ProjetDatascientest-VoiceSeparator/blob/Ephi/separation_de_voix.ipynb\" target=\"_parent\"><img src=\"https://colab.research.google.com/assets/colab-badge.svg\" alt=\"Open In Colab\"/></a>"
      ]
    },
    {
      "cell_type": "code",
      "metadata": {
        "colab": {
          "base_uri": "https://localhost:8080/",
          "height": 600
        },
        "id": "xNmdENexm1vd",
        "outputId": "5e87ef13-28cd-4e78-ad7f-354fd6dfa99b"
      },
      "source": [
        "# à ne faire qu'une fois pour installer le paquet nussl\n",
        "#!pip install nussl\n",
        "\n",
        "# Chargement des paquets\n",
        "import pandas as pd\n",
        "import matplotlib.pyplot as plt\n",
        "import seaborn as sns\n",
        "import librosa\n",
        "import os"
      ],
      "execution_count": 1,
      "outputs": [
        {
          "output_type": "error",
          "ename": "KeyboardInterrupt",
          "evalue": "ignored",
          "traceback": [
            "\u001b[0;31m---------------------------------------------------------------------------\u001b[0m",
            "\u001b[0;31mKeyboardInterrupt\u001b[0m                         Traceback (most recent call last)",
            "\u001b[0;32m/usr/local/lib/python3.7/dist-packages/ipykernel/kernelbase.py\u001b[0m in \u001b[0;36m_input_request\u001b[0;34m(self, prompt, ident, parent, password)\u001b[0m\n\u001b[1;32m    728\u001b[0m             \u001b[0;32mtry\u001b[0m\u001b[0;34m:\u001b[0m\u001b[0;34m\u001b[0m\u001b[0;34m\u001b[0m\u001b[0m\n\u001b[0;32m--> 729\u001b[0;31m                 \u001b[0mident\u001b[0m\u001b[0;34m,\u001b[0m \u001b[0mreply\u001b[0m \u001b[0;34m=\u001b[0m \u001b[0mself\u001b[0m\u001b[0;34m.\u001b[0m\u001b[0msession\u001b[0m\u001b[0;34m.\u001b[0m\u001b[0mrecv\u001b[0m\u001b[0;34m(\u001b[0m\u001b[0mself\u001b[0m\u001b[0;34m.\u001b[0m\u001b[0mstdin_socket\u001b[0m\u001b[0;34m,\u001b[0m \u001b[0;36m0\u001b[0m\u001b[0;34m)\u001b[0m\u001b[0;34m\u001b[0m\u001b[0;34m\u001b[0m\u001b[0m\n\u001b[0m\u001b[1;32m    730\u001b[0m             \u001b[0;32mexcept\u001b[0m \u001b[0mException\u001b[0m\u001b[0;34m:\u001b[0m\u001b[0;34m\u001b[0m\u001b[0;34m\u001b[0m\u001b[0m\n",
            "\u001b[0;32m/usr/local/lib/python3.7/dist-packages/jupyter_client/session.py\u001b[0m in \u001b[0;36mrecv\u001b[0;34m(self, socket, mode, content, copy)\u001b[0m\n\u001b[1;32m    802\u001b[0m         \u001b[0;32mtry\u001b[0m\u001b[0;34m:\u001b[0m\u001b[0;34m\u001b[0m\u001b[0;34m\u001b[0m\u001b[0m\n\u001b[0;32m--> 803\u001b[0;31m             \u001b[0mmsg_list\u001b[0m \u001b[0;34m=\u001b[0m \u001b[0msocket\u001b[0m\u001b[0;34m.\u001b[0m\u001b[0mrecv_multipart\u001b[0m\u001b[0;34m(\u001b[0m\u001b[0mmode\u001b[0m\u001b[0;34m,\u001b[0m \u001b[0mcopy\u001b[0m\u001b[0;34m=\u001b[0m\u001b[0mcopy\u001b[0m\u001b[0;34m)\u001b[0m\u001b[0;34m\u001b[0m\u001b[0;34m\u001b[0m\u001b[0m\n\u001b[0m\u001b[1;32m    804\u001b[0m         \u001b[0;32mexcept\u001b[0m \u001b[0mzmq\u001b[0m\u001b[0;34m.\u001b[0m\u001b[0mZMQError\u001b[0m \u001b[0;32mas\u001b[0m \u001b[0me\u001b[0m\u001b[0;34m:\u001b[0m\u001b[0;34m\u001b[0m\u001b[0;34m\u001b[0m\u001b[0m\n",
            "\u001b[0;32m/usr/local/lib/python3.7/dist-packages/zmq/sugar/socket.py\u001b[0m in \u001b[0;36mrecv_multipart\u001b[0;34m(self, flags, copy, track)\u001b[0m\n\u001b[1;32m    624\u001b[0m         \"\"\"\n\u001b[0;32m--> 625\u001b[0;31m         \u001b[0mparts\u001b[0m \u001b[0;34m=\u001b[0m \u001b[0;34m[\u001b[0m\u001b[0mself\u001b[0m\u001b[0;34m.\u001b[0m\u001b[0mrecv\u001b[0m\u001b[0;34m(\u001b[0m\u001b[0mflags\u001b[0m\u001b[0;34m,\u001b[0m \u001b[0mcopy\u001b[0m\u001b[0;34m=\u001b[0m\u001b[0mcopy\u001b[0m\u001b[0;34m,\u001b[0m \u001b[0mtrack\u001b[0m\u001b[0;34m=\u001b[0m\u001b[0mtrack\u001b[0m\u001b[0;34m)\u001b[0m\u001b[0;34m]\u001b[0m\u001b[0;34m\u001b[0m\u001b[0;34m\u001b[0m\u001b[0m\n\u001b[0m\u001b[1;32m    626\u001b[0m         \u001b[0;31m# have first part already, only loop while more to receive\u001b[0m\u001b[0;34m\u001b[0m\u001b[0;34m\u001b[0m\u001b[0;34m\u001b[0m\u001b[0m\n",
            "\u001b[0;32mzmq/backend/cython/socket.pyx\u001b[0m in \u001b[0;36mzmq.backend.cython.socket.Socket.recv\u001b[0;34m()\u001b[0m\n",
            "\u001b[0;32mzmq/backend/cython/socket.pyx\u001b[0m in \u001b[0;36mzmq.backend.cython.socket.Socket.recv\u001b[0;34m()\u001b[0m\n",
            "\u001b[0;32mzmq/backend/cython/socket.pyx\u001b[0m in \u001b[0;36mzmq.backend.cython.socket._recv_copy\u001b[0;34m()\u001b[0m\n",
            "\u001b[0;32m/usr/local/lib/python3.7/dist-packages/zmq/backend/cython/checkrc.pxd\u001b[0m in \u001b[0;36mzmq.backend.cython.checkrc._check_rc\u001b[0;34m()\u001b[0m\n",
            "\u001b[0;31mKeyboardInterrupt\u001b[0m: ",
            "\nDuring handling of the above exception, another exception occurred:\n",
            "\u001b[0;31mKeyboardInterrupt\u001b[0m                         Traceback (most recent call last)",
            "\u001b[0;32m<ipython-input-1-410606f28104>\u001b[0m in \u001b[0;36m<module>\u001b[0;34m()\u001b[0m\n\u001b[1;32m     16\u001b[0m \u001b[0;32mfrom\u001b[0m \u001b[0mgoogle\u001b[0m\u001b[0;34m.\u001b[0m\u001b[0mcolab\u001b[0m \u001b[0;32mimport\u001b[0m \u001b[0mdrive\u001b[0m\u001b[0;34m\u001b[0m\u001b[0;34m\u001b[0m\u001b[0m\n\u001b[1;32m     17\u001b[0m \u001b[0;31m# montage du compte drive\u001b[0m\u001b[0;34m\u001b[0m\u001b[0;34m\u001b[0m\u001b[0;34m\u001b[0m\u001b[0m\n\u001b[0;32m---> 18\u001b[0;31m \u001b[0mdrive\u001b[0m\u001b[0;34m.\u001b[0m\u001b[0mmount\u001b[0m\u001b[0;34m(\u001b[0m\u001b[0;34m'/content/drive'\u001b[0m\u001b[0;34m)\u001b[0m\u001b[0;34m\u001b[0m\u001b[0;34m\u001b[0m\u001b[0m\n\u001b[0m\u001b[1;32m     19\u001b[0m \u001b[0;34m\u001b[0m\u001b[0m\n\u001b[1;32m     20\u001b[0m \u001b[0;31m# Lecture du csv contenant le listing des musiques\u001b[0m\u001b[0;34m\u001b[0m\u001b[0;34m\u001b[0m\u001b[0;34m\u001b[0m\u001b[0m\n",
            "\u001b[0;32m/usr/local/lib/python3.7/dist-packages/google/colab/drive.py\u001b[0m in \u001b[0;36mmount\u001b[0;34m(mountpoint, force_remount, timeout_ms, use_metadata_server)\u001b[0m\n\u001b[1;32m    111\u001b[0m       \u001b[0mtimeout_ms\u001b[0m\u001b[0;34m=\u001b[0m\u001b[0mtimeout_ms\u001b[0m\u001b[0;34m,\u001b[0m\u001b[0;34m\u001b[0m\u001b[0;34m\u001b[0m\u001b[0m\n\u001b[1;32m    112\u001b[0m       \u001b[0muse_metadata_server\u001b[0m\u001b[0;34m=\u001b[0m\u001b[0muse_metadata_server\u001b[0m\u001b[0;34m,\u001b[0m\u001b[0;34m\u001b[0m\u001b[0;34m\u001b[0m\u001b[0m\n\u001b[0;32m--> 113\u001b[0;31m       ephemeral=ephemeral)\n\u001b[0m\u001b[1;32m    114\u001b[0m \u001b[0;34m\u001b[0m\u001b[0m\n\u001b[1;32m    115\u001b[0m \u001b[0;34m\u001b[0m\u001b[0m\n",
            "\u001b[0;32m/usr/local/lib/python3.7/dist-packages/google/colab/drive.py\u001b[0m in \u001b[0;36m_mount\u001b[0;34m(mountpoint, force_remount, timeout_ms, use_metadata_server, ephemeral)\u001b[0m\n\u001b[1;32m    290\u001b[0m       \u001b[0;32mwith\u001b[0m \u001b[0m_output\u001b[0m\u001b[0;34m.\u001b[0m\u001b[0muse_tags\u001b[0m\u001b[0;34m(\u001b[0m\u001b[0;34m'dfs-auth-dance'\u001b[0m\u001b[0;34m)\u001b[0m\u001b[0;34m:\u001b[0m\u001b[0;34m\u001b[0m\u001b[0;34m\u001b[0m\u001b[0m\n\u001b[1;32m    291\u001b[0m         \u001b[0;32mwith\u001b[0m \u001b[0mopen\u001b[0m\u001b[0;34m(\u001b[0m\u001b[0mfifo\u001b[0m\u001b[0;34m,\u001b[0m \u001b[0;34m'w'\u001b[0m\u001b[0;34m)\u001b[0m \u001b[0;32mas\u001b[0m \u001b[0mfifo_file\u001b[0m\u001b[0;34m:\u001b[0m\u001b[0;34m\u001b[0m\u001b[0;34m\u001b[0m\u001b[0m\n\u001b[0;32m--> 292\u001b[0;31m           \u001b[0mfifo_file\u001b[0m\u001b[0;34m.\u001b[0m\u001b[0mwrite\u001b[0m\u001b[0;34m(\u001b[0m\u001b[0mget_code\u001b[0m\u001b[0;34m(\u001b[0m\u001b[0mauth_prompt\u001b[0m\u001b[0;34m)\u001b[0m \u001b[0;34m+\u001b[0m \u001b[0;34m'\\n'\u001b[0m\u001b[0;34m)\u001b[0m\u001b[0;34m\u001b[0m\u001b[0;34m\u001b[0m\u001b[0m\n\u001b[0m\u001b[1;32m    293\u001b[0m       \u001b[0mwrote_to_fifo\u001b[0m \u001b[0;34m=\u001b[0m \u001b[0;32mTrue\u001b[0m\u001b[0;34m\u001b[0m\u001b[0;34m\u001b[0m\u001b[0m\n\u001b[1;32m    294\u001b[0m     \u001b[0;32melif\u001b[0m \u001b[0mcase\u001b[0m \u001b[0;34m==\u001b[0m \u001b[0;36m5\u001b[0m\u001b[0;34m:\u001b[0m\u001b[0;34m\u001b[0m\u001b[0;34m\u001b[0m\u001b[0m\n",
            "\u001b[0;32m/usr/local/lib/python3.7/dist-packages/ipykernel/kernelbase.py\u001b[0m in \u001b[0;36mraw_input\u001b[0;34m(self, prompt)\u001b[0m\n\u001b[1;32m    702\u001b[0m             \u001b[0mself\u001b[0m\u001b[0;34m.\u001b[0m\u001b[0m_parent_ident\u001b[0m\u001b[0;34m,\u001b[0m\u001b[0;34m\u001b[0m\u001b[0;34m\u001b[0m\u001b[0m\n\u001b[1;32m    703\u001b[0m             \u001b[0mself\u001b[0m\u001b[0;34m.\u001b[0m\u001b[0m_parent_header\u001b[0m\u001b[0;34m,\u001b[0m\u001b[0;34m\u001b[0m\u001b[0;34m\u001b[0m\u001b[0m\n\u001b[0;32m--> 704\u001b[0;31m             \u001b[0mpassword\u001b[0m\u001b[0;34m=\u001b[0m\u001b[0;32mFalse\u001b[0m\u001b[0;34m,\u001b[0m\u001b[0;34m\u001b[0m\u001b[0;34m\u001b[0m\u001b[0m\n\u001b[0m\u001b[1;32m    705\u001b[0m         )\n\u001b[1;32m    706\u001b[0m \u001b[0;34m\u001b[0m\u001b[0m\n",
            "\u001b[0;32m/usr/local/lib/python3.7/dist-packages/ipykernel/kernelbase.py\u001b[0m in \u001b[0;36m_input_request\u001b[0;34m(self, prompt, ident, parent, password)\u001b[0m\n\u001b[1;32m    732\u001b[0m             \u001b[0;32mexcept\u001b[0m \u001b[0mKeyboardInterrupt\u001b[0m\u001b[0;34m:\u001b[0m\u001b[0;34m\u001b[0m\u001b[0;34m\u001b[0m\u001b[0m\n\u001b[1;32m    733\u001b[0m                 \u001b[0;31m# re-raise KeyboardInterrupt, to truncate traceback\u001b[0m\u001b[0;34m\u001b[0m\u001b[0;34m\u001b[0m\u001b[0;34m\u001b[0m\u001b[0m\n\u001b[0;32m--> 734\u001b[0;31m                 \u001b[0;32mraise\u001b[0m \u001b[0mKeyboardInterrupt\u001b[0m\u001b[0;34m\u001b[0m\u001b[0;34m\u001b[0m\u001b[0m\n\u001b[0m\u001b[1;32m    735\u001b[0m             \u001b[0;32melse\u001b[0m\u001b[0;34m:\u001b[0m\u001b[0;34m\u001b[0m\u001b[0;34m\u001b[0m\u001b[0m\n\u001b[1;32m    736\u001b[0m                 \u001b[0;32mbreak\u001b[0m\u001b[0;34m\u001b[0m\u001b[0;34m\u001b[0m\u001b[0m\n",
            "\u001b[0;31mKeyboardInterrupt\u001b[0m: "
          ]
        }
      ]
    },
    {
      "cell_type": "markdown",
      "metadata": {
        "id": "QLvPsWWtrQMK"
      },
      "source": [
        "## **Préparation des données**"
      ]
    },
    {
      "cell_type": "code",
      "metadata": {
        "id": "oIT6bSsioYyK"
      },
      "source": [
        "#------------------------------------\n",
        "# Préparation des données\n",
        "#------------------------------------\n",
        "\n",
        "# pour fonctionner dans google collab\n",
        "from google.colab import drive\n",
        "# montage du compte drive\n",
        "drive.mount('/content/drive')\n",
        "\n",
        "# Lecture du csv contenant le listing des musiques\n",
        "url='https://docs.google.com/spreadsheets/d/e/2PACX-1vSYacI0OMN9buRCXZRBrIKgGg6NbcP1HXMDbNElVidLn72JJWs-0sSImGjUedBWKURR5bs2_F_mjWi0/pub?gid=0&single=true&output=csv'\n",
        "df=pd.read_csv(url)\n",
        "df.head()\n",
        "\n",
        "# Correction de quelques coquilles de frappe dans le csv\n",
        "df = df.replace('Jokers Jacks & Kings - Sea Of Leaves','Jokers, Jacks & Kings - Sea Of Leaves')\n",
        "df = df.replace('Patrick Talbot - Set Free Me','Patrick Talbot - Set Me Free')"
      ],
      "execution_count": null,
      "outputs": []
    },
    {
      "cell_type": "code",
      "metadata": {
        "id": "mhBOAOvEnPdb"
      },
      "source": [
        "# fonction pour localiser un titre de musdb18\n",
        "# retourne train ou test ou \"not found\"\n",
        "def train_or_test(track_name):\n",
        "  def file_in(directory):\n",
        "    return os.path.exists(os.path.join(\"drive\",\"MyDrive\",\"Projet Datascientest\",\"musdb18\",directory,f\"{track_name}.stem.mp4\"))\n",
        "  for directory in [\"train\",\"test\"]:\n",
        "    if file_in(directory):\n",
        "      return directory\n",
        "  else:\n",
        "    raise IOError(f\"Track '{track_name}' not found\")"
      ],
      "execution_count": null,
      "outputs": []
    },
    {
      "cell_type": "code",
      "metadata": {
        "id": "THyY_qCTouyI"
      },
      "source": [
        "# fonction appliquée au df qui retourne la durée en secondes des titres dans une série\n",
        "def track_duration(track_info):\n",
        "  file = os.path.join(\"drive\",\"MyDrive\",\"Projet Datascientest\",\"musdb18\",track_info[\"Dataset\"],f\"{track_info['Track Name']}.stem.mp4\")\n",
        "  return librosa.get_duration(filename=file)"
      ],
      "execution_count": null,
      "outputs": []
    },
    {
      "cell_type": "code",
      "metadata": {
        "id": "oIfj4UAKoyt2"
      },
      "source": [
        "# création de 2 colonnes grâce aux 2 fonctions précédentes\n",
        "# Dataset : train/test\n",
        "# Duration : durée de la musique\n",
        "df[\"Dataset\"] = df[\"Track Name\"].apply(train_or_test)\n",
        "df[\"Duration\"] = df.apply(track_duration,axis=1)\n",
        "df"
      ],
      "execution_count": null,
      "outputs": []
    },
    {
      "cell_type": "markdown",
      "metadata": {
        "id": "2oMOWN2RrLrH"
      },
      "source": [
        "## **premières visualisations des données**"
      ]
    },
    {
      "cell_type": "code",
      "metadata": {
        "id": "Wo_jTWwkpjnU"
      },
      "source": [
        "#------------------------------------\n",
        "# premières visualisations des données\n",
        "#------------------------------------\n",
        "# nombre de musiques en fonction de leur genre\n",
        "plt.figure(figsize=(12,6))\n",
        "sns.countplot(df['Genre'],order=df['Genre'].value_counts().index)\n",
        "plt.show()"
      ],
      "execution_count": null,
      "outputs": []
    },
    {
      "cell_type": "code",
      "metadata": {
        "id": "t5TLygSdpx8Y"
      },
      "source": [
        "# nombre de musiques en fonction de leur genre et de leur set (train ou test)\n",
        "plt.figure(figsize=(12,6))\n",
        "sns.countplot(df['Genre'],order=df['Genre'].value_counts().index,hue=df[\"Dataset\"])\n",
        "plt.show()"
      ],
      "execution_count": null,
      "outputs": []
    },
    {
      "cell_type": "code",
      "metadata": {
        "id": "dH-Bq8M1qJpB"
      },
      "source": [
        "# nombre de musiques en fonction de leur durée avec distribution\n",
        "sns.histplot(df['Duration'],kde=True)\n",
        "plt.show()"
      ],
      "execution_count": null,
      "outputs": []
    },
    {
      "cell_type": "code",
      "metadata": {
        "id": "j3tzJSu5qLus"
      },
      "source": [
        "# nombre de musiques en fonction de leur durée et de leur set (train ou test)\n",
        "sns.histplot(df['Duration'][df[\"Dataset\"]==\"train\"],label=\"train\")\n",
        "sns.histplot(df['Duration'][df[\"Dataset\"]==\"test\"],label=\"test\",color=\"orange\")\n",
        "plt.legend()\n",
        "plt.show()"
      ],
      "execution_count": null,
      "outputs": []
    },
    {
      "cell_type": "code",
      "metadata": {
        "id": "fU96bQjLqMDt"
      },
      "source": [
        "# Affichage des 10 musique les plus courtes\n",
        "df.sort_values(by=\"Duration\").head(10)"
      ],
      "execution_count": null,
      "outputs": []
    },
    {
      "cell_type": "code",
      "metadata": {
        "id": "ODWh49ohqNN_"
      },
      "source": [
        "# quelques stats sur l'échantillon de test\n",
        "# seule la durée est numérique donc on ne voit qu'elle\n",
        "df[df[\"Dataset\"]==\"test\"].describe()"
      ],
      "execution_count": null,
      "outputs": []
    },
    {
      "cell_type": "code",
      "metadata": {
        "id": "n5rile5SqNcw"
      },
      "source": [
        "# quelques stats sur l'échantillon d'entrainement train\n",
        "# seule la durée est numérique donc on ne voit qu'elle\n",
        "df[df[\"Dataset\"]==\"train\"].describe()"
      ],
      "execution_count": null,
      "outputs": []
    },
    {
      "cell_type": "markdown",
      "metadata": {
        "id": "OO1TYLaqq_rs"
      },
      "source": [
        "## **exploration/analyse des données**\n"
      ]
    },
    {
      "cell_type": "code",
      "metadata": {
        "id": "8R4WmAG2qNrT"
      },
      "source": [
        "#------------------------------------\n",
        "# exploration/analyse des données\n",
        "#------------------------------------\n",
        "import nussl\n",
        "from IPython.display import Audio\n",
        "from IPython.display import display as AudioDisplay"
      ],
      "execution_count": null,
      "outputs": []
    },
    {
      "cell_type": "code",
      "metadata": {
        "id": "1ul51ZZbqN3t"
      },
      "source": [
        "# MUSDB18 est déjà dans le paquet nussl, \n",
        "# on s'appuie donc sur les fonctions de ce paquet\n",
        "\n",
        "# création d'un paquet musdb avec 7s secondes de chaque musique de la base musdb18\n",
        "# sera dans /root/.nussl/musdb18\n",
        "musdb = nussl.datasets.MUSDB18(download=True)"
      ],
      "execution_count": null,
      "outputs": []
    },
    {
      "cell_type": "code",
      "metadata": {
        "id": "_-9zGty3qOEc"
      },
      "source": [
        "# on importe ce paquet, on stocke (télécharge) dans mus on regarde le nombre de musiques\n",
        "# root/MUSDB18/MUSDB18-7\n",
        "# 144 dans nussl au lieu de 150 dans ce que DataScientest\n",
        "# les 6 manquantes sont celles qui durent moins de 30 secondes et\n",
        "# qui s'appellent ...Delta...\n",
        "import musdb as musdb_package\n",
        "mus = musdb_package.DB(download=True)\n",
        "len(mus)"
      ],
      "execution_count": null,
      "outputs": []
    },
    {
      "cell_type": "code",
      "metadata": {
        "id": "PVguhHD7qOSC"
      },
      "source": [
        "# on imprime les titres et numéros de musique dont le titre contient \"elta\"\n",
        "print([(i,mus[i].name,\"\\n\") for i in range(len(mus)) if (\"elta\" in mus[i].name)])"
      ],
      "execution_count": null,
      "outputs": []
    },
    {
      "cell_type": "code",
      "metadata": {
        "id": "6rCQj0uWqPrE"
      },
      "source": [
        "# écoute des titres pour en sélectionner quelques uns\n",
        "display_audio_mix = True\n",
        "display_audio_sources = True\n",
        "i = 54#54  #  stany : j'en choisis un avec une voix assez présente avec pas mal d'harmoniques\n"
      ],
      "execution_count": null,
      "outputs": []
    },
    {
      "cell_type": "code",
      "metadata": {
        "id": "Co5acaVRqP95"
      },
      "source": [
        "# la musique mélangée (mix)\n",
        "if display_audio_mix:\n",
        "  AudioDisplay(Audio(data=musdb[i]['mix'].audio_data, rate=musdb[i]['mix'].sample_rate))\n"
      ],
      "execution_count": null,
      "outputs": []
    },
    {
      "cell_type": "code",
      "metadata": {
        "id": "lLLnYpOCqQNV"
      },
      "source": [
        "# la musique décomposée par source (drums, bass, others, vocals)\n",
        "if display_audio_sources:\n",
        "  for source,source_data in musdb[i]['sources'].items():\n",
        "    print(source)\n",
        "    AudioDisplay(Audio(data=source_data.audio_data, rate=source_data.sample_rate))"
      ],
      "execution_count": null,
      "outputs": []
    },
    {
      "cell_type": "markdown",
      "metadata": {
        "id": "AalJRyrxq2bg"
      },
      "source": [
        "## **Visualisation des données audio de i**"
      ]
    },
    {
      "cell_type": "code",
      "metadata": {
        "id": "HtXpIeSIqQf2"
      },
      "source": [
        "# Signal temporel du mix\n",
        "print(\"mix\")\n",
        "plt.figure(figsize=(10,8))\n",
        "plt.subplot(311)\n",
        "nussl.core.utils.visualize_sources_as_waveform({\"Mix\": musdb[i]['mix']})"
      ],
      "execution_count": null,
      "outputs": []
    },
    {
      "cell_type": "code",
      "metadata": {
        "id": "OwB19jZFqKNs"
      },
      "source": [
        "# Signaux temporels des 4 sources superposées\n",
        "plt.subplot(312)\n",
        "nussl.core.utils.visualize_sources_as_waveform(musdb[i]['sources'])"
      ],
      "execution_count": null,
      "outputs": []
    },
    {
      "cell_type": "code",
      "metadata": {
        "id": "n1cXXa6mp0D2"
      },
      "source": [
        "# Signaux temporels de la voix et de l'accompagnement superposés\n",
        "plt.subplot(313)\n",
        "nussl.core.utils.visualize_sources_as_waveform({\"Vocal\":musdb[i]['sources'][\"vocals\"],\"Accompagnement\":musdb[i]['sources'][\"drums\"]+musdb[i]['sources'][\"bass\"]+musdb[i]['sources'][\"other\"]})\n",
        "plt.tight_layout()\n",
        "plt.show()"
      ],
      "execution_count": null,
      "outputs": []
    },
    {
      "cell_type": "code",
      "metadata": {
        "id": "8JVV_rE-rjTt"
      },
      "source": [
        "# spectogrammes\n",
        "plt.figure(figsize=(12,4))"
      ],
      "execution_count": null,
      "outputs": []
    },
    {
      "cell_type": "code",
      "metadata": {
        "id": "f0ZUGVpOrjiQ"
      },
      "source": [
        "# spectogramme du mix en fréquence\n",
        "# stany : je mets en log pour être comparatif freq/mel et une légende en dB\n",
        "plt.subplot(121)\n",
        "nussl.core.utils.visualize_spectrogram(musdb[i]['mix'],y_axis='log')\n",
        "plt.colorbar(format='%+2.0f dB')"
      ],
      "execution_count": null,
      "outputs": []
    },
    {
      "cell_type": "code",
      "metadata": {
        "id": "0RqTNfNErjvP"
      },
      "source": [
        "# spectogramme du mix en mel\n",
        "plt.subplot(122)\n",
        "nussl.core.utils.visualize_spectrogram(musdb[i]['mix'],y_axis=\"mel\")\n",
        "plt.colorbar(format='%+2.0f dB')\n",
        "plt.tight_layout()\n",
        "plt.show()"
      ],
      "execution_count": null,
      "outputs": []
    },
    {
      "cell_type": "code",
      "metadata": {
        "id": "hHzH4LlOrj7w"
      },
      "source": [
        "# spectogramme du mix en fréquence, échelle linéaire\n",
        "# stany : spectr total/voix/acc - zoom fréquence pour bien voir la voix\n",
        "plt.figure(figsize=(12,6))\n",
        "plt.subplot(311)\n",
        "nussl.core.utils.visualize_spectrogram(musdb[i]['mix'],y_axis='linear')\n",
        "plt.colorbar(format='%+2.0f dB')\n",
        "plt.ylim(0,2000)\n",
        "plt.title('Mélange')"
      ],
      "execution_count": null,
      "outputs": []
    },
    {
      "cell_type": "code",
      "metadata": {
        "id": "dRX-pnCOrkH7"
      },
      "source": [
        "# spectogramme de la voix en fréquence, échelle linéaire\n",
        "plt.subplot(312)\n",
        "nussl.core.utils.visualize_spectrogram(musdb[i]['sources'][\"vocals\"],y_axis='linear')\n",
        "plt.colorbar(format='%+2.0f dB')\n",
        "plt.ylim(0,2000)\n",
        "plt.title('Voix')"
      ],
      "execution_count": null,
      "outputs": []
    },
    {
      "cell_type": "code",
      "metadata": {
        "id": "VL9_pJk2rkUJ"
      },
      "source": [
        "# spectogramme de l'accompagnement en fréquence, échelle linéaire\n",
        "plt.subplot(313)\n",
        "nussl.core.utils.visualize_spectrogram(musdb[i]['sources'][\"drums\"]+musdb[i]['sources'][\"bass\"]+musdb[i]['sources'][\"other\"],y_axis='linear')\n",
        "plt.colorbar(format='%+2.0f dB')\n",
        "plt.ylim(0,2000)\n",
        "plt.title('Accompagnement')\n",
        "plt.tight_layout()\n",
        "plt.show()"
      ],
      "execution_count": null,
      "outputs": []
    },
    {
      "cell_type": "code",
      "metadata": {
        "id": "wVTe8lgOrkgl"
      },
      "source": [
        "# visualisation de la transformée de Fourrier du signal temporel du mix\n",
        "from scipy import fft\n",
        "print(musdb[i][\"mix\"].__dict__)\n",
        "nussl.core.utils.visualize_sources_as_waveform({\"Somme\":musdb[i][\"mix\"]})\n",
        "plt.show()\n",
        "fft(musdb[i][\"mix\"]._audio_data[0][::10])"
      ],
      "execution_count": null,
      "outputs": []
    },
    {
      "cell_type": "code",
      "metadata": {
        "id": "rLCRjSGJrlf6"
      },
      "source": [
        "# alors là je suis perdue...\n",
        "from scipy.fft import fft, fftfreq\n",
        "import numpy as np\n",
        "# Number of sample points\n",
        "N = 600\n",
        "# sample spacing\n",
        "T = 1.0 / 800.0\n",
        "x = np.linspace(0.0, N*T, N, endpoint=False)\n",
        "y = np.sin(50.0 * 2.0*np.pi*x) + 0.5*np.sin(80.0 * 2.0*np.pi*x)\n",
        "yf = fft(y)\n",
        "xf = fftfreq(N, T)[:N//2]\n",
        "import matplotlib.pyplot as plt\n",
        "plt.plot(xf, 2.0/N * np.abs(yf[0:N//2]))\n",
        "plt.grid()\n",
        "plt.show()"
      ],
      "execution_count": null,
      "outputs": []
    },
    {
      "cell_type": "markdown",
      "metadata": {
        "id": "w6kfXlvcr23A"
      },
      "source": [
        "# identification de la voix qui chante ou qui s'arrête\n",
        "# Stany  : Masque voix\n",
        "\n"
      ]
    },
    {
      "cell_type": "code",
      "metadata": {
        "id": "AfIcTBhCrlu-"
      },
      "source": [
        "# On commence par trouver un morceau avec des interruptions voix (e.g. 59, 70)\n",
        "\n",
        "i = 59 \n",
        "\n",
        "#écoute...\n",
        "AudioDisplay(Audio(data=musdb[i]['mix'].audio_data, rate=musdb[i]['mix'].sample_rate))\n",
        "for source,source_data in musdb[i]['sources'].items():\n",
        "    print(source)\n",
        "    AudioDisplay(Audio(data=source_data.audio_data, rate=source_data.sample_rate))\n"
      ],
      "execution_count": null,
      "outputs": []
    },
    {
      "cell_type": "code",
      "metadata": {
        "id": "d44rGTC8sCXL"
      },
      "source": [
        "# spectro mix/voix\n",
        "plt.figure(figsize=(12,6))\n",
        "plt.subplot(211)\n",
        "nussl.core.utils.visualize_spectrogram(musdb[i]['mix'],y_axis='linear')\n",
        "plt.colorbar(format='%+2.0f dB')\n",
        "plt.ylim(0,8000)\n",
        "plt.title('Mélange')\n",
        "plt.subplot(212)\n",
        "nussl.core.utils.visualize_spectrogram(musdb[i]['sources'][\"vocals\"],y_axis='linear')\n",
        "plt.colorbar(format='%+2.0f dB')\n",
        "plt.ylim(0,8000)\n",
        "plt.title('Voix')\n",
        "plt.tight_layout()\n",
        "plt.show()"
      ],
      "execution_count": null,
      "outputs": []
    },
    {
      "cell_type": "code",
      "metadata": {
        "id": "eg5HvVREsClj"
      },
      "source": [
        "# Masque voix. On fait bourrin : seuil sur niveau  de psd du spectrogramme...\n",
        "\n",
        "import numpy as np\n",
        "i=59\n",
        "voice=musdb[i]['sources'][\"vocals\"]\n",
        "stft = voice.stft()\n",
        "\n",
        "# coupure en db (par rapport au max)\n",
        "db_cutoff = -20. \n",
        "\n",
        "# niveau puissance en db (en relatif par rapport max.)\n",
        "psd = 10*np.log10(voice.power_spectrogram_data/voice.power_spectrogram_data.max())\n",
        "\n",
        "# je moyenne sur canaux et on chope le max dans toute la gamme fréquentielle\n",
        "psdmax=np.max( (psd[:,:,0]+psd[:,:,1])/2., axis=0)\n",
        "\n",
        "# puis masque basé sur cette valeur\n",
        "tmask=np.where(psdmax  < db_cutoff, 0., 1.)\n",
        "\n",
        "# temps morceau et taille dt des chunk (nhop) de la stft\n",
        "t=voice.audio_data.shape[1]/voice.sample_rate \n",
        "nhop=mask.shape[1]\n",
        "dt=t/nhop\n",
        "t= dt*np.arange(nhop) "
      ],
      "execution_count": null,
      "outputs": []
    },
    {
      "cell_type": "code",
      "metadata": {
        "id": "rUa7QwRJsCyW"
      },
      "source": [
        "# on trace... 0= pas de voix\n",
        "plt.figure(figsize=(12,6))\n",
        "plt.subplot(211)\n",
        "nussl.core.utils.visualize_spectrogram(voice,y_axis='linear')\n",
        "plt.title('Spectro voix')\n",
        "plt.ylim(0,6000)\n",
        "plt.xlim(0,7)\n",
        "plt.subplot(212)\n",
        "plt.title('Masque voix')\n",
        "plt.scatter(t,y=tmask)\n",
        "plt.xlim(0,7)\n",
        "plt.yticks([0,1],['Pas de voix', 'Voix'])\n",
        "plt.tight_layout()\n",
        "plt.show()"
      ],
      "execution_count": null,
      "outputs": []
    },
    {
      "cell_type": "code",
      "metadata": {
        "id": "PeYFbAG0sC_c"
      },
      "source": [
        ""
      ],
      "execution_count": null,
      "outputs": []
    }
  ]
}