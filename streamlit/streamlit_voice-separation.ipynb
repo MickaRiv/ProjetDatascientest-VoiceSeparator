{
  "nbformat": 4,
  "nbformat_minor": 0,
  "metadata": {
    "colab": {
      "name": "streamlit_voice-separation.ipynb",
      "provenance": [],
      "collapsed_sections": [],
      "toc_visible": true,
      "authorship_tag": "ABX9TyN6kHhmuw0ulqGILjbF46fn",
      "include_colab_link": true
    },
    "kernelspec": {
      "name": "python3",
      "display_name": "Python 3"
    },
    "language_info": {
      "name": "python"
    },
    "accelerator": "GPU"
  },
  "cells": [
    {
      "cell_type": "markdown",
      "metadata": {
        "id": "view-in-github",
        "colab_type": "text"
      },
      "source": [
        "<a href=\"https://colab.research.google.com/github/MickaRiv/ProjetDatascientest-VoiceSeparator/blob/main/streamlit/streamlit_voice-separation.ipynb\" target=\"_parent\"><img src=\"https://colab.research.google.com/assets/colab-badge.svg\" alt=\"Open In Colab\"/></a>"
      ]
    },
    {
      "cell_type": "markdown",
      "source": [
        "#Prérequis"
      ],
      "metadata": {
        "id": "QBS8Wsd29HPL"
      }
    },
    {
      "cell_type": "markdown",
      "source": [
        "\n",
        "\n",
        "*   Avoir un compte ngrok sur https://dashboard.ngrok.com\n",
        "*   récupérer le numéro de token\n",
        "\n"
      ],
      "metadata": {
        "id": "7CFeFHX39LG8"
      }
    },
    {
      "cell_type": "markdown",
      "source": [
        "#Installations des paquets nécessaires"
      ],
      "metadata": {
        "id": "uFQQ9WGb2L2u"
      }
    },
    {
      "cell_type": "markdown",
      "source": [
        "##pip install streamlit"
      ],
      "metadata": {
        "id": "_XpxKzo8pzXR"
      }
    },
    {
      "cell_type": "code",
      "execution_count": 1,
      "metadata": {
        "colab": {
          "base_uri": "https://localhost:8080/",
          "height": 1000
        },
        "id": "k7Etsbb32AOv",
        "outputId": "aa087ff4-62fe-44a7-ab9d-45d2957c5a8b"
      },
      "outputs": [
        {
          "output_type": "stream",
          "name": "stdout",
          "text": [
            "Collecting streamlit\n",
            "  Downloading streamlit-1.7.0-py2.py3-none-any.whl (9.9 MB)\n",
            "\u001b[K     |████████████████████████████████| 9.9 MB 5.4 MB/s \n",
            "\u001b[?25hCollecting pympler>=0.9\n",
            "  Downloading Pympler-1.0.1-py3-none-any.whl (164 kB)\n",
            "\u001b[K     |████████████████████████████████| 164 kB 47.7 MB/s \n",
            "\u001b[?25hRequirement already satisfied: importlib-metadata>=1.4 in /usr/local/lib/python3.7/dist-packages (from streamlit) (4.11.2)\n",
            "Requirement already satisfied: pyarrow in /usr/local/lib/python3.7/dist-packages (from streamlit) (6.0.1)\n",
            "Requirement already satisfied: typing-extensions in /usr/local/lib/python3.7/dist-packages (from streamlit) (3.10.0.2)\n",
            "Requirement already satisfied: tzlocal in /usr/local/lib/python3.7/dist-packages (from streamlit) (1.5.1)\n",
            "Requirement already satisfied: pandas>=0.21.0 in /usr/local/lib/python3.7/dist-packages (from streamlit) (1.3.5)\n",
            "Requirement already satisfied: tornado>=5.0 in /usr/local/lib/python3.7/dist-packages (from streamlit) (5.1.1)\n",
            "Requirement already satisfied: requests in /usr/local/lib/python3.7/dist-packages (from streamlit) (2.23.0)\n",
            "Collecting validators\n",
            "  Downloading validators-0.18.2-py3-none-any.whl (19 kB)\n",
            "Collecting watchdog\n",
            "  Downloading watchdog-2.1.6-py3-none-manylinux2014_x86_64.whl (76 kB)\n",
            "\u001b[K     |████████████████████████████████| 76 kB 5.2 MB/s \n",
            "\u001b[?25hCollecting pydeck>=0.1.dev5\n",
            "  Downloading pydeck-0.7.1-py2.py3-none-any.whl (4.3 MB)\n",
            "\u001b[K     |████████████████████████████████| 4.3 MB 32.3 MB/s \n",
            "\u001b[?25hRequirement already satisfied: altair>=3.2.0 in /usr/local/lib/python3.7/dist-packages (from streamlit) (4.2.0)\n",
            "Collecting blinker\n",
            "  Downloading blinker-1.4.tar.gz (111 kB)\n",
            "\u001b[K     |████████████████████████████████| 111 kB 48.3 MB/s \n",
            "\u001b[?25hRequirement already satisfied: python-dateutil in /usr/local/lib/python3.7/dist-packages (from streamlit) (2.8.2)\n",
            "Collecting toml\n",
            "  Downloading toml-0.10.2-py2.py3-none-any.whl (16 kB)\n",
            "Requirement already satisfied: astor in /usr/local/lib/python3.7/dist-packages (from streamlit) (0.8.1)\n",
            "Requirement already satisfied: semver in /usr/local/lib/python3.7/dist-packages (from streamlit) (2.13.0)\n",
            "Requirement already satisfied: protobuf!=3.11,>=3.6.0 in /usr/local/lib/python3.7/dist-packages (from streamlit) (3.17.3)\n",
            "Requirement already satisfied: packaging in /usr/local/lib/python3.7/dist-packages (from streamlit) (21.3)\n",
            "Requirement already satisfied: pillow>=6.2.0 in /usr/local/lib/python3.7/dist-packages (from streamlit) (7.1.2)\n",
            "Collecting gitpython!=3.1.19\n",
            "  Downloading GitPython-3.1.27-py3-none-any.whl (181 kB)\n",
            "\u001b[K     |████████████████████████████████| 181 kB 48.5 MB/s \n",
            "\u001b[?25hCollecting base58\n",
            "  Downloading base58-2.1.1-py3-none-any.whl (5.6 kB)\n",
            "Requirement already satisfied: click>=7.0 in /usr/local/lib/python3.7/dist-packages (from streamlit) (7.1.2)\n",
            "Requirement already satisfied: cachetools>=4.0 in /usr/local/lib/python3.7/dist-packages (from streamlit) (4.2.4)\n",
            "Requirement already satisfied: attrs in /usr/local/lib/python3.7/dist-packages (from streamlit) (21.4.0)\n",
            "Requirement already satisfied: numpy in /usr/local/lib/python3.7/dist-packages (from streamlit) (1.21.5)\n",
            "Requirement already satisfied: entrypoints in /usr/local/lib/python3.7/dist-packages (from altair>=3.2.0->streamlit) (0.4)\n",
            "Requirement already satisfied: toolz in /usr/local/lib/python3.7/dist-packages (from altair>=3.2.0->streamlit) (0.11.2)\n",
            "Requirement already satisfied: jsonschema>=3.0 in /usr/local/lib/python3.7/dist-packages (from altair>=3.2.0->streamlit) (4.3.3)\n",
            "Requirement already satisfied: jinja2 in /usr/local/lib/python3.7/dist-packages (from altair>=3.2.0->streamlit) (2.11.3)\n",
            "Collecting gitdb<5,>=4.0.1\n",
            "  Downloading gitdb-4.0.9-py3-none-any.whl (63 kB)\n",
            "\u001b[K     |████████████████████████████████| 63 kB 1.7 MB/s \n",
            "\u001b[?25hCollecting smmap<6,>=3.0.1\n",
            "  Downloading smmap-5.0.0-py3-none-any.whl (24 kB)\n",
            "Requirement already satisfied: zipp>=0.5 in /usr/local/lib/python3.7/dist-packages (from importlib-metadata>=1.4->streamlit) (3.7.0)\n",
            "Requirement already satisfied: pyrsistent!=0.17.0,!=0.17.1,!=0.17.2,>=0.14.0 in /usr/local/lib/python3.7/dist-packages (from jsonschema>=3.0->altair>=3.2.0->streamlit) (0.18.1)\n",
            "Requirement already satisfied: importlib-resources>=1.4.0 in /usr/local/lib/python3.7/dist-packages (from jsonschema>=3.0->altair>=3.2.0->streamlit) (5.4.0)\n",
            "Requirement already satisfied: pytz>=2017.3 in /usr/local/lib/python3.7/dist-packages (from pandas>=0.21.0->streamlit) (2018.9)\n",
            "Requirement already satisfied: six>=1.9 in /usr/local/lib/python3.7/dist-packages (from protobuf!=3.11,>=3.6.0->streamlit) (1.15.0)\n",
            "Requirement already satisfied: ipywidgets>=7.0.0 in /usr/local/lib/python3.7/dist-packages (from pydeck>=0.1.dev5->streamlit) (7.6.5)\n",
            "Collecting ipykernel>=5.1.2\n",
            "  Downloading ipykernel-6.9.1-py3-none-any.whl (128 kB)\n",
            "\u001b[K     |████████████████████████████████| 128 kB 46.8 MB/s \n",
            "\u001b[?25hRequirement already satisfied: traitlets>=4.3.2 in /usr/local/lib/python3.7/dist-packages (from pydeck>=0.1.dev5->streamlit) (5.1.1)\n",
            "Requirement already satisfied: nest-asyncio in /usr/local/lib/python3.7/dist-packages (from ipykernel>=5.1.2->pydeck>=0.1.dev5->streamlit) (1.5.4)\n",
            "Collecting ipython>=7.23.1\n",
            "  Downloading ipython-7.32.0-py3-none-any.whl (793 kB)\n",
            "\u001b[K     |████████████████████████████████| 793 kB 43.1 MB/s \n",
            "\u001b[?25hRequirement already satisfied: matplotlib-inline<0.2.0,>=0.1.0 in /usr/local/lib/python3.7/dist-packages (from ipykernel>=5.1.2->pydeck>=0.1.dev5->streamlit) (0.1.3)\n",
            "Requirement already satisfied: debugpy<2.0,>=1.0.0 in /usr/local/lib/python3.7/dist-packages (from ipykernel>=5.1.2->pydeck>=0.1.dev5->streamlit) (1.0.0)\n",
            "Requirement already satisfied: jupyter-client<8.0 in /usr/local/lib/python3.7/dist-packages (from ipykernel>=5.1.2->pydeck>=0.1.dev5->streamlit) (5.3.5)\n",
            "Requirement already satisfied: setuptools>=18.5 in /usr/local/lib/python3.7/dist-packages (from ipython>=7.23.1->ipykernel>=5.1.2->pydeck>=0.1.dev5->streamlit) (57.4.0)\n",
            "Requirement already satisfied: pygments in /usr/local/lib/python3.7/dist-packages (from ipython>=7.23.1->ipykernel>=5.1.2->pydeck>=0.1.dev5->streamlit) (2.6.1)\n",
            "Requirement already satisfied: pexpect>4.3 in /usr/local/lib/python3.7/dist-packages (from ipython>=7.23.1->ipykernel>=5.1.2->pydeck>=0.1.dev5->streamlit) (4.8.0)\n",
            "Collecting prompt-toolkit!=3.0.0,!=3.0.1,<3.1.0,>=2.0.0\n",
            "  Downloading prompt_toolkit-3.0.28-py3-none-any.whl (380 kB)\n",
            "\u001b[K     |████████████████████████████████| 380 kB 47.2 MB/s \n",
            "\u001b[?25hRequirement already satisfied: pickleshare in /usr/local/lib/python3.7/dist-packages (from ipython>=7.23.1->ipykernel>=5.1.2->pydeck>=0.1.dev5->streamlit) (0.7.5)\n",
            "Requirement already satisfied: jedi>=0.16 in /usr/local/lib/python3.7/dist-packages (from ipython>=7.23.1->ipykernel>=5.1.2->pydeck>=0.1.dev5->streamlit) (0.18.1)\n",
            "Requirement already satisfied: backcall in /usr/local/lib/python3.7/dist-packages (from ipython>=7.23.1->ipykernel>=5.1.2->pydeck>=0.1.dev5->streamlit) (0.2.0)\n",
            "Requirement already satisfied: decorator in /usr/local/lib/python3.7/dist-packages (from ipython>=7.23.1->ipykernel>=5.1.2->pydeck>=0.1.dev5->streamlit) (4.4.2)\n",
            "Requirement already satisfied: ipython-genutils~=0.2.0 in /usr/local/lib/python3.7/dist-packages (from ipywidgets>=7.0.0->pydeck>=0.1.dev5->streamlit) (0.2.0)\n",
            "Requirement already satisfied: nbformat>=4.2.0 in /usr/local/lib/python3.7/dist-packages (from ipywidgets>=7.0.0->pydeck>=0.1.dev5->streamlit) (5.1.3)\n",
            "Requirement already satisfied: widgetsnbextension~=3.5.0 in /usr/local/lib/python3.7/dist-packages (from ipywidgets>=7.0.0->pydeck>=0.1.dev5->streamlit) (3.5.2)\n",
            "Requirement already satisfied: jupyterlab-widgets>=1.0.0 in /usr/local/lib/python3.7/dist-packages (from ipywidgets>=7.0.0->pydeck>=0.1.dev5->streamlit) (1.0.2)\n",
            "Requirement already satisfied: parso<0.9.0,>=0.8.0 in /usr/local/lib/python3.7/dist-packages (from jedi>=0.16->ipython>=7.23.1->ipykernel>=5.1.2->pydeck>=0.1.dev5->streamlit) (0.8.3)\n",
            "Requirement already satisfied: MarkupSafe>=0.23 in /usr/local/lib/python3.7/dist-packages (from jinja2->altair>=3.2.0->streamlit) (2.0.1)\n",
            "Requirement already satisfied: jupyter-core>=4.6.0 in /usr/local/lib/python3.7/dist-packages (from jupyter-client<8.0->ipykernel>=5.1.2->pydeck>=0.1.dev5->streamlit) (4.9.2)\n",
            "Requirement already satisfied: pyzmq>=13 in /usr/local/lib/python3.7/dist-packages (from jupyter-client<8.0->ipykernel>=5.1.2->pydeck>=0.1.dev5->streamlit) (22.3.0)\n",
            "Requirement already satisfied: ptyprocess>=0.5 in /usr/local/lib/python3.7/dist-packages (from pexpect>4.3->ipython>=7.23.1->ipykernel>=5.1.2->pydeck>=0.1.dev5->streamlit) (0.7.0)\n",
            "Requirement already satisfied: wcwidth in /usr/local/lib/python3.7/dist-packages (from prompt-toolkit!=3.0.0,!=3.0.1,<3.1.0,>=2.0.0->ipython>=7.23.1->ipykernel>=5.1.2->pydeck>=0.1.dev5->streamlit) (0.2.5)\n",
            "Requirement already satisfied: notebook>=4.4.1 in /usr/local/lib/python3.7/dist-packages (from widgetsnbextension~=3.5.0->ipywidgets>=7.0.0->pydeck>=0.1.dev5->streamlit) (5.3.1)\n",
            "Requirement already satisfied: terminado>=0.8.1 in /usr/local/lib/python3.7/dist-packages (from notebook>=4.4.1->widgetsnbextension~=3.5.0->ipywidgets>=7.0.0->pydeck>=0.1.dev5->streamlit) (0.13.3)\n",
            "Requirement already satisfied: nbconvert in /usr/local/lib/python3.7/dist-packages (from notebook>=4.4.1->widgetsnbextension~=3.5.0->ipywidgets>=7.0.0->pydeck>=0.1.dev5->streamlit) (5.6.1)\n",
            "Requirement already satisfied: Send2Trash in /usr/local/lib/python3.7/dist-packages (from notebook>=4.4.1->widgetsnbextension~=3.5.0->ipywidgets>=7.0.0->pydeck>=0.1.dev5->streamlit) (1.8.0)\n",
            "Requirement already satisfied: pandocfilters>=1.4.1 in /usr/local/lib/python3.7/dist-packages (from nbconvert->notebook>=4.4.1->widgetsnbextension~=3.5.0->ipywidgets>=7.0.0->pydeck>=0.1.dev5->streamlit) (1.5.0)\n",
            "Requirement already satisfied: testpath in /usr/local/lib/python3.7/dist-packages (from nbconvert->notebook>=4.4.1->widgetsnbextension~=3.5.0->ipywidgets>=7.0.0->pydeck>=0.1.dev5->streamlit) (0.6.0)\n",
            "Requirement already satisfied: bleach in /usr/local/lib/python3.7/dist-packages (from nbconvert->notebook>=4.4.1->widgetsnbextension~=3.5.0->ipywidgets>=7.0.0->pydeck>=0.1.dev5->streamlit) (4.1.0)\n",
            "Requirement already satisfied: mistune<2,>=0.8.1 in /usr/local/lib/python3.7/dist-packages (from nbconvert->notebook>=4.4.1->widgetsnbextension~=3.5.0->ipywidgets>=7.0.0->pydeck>=0.1.dev5->streamlit) (0.8.4)\n",
            "Requirement already satisfied: defusedxml in /usr/local/lib/python3.7/dist-packages (from nbconvert->notebook>=4.4.1->widgetsnbextension~=3.5.0->ipywidgets>=7.0.0->pydeck>=0.1.dev5->streamlit) (0.7.1)\n",
            "Requirement already satisfied: webencodings in /usr/local/lib/python3.7/dist-packages (from bleach->nbconvert->notebook>=4.4.1->widgetsnbextension~=3.5.0->ipywidgets>=7.0.0->pydeck>=0.1.dev5->streamlit) (0.5.1)\n",
            "Requirement already satisfied: pyparsing!=3.0.5,>=2.0.2 in /usr/local/lib/python3.7/dist-packages (from packaging->streamlit) (3.0.7)\n",
            "Requirement already satisfied: idna<3,>=2.5 in /usr/local/lib/python3.7/dist-packages (from requests->streamlit) (2.10)\n",
            "Requirement already satisfied: certifi>=2017.4.17 in /usr/local/lib/python3.7/dist-packages (from requests->streamlit) (2021.10.8)\n",
            "Requirement already satisfied: chardet<4,>=3.0.2 in /usr/local/lib/python3.7/dist-packages (from requests->streamlit) (3.0.4)\n",
            "Requirement already satisfied: urllib3!=1.25.0,!=1.25.1,<1.26,>=1.21.1 in /usr/local/lib/python3.7/dist-packages (from requests->streamlit) (1.24.3)\n",
            "Building wheels for collected packages: blinker\n",
            "  Building wheel for blinker (setup.py) ... \u001b[?25l\u001b[?25hdone\n",
            "  Created wheel for blinker: filename=blinker-1.4-py3-none-any.whl size=13478 sha256=96057a6d52f942ed56d6ee79215a2cd7ddb6256a790dc8b83c2a3531dd0b852c\n",
            "  Stored in directory: /root/.cache/pip/wheels/22/f5/18/df711b66eb25b21325c132757d4314db9ac5e8dabeaf196eab\n",
            "Successfully built blinker\n",
            "Installing collected packages: prompt-toolkit, ipython, ipykernel, smmap, gitdb, watchdog, validators, toml, pympler, pydeck, gitpython, blinker, base58, streamlit\n",
            "  Attempting uninstall: prompt-toolkit\n",
            "    Found existing installation: prompt-toolkit 1.0.18\n",
            "    Uninstalling prompt-toolkit-1.0.18:\n",
            "      Successfully uninstalled prompt-toolkit-1.0.18\n",
            "  Attempting uninstall: ipython\n",
            "    Found existing installation: ipython 5.5.0\n",
            "    Uninstalling ipython-5.5.0:\n",
            "      Successfully uninstalled ipython-5.5.0\n",
            "  Attempting uninstall: ipykernel\n",
            "    Found existing installation: ipykernel 4.10.1\n",
            "    Uninstalling ipykernel-4.10.1:\n",
            "      Successfully uninstalled ipykernel-4.10.1\n",
            "\u001b[31mERROR: pip's dependency resolver does not currently take into account all the packages that are installed. This behaviour is the source of the following dependency conflicts.\n",
            "jupyter-console 5.2.0 requires prompt-toolkit<2.0.0,>=1.0.0, but you have prompt-toolkit 3.0.28 which is incompatible.\n",
            "google-colab 1.0.0 requires ipykernel~=4.10, but you have ipykernel 6.9.1 which is incompatible.\n",
            "google-colab 1.0.0 requires ipython~=5.5.0, but you have ipython 7.32.0 which is incompatible.\u001b[0m\n",
            "Successfully installed base58-2.1.1 blinker-1.4 gitdb-4.0.9 gitpython-3.1.27 ipykernel-6.9.1 ipython-7.32.0 prompt-toolkit-3.0.28 pydeck-0.7.1 pympler-1.0.1 smmap-5.0.0 streamlit-1.7.0 toml-0.10.2 validators-0.18.2 watchdog-2.1.6\n"
          ]
        },
        {
          "output_type": "display_data",
          "data": {
            "application/vnd.colab-display-data+json": {
              "pip_warning": {
                "packages": [
                  "IPython",
                  "ipykernel",
                  "prompt_toolkit"
                ]
              }
            }
          },
          "metadata": {}
        }
      ],
      "source": [
        "!pip install streamlit"
      ]
    },
    {
      "cell_type": "markdown",
      "source": [
        "##pip install pygnrok"
      ],
      "metadata": {
        "id": "Q59EqkHcp44C"
      }
    },
    {
      "cell_type": "code",
      "source": [
        "!pip install pyngrok"
      ],
      "metadata": {
        "id": "PYUdR31V2r4O",
        "colab": {
          "base_uri": "https://localhost:8080/"
        },
        "outputId": "e6ed998e-5011-40e4-be10-0f4a36bf61b0"
      },
      "execution_count": 2,
      "outputs": [
        {
          "output_type": "stream",
          "name": "stdout",
          "text": [
            "Collecting pyngrok\n",
            "  Downloading pyngrok-5.1.0.tar.gz (745 kB)\n",
            "\u001b[K     |████████████████████████████████| 745 kB 5.2 MB/s \n",
            "\u001b[?25hRequirement already satisfied: PyYAML in /usr/local/lib/python3.7/dist-packages (from pyngrok) (3.13)\n",
            "Building wheels for collected packages: pyngrok\n",
            "  Building wheel for pyngrok (setup.py) ... \u001b[?25l\u001b[?25hdone\n",
            "  Created wheel for pyngrok: filename=pyngrok-5.1.0-py3-none-any.whl size=19007 sha256=77c223e585a2e947159292d84148f1065e91014daf182daa35245d23a2fbd0f6\n",
            "  Stored in directory: /root/.cache/pip/wheels/bf/e6/af/ccf6598ecefecd44104069371795cb9b3afbcd16987f6ccfb3\n",
            "Successfully built pyngrok\n",
            "Installing collected packages: pyngrok\n",
            "Successfully installed pyngrok-5.1.0\n"
          ]
        }
      ]
    },
    {
      "cell_type": "markdown",
      "source": [
        "## pip install nussl"
      ],
      "metadata": {
        "id": "HtKkUn252F5a"
      }
    },
    {
      "cell_type": "code",
      "source": [
        "!pip install nussl"
      ],
      "metadata": {
        "colab": {
          "base_uri": "https://localhost:8080/"
        },
        "id": "eQt6w8YOxmmo",
        "outputId": "63534cff-06b4-4418-ed23-31de20757419"
      },
      "execution_count": 3,
      "outputs": [
        {
          "output_type": "stream",
          "name": "stdout",
          "text": [
            "Collecting nussl\n",
            "  Downloading nussl-1.1.9-py2.py3-none-any.whl (239 kB)\n",
            "\u001b[K     |████████████████████████████████| 239 kB 5.2 MB/s \n",
            "\u001b[?25hCollecting musdb\n",
            "  Downloading musdb-0.4.0-py2.py3-none-any.whl (29 kB)\n",
            "Collecting gpytorch\n",
            "  Downloading gpytorch-1.6.0.tar.gz (310 kB)\n",
            "\u001b[K     |████████████████████████████████| 310 kB 33.1 MB/s \n",
            "\u001b[?25hCollecting zarr\n",
            "  Downloading zarr-2.11.1-py3-none-any.whl (153 kB)\n",
            "\u001b[K     |████████████████████████████████| 153 kB 43.4 MB/s \n",
            "\u001b[?25hRequirement already satisfied: matplotlib in /usr/local/lib/python3.7/dist-packages (from nussl) (3.2.2)\n",
            "Requirement already satisfied: librosa in /usr/local/lib/python3.7/dist-packages (from nussl) (0.8.1)\n",
            "Requirement already satisfied: pyyaml in /usr/local/lib/python3.7/dist-packages (from nussl) (3.13)\n",
            "Collecting pyloudnorm\n",
            "  Downloading pyloudnorm-0.1.0-py3-none-any.whl (9.3 kB)\n",
            "Collecting soxbindings>=1.2.2\n",
            "  Downloading soxbindings-1.2.3-cp37-cp37m-manylinux2010_x86_64.whl (3.3 MB)\n",
            "\u001b[K     |████████████████████████████████| 3.3 MB 37.2 MB/s \n",
            "\u001b[?25hRequirement already satisfied: importlib-resources in /usr/local/lib/python3.7/dist-packages (from nussl) (5.4.0)\n",
            "Collecting museval\n",
            "  Downloading museval-0.4.0-py2.py3-none-any.whl (21 kB)\n",
            "Requirement already satisfied: torch in /usr/local/lib/python3.7/dist-packages (from nussl) (1.10.0+cu111)\n",
            "Collecting ffmpeg-python\n",
            "  Downloading ffmpeg_python-0.2.0-py3-none-any.whl (25 kB)\n",
            "Collecting jams\n",
            "  Downloading jams-0.3.4.tar.gz (51 kB)\n",
            "\u001b[K     |████████████████████████████████| 51 kB 69 kB/s \n",
            "\u001b[?25hCollecting ffmpy\n",
            "  Downloading ffmpy-0.3.0.tar.gz (4.8 kB)\n",
            "Collecting sox\n",
            "  Downloading sox-1.4.1-py2.py3-none-any.whl (39 kB)\n",
            "Collecting termtables\n",
            "  Downloading termtables-0.2.4-py3-none-any.whl (17 kB)\n",
            "Requirement already satisfied: tqdm in /usr/local/lib/python3.7/dist-packages (from nussl) (4.63.0)\n",
            "Collecting pytorch-ignite\n",
            "  Downloading pytorch_ignite-0.4.8-py3-none-any.whl (251 kB)\n",
            "\u001b[K     |████████████████████████████████| 251 kB 44.3 MB/s \n",
            "\u001b[?25hCollecting norbert\n",
            "  Downloading norbert-0.2.1-py2.py3-none-any.whl (11 kB)\n",
            "Requirement already satisfied: tensorboard in /usr/local/lib/python3.7/dist-packages (from nussl) (2.8.0)\n",
            "Requirement already satisfied: numpy>=1.9.0 in /usr/local/lib/python3.7/dist-packages (from sox->nussl) (1.21.5)\n",
            "Requirement already satisfied: future in /usr/local/lib/python3.7/dist-packages (from ffmpeg-python->nussl) (0.16.0)\n",
            "Requirement already satisfied: zipp>=3.1.0 in /usr/local/lib/python3.7/dist-packages (from importlib-resources->nussl) (3.7.0)\n",
            "Requirement already satisfied: pandas in /usr/local/lib/python3.7/dist-packages (from jams->nussl) (1.3.5)\n",
            "Requirement already satisfied: sortedcontainers>=2.0.0 in /usr/local/lib/python3.7/dist-packages (from jams->nussl) (2.4.0)\n",
            "Requirement already satisfied: jsonschema>=3.0.0 in /usr/local/lib/python3.7/dist-packages (from jams->nussl) (4.3.3)\n",
            "Requirement already satisfied: six in /usr/local/lib/python3.7/dist-packages (from jams->nussl) (1.15.0)\n",
            "Requirement already satisfied: decorator in /usr/local/lib/python3.7/dist-packages (from jams->nussl) (4.4.2)\n",
            "Collecting mir_eval>=0.5\n",
            "  Downloading mir_eval-0.7.tar.gz (90 kB)\n",
            "\u001b[K     |████████████████████████████████| 90 kB 10.4 MB/s \n",
            "\u001b[?25hRequirement already satisfied: typing-extensions in /usr/local/lib/python3.7/dist-packages (from jsonschema>=3.0.0->jams->nussl) (3.10.0.2)\n",
            "Requirement already satisfied: attrs>=17.4.0 in /usr/local/lib/python3.7/dist-packages (from jsonschema>=3.0.0->jams->nussl) (21.4.0)\n",
            "Requirement already satisfied: pyrsistent!=0.17.0,!=0.17.1,!=0.17.2,>=0.14.0 in /usr/local/lib/python3.7/dist-packages (from jsonschema>=3.0.0->jams->nussl) (0.18.1)\n",
            "Requirement already satisfied: importlib-metadata in /usr/local/lib/python3.7/dist-packages (from jsonschema>=3.0.0->jams->nussl) (4.11.2)\n",
            "Requirement already satisfied: scipy>=1.0.0 in /usr/local/lib/python3.7/dist-packages (from mir_eval>=0.5->jams->nussl) (1.4.1)\n",
            "Requirement already satisfied: numba>=0.43.0 in /usr/local/lib/python3.7/dist-packages (from librosa->nussl) (0.51.2)\n",
            "Requirement already satisfied: audioread>=2.0.0 in /usr/local/lib/python3.7/dist-packages (from librosa->nussl) (2.1.9)\n",
            "Requirement already satisfied: pooch>=1.0 in /usr/local/lib/python3.7/dist-packages (from librosa->nussl) (1.6.0)\n",
            "Requirement already satisfied: scikit-learn!=0.19.0,>=0.14.0 in /usr/local/lib/python3.7/dist-packages (from librosa->nussl) (1.0.2)\n",
            "Requirement already satisfied: packaging>=20.0 in /usr/local/lib/python3.7/dist-packages (from librosa->nussl) (21.3)\n",
            "Requirement already satisfied: resampy>=0.2.2 in /usr/local/lib/python3.7/dist-packages (from librosa->nussl) (0.2.2)\n",
            "Requirement already satisfied: joblib>=0.14 in /usr/local/lib/python3.7/dist-packages (from librosa->nussl) (1.1.0)\n",
            "Requirement already satisfied: soundfile>=0.10.2 in /usr/local/lib/python3.7/dist-packages (from librosa->nussl) (0.10.3.post1)\n",
            "Requirement already satisfied: setuptools in /usr/local/lib/python3.7/dist-packages (from numba>=0.43.0->librosa->nussl) (57.4.0)\n",
            "Requirement already satisfied: llvmlite<0.35,>=0.34.0.dev0 in /usr/local/lib/python3.7/dist-packages (from numba>=0.43.0->librosa->nussl) (0.34.0)\n",
            "Requirement already satisfied: pyparsing!=3.0.5,>=2.0.2 in /usr/local/lib/python3.7/dist-packages (from packaging>=20.0->librosa->nussl) (3.0.7)\n",
            "Requirement already satisfied: requests>=2.19.0 in /usr/local/lib/python3.7/dist-packages (from pooch>=1.0->librosa->nussl) (2.23.0)\n",
            "Requirement already satisfied: appdirs>=1.3.0 in /usr/local/lib/python3.7/dist-packages (from pooch>=1.0->librosa->nussl) (1.4.4)\n",
            "Requirement already satisfied: certifi>=2017.4.17 in /usr/local/lib/python3.7/dist-packages (from requests>=2.19.0->pooch>=1.0->librosa->nussl) (2021.10.8)\n",
            "Requirement already satisfied: chardet<4,>=3.0.2 in /usr/local/lib/python3.7/dist-packages (from requests>=2.19.0->pooch>=1.0->librosa->nussl) (3.0.4)\n",
            "Requirement already satisfied: idna<3,>=2.5 in /usr/local/lib/python3.7/dist-packages (from requests>=2.19.0->pooch>=1.0->librosa->nussl) (2.10)\n",
            "Requirement already satisfied: urllib3!=1.25.0,!=1.25.1,<1.26,>=1.21.1 in /usr/local/lib/python3.7/dist-packages (from requests>=2.19.0->pooch>=1.0->librosa->nussl) (1.24.3)\n",
            "Requirement already satisfied: threadpoolctl>=2.0.0 in /usr/local/lib/python3.7/dist-packages (from scikit-learn!=0.19.0,>=0.14.0->librosa->nussl) (3.1.0)\n",
            "Requirement already satisfied: cffi>=1.0 in /usr/local/lib/python3.7/dist-packages (from soundfile>=0.10.2->librosa->nussl) (1.15.0)\n",
            "Requirement already satisfied: pycparser in /usr/local/lib/python3.7/dist-packages (from cffi>=1.0->soundfile>=0.10.2->librosa->nussl) (2.21)\n",
            "Requirement already satisfied: python-dateutil>=2.1 in /usr/local/lib/python3.7/dist-packages (from matplotlib->nussl) (2.8.2)\n",
            "Requirement already satisfied: cycler>=0.10 in /usr/local/lib/python3.7/dist-packages (from matplotlib->nussl) (0.11.0)\n",
            "Requirement already satisfied: kiwisolver>=1.0.1 in /usr/local/lib/python3.7/dist-packages (from matplotlib->nussl) (1.3.2)\n",
            "Collecting pyaml\n",
            "  Downloading pyaml-21.10.1-py2.py3-none-any.whl (24 kB)\n",
            "Collecting stempeg>=0.2.3\n",
            "  Downloading stempeg-0.2.3-py3-none-any.whl (963 kB)\n",
            "\u001b[K     |████████████████████████████████| 963 kB 38.9 MB/s \n",
            "\u001b[?25hCollecting simplejson\n",
            "  Downloading simplejson-3.17.6-cp37-cp37m-manylinux_2_5_x86_64.manylinux1_x86_64.manylinux_2_12_x86_64.manylinux2010_x86_64.whl (130 kB)\n",
            "\u001b[K     |████████████████████████████████| 130 kB 48.5 MB/s \n",
            "\u001b[?25hRequirement already satisfied: pytz>=2017.3 in /usr/local/lib/python3.7/dist-packages (from pandas->jams->nussl) (2018.9)\n",
            "Requirement already satisfied: protobuf>=3.6.0 in /usr/local/lib/python3.7/dist-packages (from tensorboard->nussl) (3.17.3)\n",
            "Requirement already satisfied: grpcio>=1.24.3 in /usr/local/lib/python3.7/dist-packages (from tensorboard->nussl) (1.44.0)\n",
            "Requirement already satisfied: wheel>=0.26 in /usr/local/lib/python3.7/dist-packages (from tensorboard->nussl) (0.37.1)\n",
            "Requirement already satisfied: werkzeug>=0.11.15 in /usr/local/lib/python3.7/dist-packages (from tensorboard->nussl) (1.0.1)\n",
            "Requirement already satisfied: absl-py>=0.4 in /usr/local/lib/python3.7/dist-packages (from tensorboard->nussl) (1.0.0)\n",
            "Requirement already satisfied: markdown>=2.6.8 in /usr/local/lib/python3.7/dist-packages (from tensorboard->nussl) (3.3.6)\n",
            "Requirement already satisfied: tensorboard-data-server<0.7.0,>=0.6.0 in /usr/local/lib/python3.7/dist-packages (from tensorboard->nussl) (0.6.1)\n",
            "Requirement already satisfied: tensorboard-plugin-wit>=1.6.0 in /usr/local/lib/python3.7/dist-packages (from tensorboard->nussl) (1.8.1)\n",
            "Requirement already satisfied: google-auth<3,>=1.6.3 in /usr/local/lib/python3.7/dist-packages (from tensorboard->nussl) (1.35.0)\n",
            "Requirement already satisfied: google-auth-oauthlib<0.5,>=0.4.1 in /usr/local/lib/python3.7/dist-packages (from tensorboard->nussl) (0.4.6)\n",
            "Requirement already satisfied: pyasn1-modules>=0.2.1 in /usr/local/lib/python3.7/dist-packages (from google-auth<3,>=1.6.3->tensorboard->nussl) (0.2.8)\n",
            "Requirement already satisfied: rsa<5,>=3.1.4 in /usr/local/lib/python3.7/dist-packages (from google-auth<3,>=1.6.3->tensorboard->nussl) (4.8)\n",
            "Requirement already satisfied: cachetools<5.0,>=2.0.0 in /usr/local/lib/python3.7/dist-packages (from google-auth<3,>=1.6.3->tensorboard->nussl) (4.2.4)\n",
            "Requirement already satisfied: requests-oauthlib>=0.7.0 in /usr/local/lib/python3.7/dist-packages (from google-auth-oauthlib<0.5,>=0.4.1->tensorboard->nussl) (1.3.1)\n",
            "Requirement already satisfied: pyasn1<0.5.0,>=0.4.6 in /usr/local/lib/python3.7/dist-packages (from pyasn1-modules>=0.2.1->google-auth<3,>=1.6.3->tensorboard->nussl) (0.4.8)\n",
            "Requirement already satisfied: oauthlib>=3.0.0 in /usr/local/lib/python3.7/dist-packages (from requests-oauthlib>=0.7.0->google-auth-oauthlib<0.5,>=0.4.1->tensorboard->nussl) (3.2.0)\n",
            "Collecting asciitree\n",
            "  Downloading asciitree-0.3.3.tar.gz (4.0 kB)\n",
            "Collecting numcodecs>=0.6.4\n",
            "  Downloading numcodecs-0.9.1-cp37-cp37m-manylinux2010_x86_64.whl (6.2 MB)\n",
            "\u001b[K     |████████████████████████████████| 6.2 MB 17.9 MB/s \n",
            "\u001b[?25hCollecting fasteners\n",
            "  Downloading fasteners-0.17.3-py3-none-any.whl (18 kB)\n",
            "Building wheels for collected packages: ffmpy, gpytorch, jams, mir-eval, asciitree\n",
            "  Building wheel for ffmpy (setup.py) ... \u001b[?25l\u001b[?25hdone\n",
            "  Created wheel for ffmpy: filename=ffmpy-0.3.0-py3-none-any.whl size=4712 sha256=e4a26ff0f934ae5b85f6b4fd314fdb68c55863270d96e882355e1a9e360bfdec\n",
            "  Stored in directory: /root/.cache/pip/wheels/13/e4/6c/e8059816e86796a597c6e6b0d4c880630f51a1fcfa0befd5e6\n",
            "  Building wheel for gpytorch (setup.py) ... \u001b[?25l\u001b[?25hdone\n",
            "  Created wheel for gpytorch: filename=gpytorch-1.6.0-py2.py3-none-any.whl size=509889 sha256=8fcba6a8f47989f83990d3fa3111bfe4deb7af73482fa2b74da1f15912523a07\n",
            "  Stored in directory: /root/.cache/pip/wheels/66/b5/89/34c06ad393a6feb72b4cdde46d0f1c667f3e2632960f9df109\n",
            "  Building wheel for jams (setup.py) ... \u001b[?25l\u001b[?25hdone\n",
            "  Created wheel for jams: filename=jams-0.3.4-py3-none-any.whl size=64922 sha256=be7de7d91d47cc15bfb46536f1aef8b17ad70a99ee32502d7199a6f3dfa4b8df\n",
            "  Stored in directory: /root/.cache/pip/wheels/c9/aa/16/ce72bc4caa58dfab819e3f46b3542f2bf90a83009f4ea07a48\n",
            "  Building wheel for mir-eval (setup.py) ... \u001b[?25l\u001b[?25hdone\n",
            "  Created wheel for mir-eval: filename=mir_eval-0.7-py3-none-any.whl size=100721 sha256=d923cb01951a3291ac0f432cdee5d031ee2bc5795c787aeee53cb31c0dbe4652\n",
            "  Stored in directory: /root/.cache/pip/wheels/18/5a/46/d2527ff1fd975e1a793375e6ed763bfe4d3ea396b7cdc470eb\n",
            "  Building wheel for asciitree (setup.py) ... \u001b[?25l\u001b[?25hdone\n",
            "  Created wheel for asciitree: filename=asciitree-0.3.3-py3-none-any.whl size=5050 sha256=e4843ee371ce55af29d09b5dcf98ca3544fc69c4d5e9d7fa3044885b3dfdd930\n",
            "  Stored in directory: /root/.cache/pip/wheels/12/1c/38/0def51e15add93bff3f4bf9c248b94db0839b980b8535e72a0\n",
            "Successfully built ffmpy gpytorch jams mir-eval asciitree\n",
            "Installing collected packages: ffmpeg-python, stempeg, pyaml, sox, simplejson, numcodecs, musdb, mir-eval, fasteners, asciitree, zarr, termtables, soxbindings, pytorch-ignite, pyloudnorm, norbert, museval, jams, gpytorch, ffmpy, nussl\n",
            "Successfully installed asciitree-0.3.3 fasteners-0.17.3 ffmpeg-python-0.2.0 ffmpy-0.3.0 gpytorch-1.6.0 jams-0.3.4 mir-eval-0.7 musdb-0.4.0 museval-0.4.0 norbert-0.2.1 numcodecs-0.9.1 nussl-1.1.9 pyaml-21.10.1 pyloudnorm-0.1.0 pytorch-ignite-0.4.8 simplejson-3.17.6 sox-1.4.1 soxbindings-1.2.3 stempeg-0.2.3 termtables-0.2.4 zarr-2.11.1\n"
          ]
        }
      ]
    },
    {
      "cell_type": "markdown",
      "source": [
        "##pip install pydub"
      ],
      "metadata": {
        "id": "zUOUUj5H-2eF"
      }
    },
    {
      "cell_type": "code",
      "source": [
        "!pip install pydub"
      ],
      "metadata": {
        "id": "6QyUnmM6-6Of",
        "outputId": "eaa6f438-5bce-46ea-98c6-8db07e1e23b7",
        "colab": {
          "base_uri": "https://localhost:8080/"
        }
      },
      "execution_count": 4,
      "outputs": [
        {
          "output_type": "stream",
          "name": "stdout",
          "text": [
            "Collecting pydub\n",
            "  Downloading pydub-0.25.1-py2.py3-none-any.whl (32 kB)\n",
            "Installing collected packages: pydub\n",
            "Successfully installed pydub-0.25.1\n"
          ]
        }
      ]
    },
    {
      "cell_type": "markdown",
      "source": [
        "##pip install demucs"
      ],
      "metadata": {
        "id": "ymqjHrBCoOr9"
      }
    },
    {
      "cell_type": "code",
      "source": [
        "!pip install demucs"
      ],
      "metadata": {
        "id": "pQwo-st_oRsY",
        "outputId": "13b8c632-5bac-4680-8c41-2b9ad86f95ce",
        "colab": {
          "base_uri": "https://localhost:8080/",
          "height": 1000
        }
      },
      "execution_count": 5,
      "outputs": [
        {
          "output_type": "stream",
          "name": "stdout",
          "text": [
            "Collecting demucs\n",
            "  Downloading demucs-3.0.4.tar.gz (1.5 MB)\n",
            "\u001b[K     |████████████████████████████████| 1.5 MB 5.4 MB/s \n",
            "\u001b[?25hCollecting dora-search\n",
            "  Downloading dora_search-0.1.9.tar.gz (75 kB)\n",
            "\u001b[K     |████████████████████████████████| 75 kB 4.6 MB/s \n",
            "\u001b[?25h  Installing build dependencies ... \u001b[?25l\u001b[?25hdone\n",
            "  Getting requirements to build wheel ... \u001b[?25l\u001b[?25hdone\n",
            "    Preparing wheel metadata ... \u001b[?25l\u001b[?25hdone\n",
            "Collecting diffq>=0.2.1\n",
            "  Downloading diffq-0.2.2-cp37-cp37m-manylinux_2_5_x86_64.manylinux1_x86_64.manylinux_2_12_x86_64.manylinux2010_x86_64.whl (391 kB)\n",
            "\u001b[K     |████████████████████████████████| 391 kB 45.2 MB/s \n",
            "\u001b[?25hCollecting julius>=0.2.3\n",
            "  Downloading julius-0.2.6.tar.gz (58 kB)\n",
            "\u001b[K     |████████████████████████████████| 58 kB 5.6 MB/s \n",
            "\u001b[?25hCollecting lameenc>=1.2\n",
            "  Downloading lameenc-1.4.1-cp37-cp37m-manylinux_2_17_x86_64.manylinux2014_x86_64.manylinux_2_24_x86_64.whl (190 kB)\n",
            "\u001b[K     |████████████████████████████████| 190 kB 44.5 MB/s \n",
            "\u001b[?25hCollecting openunmix\n",
            "  Downloading openunmix-1.2.1-py3-none-any.whl (46 kB)\n",
            "\u001b[K     |████████████████████████████████| 46 kB 3.7 MB/s \n",
            "\u001b[?25hRequirement already satisfied: pyyaml in /usr/local/lib/python3.7/dist-packages (from demucs) (3.13)\n",
            "Requirement already satisfied: torch>=1.8.1 in /usr/local/lib/python3.7/dist-packages (from demucs) (1.10.0+cu111)\n",
            "Requirement already satisfied: torchaudio>=0.8 in /usr/local/lib/python3.7/dist-packages (from demucs) (0.10.0+cu111)\n",
            "Requirement already satisfied: tqdm in /usr/local/lib/python3.7/dist-packages (from demucs) (4.63.0)\n",
            "Requirement already satisfied: Cython in /usr/local/lib/python3.7/dist-packages (from diffq>=0.2.1->demucs) (0.29.28)\n",
            "Requirement already satisfied: numpy in /usr/local/lib/python3.7/dist-packages (from diffq>=0.2.1->demucs) (1.21.5)\n",
            "Requirement already satisfied: typing-extensions in /usr/local/lib/python3.7/dist-packages (from torch>=1.8.1->demucs) (3.10.0.2)\n",
            "Collecting retrying\n",
            "  Downloading retrying-1.3.3.tar.gz (10 kB)\n",
            "Collecting omegaconf\n",
            "  Downloading omegaconf-2.1.1-py3-none-any.whl (74 kB)\n",
            "\u001b[K     |████████████████████████████████| 74 kB 2.7 MB/s \n",
            "\u001b[?25hCollecting submitit\n",
            "  Downloading submitit-1.4.1-py3-none-any.whl (70 kB)\n",
            "\u001b[K     |████████████████████████████████| 70 kB 7.9 MB/s \n",
            "\u001b[?25hCollecting treetable\n",
            "  Downloading treetable-0.2.5.tar.gz (10 kB)\n",
            "Collecting antlr4-python3-runtime==4.8\n",
            "  Downloading antlr4-python3-runtime-4.8.tar.gz (112 kB)\n",
            "\u001b[K     |████████████████████████████████| 112 kB 46.1 MB/s \n",
            "\u001b[?25hCollecting pyyaml\n",
            "  Downloading PyYAML-6.0-cp37-cp37m-manylinux_2_5_x86_64.manylinux1_x86_64.manylinux_2_12_x86_64.manylinux2010_x86_64.whl (596 kB)\n",
            "\u001b[K     |████████████████████████████████| 596 kB 40.2 MB/s \n",
            "\u001b[?25hRequirement already satisfied: six>=1.7.0 in /usr/local/lib/python3.7/dist-packages (from retrying->dora-search->demucs) (1.15.0)\n",
            "Requirement already satisfied: cloudpickle>=1.2.1 in /usr/local/lib/python3.7/dist-packages (from submitit->dora-search->demucs) (1.3.0)\n",
            "Building wheels for collected packages: demucs, julius, dora-search, antlr4-python3-runtime, retrying, treetable\n",
            "  Building wheel for demucs (setup.py) ... \u001b[?25l\u001b[?25hdone\n",
            "  Created wheel for demucs: filename=demucs-3.0.4-py3-none-any.whl size=57894 sha256=0ec1e362b65748dadcdf4baeb94e3d53b652c6756e020bd06fd2991076d57360\n",
            "  Stored in directory: /root/.cache/pip/wheels/59/fd/99/0d724080cea2cc254162239a9015bfb69b4277c61dbfb1fe44\n",
            "  Building wheel for julius (setup.py) ... \u001b[?25l\u001b[?25hdone\n",
            "  Created wheel for julius: filename=julius-0.2.6-py3-none-any.whl size=20965 sha256=e2cab98bc06f2900be28c457bb4dc14dc24be1e053fd7efc27560648104f0bfe\n",
            "  Stored in directory: /root/.cache/pip/wheels/ad/6f/00/57039014814f8794b1f32aad93d1d387645d103afdda943caf\n",
            "  Building wheel for dora-search (PEP 517) ... \u001b[?25l\u001b[?25hdone\n",
            "  Created wheel for dora-search: filename=dora_search-0.1.9-py3-none-any.whl size=68061 sha256=f9138ad4eb64131c3977d357d3e5fa2dfbab7e22e40e1d5f7550ca01ef6ec2ba\n",
            "  Stored in directory: /root/.cache/pip/wheels/f2/a9/d5/75998f50ce3ceed91d36af12be868253c23fd884848208015f\n",
            "  Building wheel for antlr4-python3-runtime (setup.py) ... \u001b[?25l\u001b[?25hdone\n",
            "  Created wheel for antlr4-python3-runtime: filename=antlr4_python3_runtime-4.8-py3-none-any.whl size=141230 sha256=d00032b08b9acfa3d1bc2b7552664e4d6a929f4815bf6647950590d9ae07b65e\n",
            "  Stored in directory: /root/.cache/pip/wheels/ca/33/b7/336836125fc9bb4ceaa4376d8abca10ca8bc84ddc824baea6c\n",
            "  Building wheel for retrying (setup.py) ... \u001b[?25l\u001b[?25hdone\n",
            "  Created wheel for retrying: filename=retrying-1.3.3-py3-none-any.whl size=11447 sha256=1eef4b3d033a37daa7f2eee089677de056d1711b461644fb260d1d15c26451d6\n",
            "  Stored in directory: /root/.cache/pip/wheels/f9/8d/8d/f6af3f7f9eea3553bc2fe6d53e4b287dad18b06a861ac56ddf\n",
            "  Building wheel for treetable (setup.py) ... \u001b[?25l\u001b[?25hdone\n",
            "  Created wheel for treetable: filename=treetable-0.2.5-py3-none-any.whl size=7349 sha256=0ead593935abd5e92f5bbbf93cdba1483a26f5604d22956d9ff30b718bca2d32\n",
            "  Stored in directory: /root/.cache/pip/wheels/49/47/17/9a3302620cfb927cd6eb60bc80133c12af5b37f05ee5dc5656\n",
            "Successfully built demucs julius dora-search antlr4-python3-runtime retrying treetable\n",
            "Installing collected packages: pyyaml, antlr4-python3-runtime, treetable, submitit, retrying, omegaconf, openunmix, lameenc, julius, dora-search, diffq, demucs\n",
            "  Attempting uninstall: pyyaml\n",
            "    Found existing installation: PyYAML 3.13\n",
            "    Uninstalling PyYAML-3.13:\n",
            "      Successfully uninstalled PyYAML-3.13\n",
            "Successfully installed antlr4-python3-runtime-4.8 demucs-3.0.4 diffq-0.2.2 dora-search-0.1.9 julius-0.2.6 lameenc-1.4.1 omegaconf-2.1.1 openunmix-1.2.1 pyyaml-6.0 retrying-1.3.3 submitit-1.4.1 treetable-0.2.5\n"
          ]
        },
        {
          "output_type": "display_data",
          "data": {
            "application/vnd.colab-display-data+json": {
              "pip_warning": {
                "packages": [
                  "pydevd_plugins"
                ]
              }
            }
          },
          "metadata": {}
        }
      ]
    },
    {
      "cell_type": "markdown",
      "source": [
        "##pip install openunmix"
      ],
      "metadata": {
        "id": "sXxvt39jZ8Ke"
      }
    },
    {
      "cell_type": "code",
      "source": [
        "!pip install openunmix"
      ],
      "metadata": {
        "id": "blIrtGoUZ7VT",
        "outputId": "05a74a82-4d23-49e1-8d4f-e84bee9556a2",
        "colab": {
          "base_uri": "https://localhost:8080/"
        }
      },
      "execution_count": 6,
      "outputs": [
        {
          "output_type": "stream",
          "name": "stdout",
          "text": [
            "Requirement already satisfied: openunmix in /usr/local/lib/python3.7/dist-packages (1.2.1)\n",
            "Requirement already satisfied: tqdm in /usr/local/lib/python3.7/dist-packages (from openunmix) (4.63.0)\n",
            "Requirement already satisfied: torch>=1.9.0 in /usr/local/lib/python3.7/dist-packages (from openunmix) (1.10.0+cu111)\n",
            "Requirement already satisfied: numpy in /usr/local/lib/python3.7/dist-packages (from openunmix) (1.21.5)\n",
            "Requirement already satisfied: torchaudio>=0.9.0 in /usr/local/lib/python3.7/dist-packages (from openunmix) (0.10.0+cu111)\n",
            "Requirement already satisfied: typing-extensions in /usr/local/lib/python3.7/dist-packages (from torch>=1.9.0->openunmix) (3.10.0.2)\n"
          ]
        }
      ]
    },
    {
      "cell_type": "markdown",
      "source": [
        "##pip install spleeter"
      ],
      "metadata": {
        "id": "z7jrmVepohC7"
      }
    },
    {
      "cell_type": "markdown",
      "source": [
        "## pip install voicesep"
      ],
      "metadata": {
        "id": "llfWd8aY2rT2"
      }
    },
    {
      "cell_type": "code",
      "source": [
        "!pip install git+https://github.com/MickaRiv/ProjetDatascientest-VoiceSeparator"
      ],
      "metadata": {
        "colab": {
          "base_uri": "https://localhost:8080/"
        },
        "id": "v3INrraM2vHW",
        "outputId": "6631b6f3-3747-4d37-a841-905ba5689d75"
      },
      "execution_count": 7,
      "outputs": [
        {
          "output_type": "stream",
          "name": "stdout",
          "text": [
            "Collecting git+https://github.com/MickaRiv/ProjetDatascientest-VoiceSeparator\n",
            "  Cloning https://github.com/MickaRiv/ProjetDatascientest-VoiceSeparator to /tmp/pip-req-build-fsn45lnw\n",
            "  Running command git clone -q https://github.com/MickaRiv/ProjetDatascientest-VoiceSeparator /tmp/pip-req-build-fsn45lnw\n",
            "Building wheels for collected packages: voice-separator\n",
            "  Building wheel for voice-separator (setup.py) ... \u001b[?25l\u001b[?25hdone\n",
            "  Created wheel for voice-separator: filename=voice_separator-0.0.1-py3-none-any.whl size=7761 sha256=d4d8a725a5c36c308c169d405ada231bb29626065f827d74b8b59fde0b97e9f5\n",
            "  Stored in directory: /tmp/pip-ephem-wheel-cache-zbcm5poi/wheels/89/ad/91/9cded351057b1a842fbbfa97f091da426d85036b0efd2e0273\n",
            "Successfully built voice-separator\n",
            "Installing collected packages: voice-separator\n",
            "Successfully installed voice-separator-0.0.1\n"
          ]
        }
      ]
    },
    {
      "cell_type": "markdown",
      "source": [
        "# Montage du drive"
      ],
      "metadata": {
        "id": "kupWa3Bo2M-G"
      }
    },
    {
      "cell_type": "code",
      "source": [
        "from google.colab import drive # import drive from google colab\n",
        "drive.mount(\"/content/drive\")  # we mount the google drive at /content/drive"
      ],
      "metadata": {
        "colab": {
          "base_uri": "https://localhost:8080/"
        },
        "id": "VIMnYhaN2QN9",
        "outputId": "444d5353-6d46-43b2-9eff-97e8b32bc72b"
      },
      "execution_count": 8,
      "outputs": [
        {
          "output_type": "stream",
          "name": "stdout",
          "text": [
            "Mounted at /content/drive\n"
          ]
        }
      ]
    },
    {
      "cell_type": "markdown",
      "source": [
        "# Start de ngrok"
      ],
      "metadata": {
        "id": "OWuyZZdiqywy"
      }
    },
    {
      "cell_type": "code",
      "source": [
        "!ls\n",
        "!ngrok authtoken 25QRE4uYk7AG52BigElvRGk5TZc_4EfgeeiWXnGXYY2Qf5axB\n",
        "!ngrok"
      ],
      "metadata": {
        "colab": {
          "base_uri": "https://localhost:8080/"
        },
        "id": "znsSbtik31gg",
        "outputId": "cf30eacd-43e2-4aa7-bd22-eaf453b6860b"
      },
      "execution_count": 9,
      "outputs": [
        {
          "output_type": "stream",
          "name": "stdout",
          "text": [
            "drive  sample_data\n",
            "Authtoken saved to configuration file: /root/.ngrok2/ngrok.yml\n",
            "NAME:\n",
            "   ngrok - tunnel local ports to public URLs and inspect traffic\n",
            "\n",
            "DESCRIPTION:\n",
            "    ngrok exposes local networked services behinds NATs and firewalls to the\n",
            "    public internet over a secure tunnel. Share local websites, build/test\n",
            "    webhook consumers and self-host personal services.\n",
            "    Detailed help for each command is available with 'ngrok help <command>'.\n",
            "    Open http://localhost:4040 for ngrok's web interface to inspect traffic.\n",
            "\n",
            "EXAMPLES:\n",
            "    ngrok http 80                    # secure public URL for port 80 web server\n",
            "    ngrok http -subdomain=baz 8080   # port 8080 available at baz.ngrok.io\n",
            "    ngrok http foo.dev:80            # tunnel to host:port instead of localhost\n",
            "    ngrok http https://localhost     # expose a local https server\n",
            "    ngrok tcp 22                     # tunnel arbitrary TCP traffic to port 22\n",
            "    ngrok tls -hostname=foo.com 443  # TLS traffic for foo.com to port 443\n",
            "    ngrok start foo bar baz          # start tunnels from the configuration file\n",
            "\n",
            "VERSION:\n",
            "   2.3.40\n",
            "\n",
            "AUTHOR:\n",
            "  inconshreveable - <alan@ngrok.com>\n",
            "\n",
            "COMMANDS:\n",
            "   authtoken\tsave authtoken to configuration file\n",
            "   credits\tprints author and licensing information\n",
            "   http\t\tstart an HTTP tunnel\n",
            "   start\tstart tunnels by name from the configuration file\n",
            "   tcp\t\tstart a TCP tunnel\n",
            "   tls\t\tstart a TLS tunnel\n",
            "   update\tupdate ngrok to the latest version\n",
            "   version\tprint the version string\n",
            "   help\t\tShows a list of commands or help for one command\n",
            "\n",
            "PYNGROK VERSION:\n",
            "   5.1.0\n"
          ]
        }
      ]
    },
    {
      "cell_type": "markdown",
      "source": [
        "#st_voice-sepration.py"
      ],
      "metadata": {
        "id": "TymcAu253QhN"
      }
    },
    {
      "cell_type": "markdown",
      "source": [
        "##Chargement de l'image sur le git"
      ],
      "metadata": {
        "id": "0g7n-dVh_3Cg"
      }
    },
    {
      "cell_type": "code",
      "source": [
        "!wget \"https://raw.githubusercontent.com/MickaRiv/ProjetDatascientest-VoiceSeparator/main/streamlit/image.jpg\""
      ],
      "metadata": {
        "id": "aYWNWr-o_oob",
        "outputId": "0c8eb19c-9e5a-45c4-f291-80f90b1fac29",
        "colab": {
          "base_uri": "https://localhost:8080/"
        }
      },
      "execution_count": 10,
      "outputs": [
        {
          "output_type": "stream",
          "name": "stdout",
          "text": [
            "--2022-03-12 09:20:35--  https://raw.githubusercontent.com/MickaRiv/ProjetDatascientest-VoiceSeparator/main/streamlit/image.jpg\n",
            "Resolving raw.githubusercontent.com (raw.githubusercontent.com)... 185.199.108.133, 185.199.109.133, 185.199.110.133, ...\n",
            "Connecting to raw.githubusercontent.com (raw.githubusercontent.com)|185.199.108.133|:443... connected.\n",
            "HTTP request sent, awaiting response... 200 OK\n",
            "Length: 11459 (11K) [image/jpeg]\n",
            "Saving to: ‘image.jpg’\n",
            "\n",
            "\rimage.jpg             0%[                    ]       0  --.-KB/s               \rimage.jpg           100%[===================>]  11.19K  --.-KB/s    in 0s      \n",
            "\n",
            "2022-03-12 09:20:35 (68.8 MB/s) - ‘image.jpg’ saved [11459/11459]\n",
            "\n"
          ]
        }
      ]
    },
    {
      "cell_type": "markdown",
      "source": [
        "## récupération et exécution de st_voice-sepration.py du git"
      ],
      "metadata": {
        "id": "iiLB4T7A6Y9_"
      }
    },
    {
      "cell_type": "code",
      "source": [
        "!wget https://raw.githubusercontent.com/MickaRiv/ProjetDatascientest-VoiceSeparator/main/streamlit/st_voice-separation_colab.py"
      ],
      "metadata": {
        "colab": {
          "base_uri": "https://localhost:8080/"
        },
        "id": "wN8nzXlOw0J8",
        "outputId": "21b4d850-9de6-449e-da8a-3982fe30938b"
      },
      "execution_count": 15,
      "outputs": [
        {
          "output_type": "stream",
          "name": "stdout",
          "text": [
            "--2022-03-12 09:42:58--  https://raw.githubusercontent.com/MickaRiv/ProjetDatascientest-VoiceSeparator/main/streamlit/st_voice-separation_colab.py\n",
            "Resolving raw.githubusercontent.com (raw.githubusercontent.com)... 185.199.108.133, 185.199.109.133, 185.199.110.133, ...\n",
            "Connecting to raw.githubusercontent.com (raw.githubusercontent.com)|185.199.108.133|:443... connected.\n",
            "HTTP request sent, awaiting response... 200 OK\n",
            "Length: 10966 (11K) [text/plain]\n",
            "Saving to: ‘st_voice-separation_colab.py’\n",
            "\n",
            "\r          st_voice-   0%[                    ]       0  --.-KB/s               \rst_voice-separation 100%[===================>]  10.71K  --.-KB/s    in 0s      \n",
            "\n",
            "2022-03-12 09:42:58 (35.3 MB/s) - ‘st_voice-separation_colab.py’ saved [10966/10966]\n",
            "\n"
          ]
        }
      ]
    },
    {
      "cell_type": "code",
      "source": [
        "!streamlit run --server.port 80 st_voice-separation.py &>/dev/null& # en background"
      ],
      "metadata": {
        "id": "zQ48AFmJCiaP"
      },
      "execution_count": null,
      "outputs": []
    },
    {
      "cell_type": "markdown",
      "source": [
        "## exécution du .py dans drive pour éviter les commit push à répétition"
      ],
      "metadata": {
        "id": "Geh2sQH8OwLw"
      }
    },
    {
      "cell_type": "code",
      "source": [
        "!streamlit run --server.port 80 /content/drive/MyDrive/'Projet Datascientest'/Ephi_st/st_voice-separation_colab.py &>/dev/null&"
      ],
      "metadata": {
        "id": "gORewkOeumGW"
      },
      "execution_count": 13,
      "outputs": []
    },
    {
      "cell_type": "markdown",
      "source": [
        "## ou dev direct dans colab"
      ],
      "metadata": {
        "id": "PTcJFh3h3anL"
      }
    },
    {
      "cell_type": "code",
      "source": [
        "%%writefile st_voice-separation_from_colab.py\n",
        "import streamlit as st\n",
        "\n",
        "st.title(\"st.title\")\n"
      ],
      "metadata": {
        "colab": {
          "base_uri": "https://localhost:8080/"
        },
        "id": "OPsgj_qc2_F4",
        "outputId": "28d6e117-e29c-4340-e379-59a41d7a0e1a"
      },
      "execution_count": null,
      "outputs": [
        {
          "output_type": "stream",
          "name": "stdout",
          "text": [
            "Overwriting st_voice-separation.py\n"
          ]
        }
      ]
    },
    {
      "cell_type": "code",
      "source": [
        "!streamlit run --server.port 80 st_voice-separation.py &>/dev/null& # en background"
      ],
      "metadata": {
        "id": "76brCI1orgMz"
      },
      "execution_count": null,
      "outputs": []
    },
    {
      "cell_type": "markdown",
      "source": [
        "#Lancement du streamlit"
      ],
      "metadata": {
        "id": "wb_H21Qg3vqH"
      }
    },
    {
      "cell_type": "code",
      "source": [
        "from pyngrok import ngrok\n",
        "# Setup u tunnel to the streamlit port 8501\n",
        "public_url = ngrok.connect(port='80')\n",
        "public_url"
      ],
      "metadata": {
        "colab": {
          "base_uri": "https://localhost:8080/"
        },
        "id": "nHm1p4CKCoXb",
        "outputId": "e9ea68cc-0751-44d3-c4d6-731ef66e0394"
      },
      "execution_count": 14,
      "outputs": [
        {
          "output_type": "execute_result",
          "data": {
            "text/plain": [
              "<NgrokTunnel: \"http://addb-34-72-101-48.ngrok.io\" -> \"http://localhost:80\">"
            ]
          },
          "metadata": {},
          "execution_count": 14
        }
      ]
    },
    {
      "cell_type": "markdown",
      "source": [
        "#TEST"
      ],
      "metadata": {
        "id": "4DCn6RkI5bLQ"
      }
    },
    {
      "cell_type": "code",
      "source": [
        "import pandas as pd\n",
        "import streamlit as st\n",
        "import matplotlib.pyplot as plt\n",
        "import seaborn as sns\n",
        "import nussl\n",
        "import os\n",
        "import numpy as np\n",
        "import tensorflow as tf\n",
        "from voicesep.core import get_musdb_data\n",
        "from voicesep.unet import UNetModel\n",
        "from pydub import AudioSegment\n",
        "from os import listdir\n",
        "from os.path import isfile, isdir, join\n",
        "import shutil\n",
        "from tensorflow.keras.models import load_model\n",
        "from voicesep.demucs import DemucsModel\n",
        "from voicesep.spleeter import SpleeterModel\n",
        "from voicesep.openunmix import OpenUnmixModel\n",
        "\n",
        "#-------------------------------------\n",
        "# Définition des fonctions \n",
        "#-------------------------------------\n",
        "\n",
        "# Si colab et drive monté\n",
        "musdb_path = os.path.join(\"/content\",\"drive\",\"MyDrive\",\"Projet Datascientest\",\"musdb18\")\n",
        "unets_path = os.path.join(\"/content\",\"drive\",\"MyDrive\",\"Projet Datascientest\",\"UNet\")\n",
        "#-------------------------------------\n",
        "# Le streamlit \n",
        "#-------------------------------------\n",
        "#%% dev de la sidebar avec chargement du modèle --------------------------\n",
        "\n",
        "\n",
        "musdb_demo = get_musdb_data(gather_accompaniment=True,folder=musdb_path,subfolder=\"train\")\n",
        "\n",
        "\n"
      ],
      "metadata": {
        "id": "mycFABOd5c0O",
        "outputId": "864cb44d-6b00-4f89-ced5-7cb8c3f36936",
        "colab": {
          "base_uri": "https://localhost:8080/"
        }
      },
      "execution_count": null,
      "outputs": [
        {
          "output_type": "stream",
          "name": "stderr",
          "text": [
            "2022-03-08 17:41:38.382 INFO    pyngrok.process.ngrok: t=2022-03-08T17:41:38+0000 lvl=info msg=\"join connections\" obj=join id=1710f139f302 l=127.0.0.1:80 r=[2a01:e0a:356:aa20:c1d9:adae:56e:b5d1]:52094\n"
          ]
        }
      ]
    },
    {
      "cell_type": "code",
      "source": [
        "print(len(musdb_demo))\n",
        "for nom_musique in musdb_demo.musdb.tracks:\n",
        "  numero_musique = musdb_demo.musdb.get_track_indices_by_names(nom_musique.__repr__())\n",
        "  print(numero_musique,nom_musique)\n"
      ],
      "metadata": {
        "colab": {
          "base_uri": "https://localhost:8080/"
        },
        "id": "2Ni4Vg3NmzCH",
        "outputId": "2c948353-a1d0-4d02-bb17-a2d7ef614772"
      },
      "execution_count": null,
      "outputs": [
        {
          "output_type": "stream",
          "name": "stdout",
          "text": [
            "100\n",
            "[0] A Classic Education - NightOwl\n",
            "[1] ANiMAL - Clinic A\n",
            "[2] ANiMAL - Easy Tiger\n",
            "[3] ANiMAL - Rockshow\n",
            "[4] Actions - Devil's Words\n",
            "[5] Actions - One Minute Smile\n",
            "[6] Actions - South Of The Water\n",
            "[7] Aimee Norwich - Child\n",
            "[8] Alexander Ross - Goodbye Bolero\n",
            "[9] Alexander Ross - Velvet Curtain\n",
            "[10] Angela Thomas Wade - Milk Cow Blues\n",
            "[11] Atlantis Bound - It Was My Fault For Waiting\n",
            "[12] Auctioneer - Our Future Faces\n",
            "[13] AvaLuna - Waterduct\n",
            "[14] BigTroubles - Phantom\n",
            "[15] Bill Chudziak - Children Of No-one\n",
            "[16] Black Bloc - If You Want Success\n",
            "[17] Celestial Shore - Die For Us\n",
            "[18] Chris Durban - Celebrate\n",
            "[19] Clara Berry And Wooldog - Air Traffic\n",
            "[20] Clara Berry And Wooldog - Stella\n",
            "[21] Clara Berry And Wooldog - Waltz For My Victims\n",
            "[22] Cnoc An Tursa - Bannockburn\n",
            "[23] Creepoid - OldTree\n",
            "[24] Dark Ride - Burning Bridges\n",
            "[25] Dreamers Of The Ghetto - Heavy Love\n",
            "[26] Drumtracks - Ghost Bitch\n",
            "[27] Faces On Film - Waiting For Ga\n",
            "[28] Fergessen - Back From The Start\n",
            "[29] Fergessen - Nos Palpitants\n",
            "[30] Fergessen - The Wind\n",
            "[31] Flags - 54\n",
            "[32] Giselle - Moss\n",
            "[33] Grants - PunchDrunk\n",
            "[34] Helado Negro - Mitad Del Mundo\n",
            "[35] Hezekiah Jones - Borrowed Heart\n",
            "[36] Hollow Ground - Left Blind\n",
            "[37] Hop Along - Sister Cities\n",
            "[38] Invisible Familiars - Disturbing Wildlife\n",
            "[39] James May - All Souls Moon\n",
            "[40] James May - Dont Let Go\n",
            "[41] James May - If You Say\n",
            "[42] James May - On The Line\n",
            "[43] Jay Menon - Through My Eyes\n",
            "[44] Johnny Lokke - Promises & Lies\n",
            "[45] Johnny Lokke - Whisper To A Scream\n",
            "[46] Jokers, Jacks & Kings - Sea Of Leaves\n",
            "[47] Leaf - Come Around\n",
            "[48] Leaf - Summerghost\n",
            "[49] Leaf - Wicked\n",
            "[50] Lushlife - Toynbee Suite\n",
            "[51] Matthew Entwistle - Dont You Ever\n",
            "[52] Meaxic - Take A Step\n",
            "[53] Meaxic - You Listen\n",
            "[54] Music Delta - 80s Rock\n",
            "[55] Music Delta - Beatles\n",
            "[56] Music Delta - Britpop\n",
            "[57] Music Delta - Country1\n",
            "[58] Music Delta - Country2\n",
            "[59] Music Delta - Disco\n",
            "[60] Music Delta - Gospel\n",
            "[61] Music Delta - Grunge\n",
            "[62] Music Delta - Hendrix\n",
            "[63] Music Delta - Punk\n",
            "[64] Music Delta - Reggae\n",
            "[65] Music Delta - Rock\n",
            "[66] Music Delta - Rockabilly\n",
            "[67] Night Panther - Fire\n",
            "[68] North To Alaska - All The Same\n",
            "[69] Patrick Talbot - A Reason To Leave\n",
            "[70] Patrick Talbot - Set Me Free\n",
            "[71] Phre The Eon - Everybody's Falling Apart\n",
            "[72] Port St Willow - Stay Even\n",
            "[73] Remember December - C U Next Time\n",
            "[74] Secret Mountains - High Horse\n",
            "[75] Skelpolu - Human Mistakes\n",
            "[76] Skelpolu - Together Alone\n",
            "[77] Snowmine - Curfews\n",
            "[78] Spike Mullings - Mike's Sulking\n",
            "[79] St Vitus - Word Gets Around\n",
            "[80] Steven Clark - Bounty\n",
            "[81] Strand Of Oaks - Spacestation\n",
            "[82] Sweet Lights - You Let Me Down\n",
            "[83] Swinging Steaks - Lost My Way\n",
            "[84] The Districts - Vermont\n",
            "[85] The Long Wait - Back Home To Blue\n",
            "[86] The Scarlet Brand - Les Fleurs Du Mal\n",
            "[87] The So So Glos - Emergency\n",
            "[88] The Wrong'Uns - Rothko\n",
            "[89] Tim Taler - Stalker\n",
            "[90] Titanium - Haunted Age\n",
            "[91] Traffic Experiment - Once More (With Feeling)\n",
            "[92] Traffic Experiment - Sirens\n",
            "[93] Triviul - Angelsaint\n",
            "[94] Triviul - Dorothy\n",
            "[95] Voelund - Comfort Lives In Belief\n",
            "[96] Wall Of Death - Femme\n",
            "[97] Young Griffo - Blood To Bone\n",
            "[98] Young Griffo - Facade\n",
            "[99] Young Griffo - Pennies\n"
          ]
        }
      ]
    },
    {
      "cell_type": "markdown",
      "source": [
        "# Arrêt de streamlit"
      ],
      "metadata": {
        "id": "Vl2L-4tZ45J1"
      }
    },
    {
      "cell_type": "markdown",
      "source": [
        "Récupération de l'ID du process"
      ],
      "metadata": {
        "id": "wUW6_oAO5So7"
      }
    },
    {
      "cell_type": "code",
      "source": [
        "!ps -eaf | grep streamlit"
      ],
      "metadata": {
        "colab": {
          "base_uri": "https://localhost:8080/"
        },
        "id": "IK8ZN_4Y476N",
        "outputId": "769a9781-43d7-4337-a86d-48840a8f691c"
      },
      "execution_count": 16,
      "outputs": [
        {
          "output_type": "stream",
          "name": "stdout",
          "text": [
            "root        1059       1 30 09:29 ?        00:04:06 /usr/bin/python3 /usr/local/bin/streamlit run --server.port 80 /content/drive/MyDrive/Projet Datascientest/Ephi_st/st_voice-separation_colab.py\n",
            "root        1620      73  0 09:43 ?        00:00:00 /bin/bash -c ps -eaf | grep streamlit\n",
            "root        1622    1620  0 09:43 ?        00:00:00 grep streamlit\n"
          ]
        }
      ]
    },
    {
      "cell_type": "markdown",
      "source": [
        "Kill du process"
      ],
      "metadata": {
        "id": "VknK2Bf-5XOQ"
      }
    },
    {
      "cell_type": "code",
      "source": [
        "!kill 3668"
      ],
      "metadata": {
        "id": "Eb8fsNVB5Fko"
      },
      "execution_count": null,
      "outputs": []
    },
    {
      "cell_type": "markdown",
      "source": [
        "Arrêt de ngrok"
      ],
      "metadata": {
        "id": "UcdZAhrs5cRm"
      }
    },
    {
      "cell_type": "code",
      "source": [
        "ngrok.kill()"
      ],
      "metadata": {
        "id": "-DglWb2P5NeT",
        "colab": {
          "base_uri": "https://localhost:8080/"
        },
        "outputId": "015750fd-b94c-4833-a99c-29010e624e8b"
      },
      "execution_count": null,
      "outputs": [
        {
          "output_type": "stream",
          "name": "stderr",
          "text": [
            "2022-03-08 19:11:55.838 INFO    pyngrok.process: Killing ngrok process: 806\n"
          ]
        }
      ]
    }
  ]
}