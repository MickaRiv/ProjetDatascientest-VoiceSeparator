{
  "nbformat": 4,
  "nbformat_minor": 0,
  "metadata": {
    "colab": {
      "name": "U-Net.ipynb",
      "provenance": [],
      "include_colab_link": true
    },
    "kernelspec": {
      "name": "python3",
      "display_name": "Python 3"
    },
    "language_info": {
      "name": "python"
    },
    "accelerator": "GPU"
  },
  "cells": [
    {
      "cell_type": "markdown",
      "metadata": {
        "id": "view-in-github",
        "colab_type": "text"
      },
      "source": [
        "<a href=\"https://colab.research.google.com/github/MickaRiv/ProjetDatascientest-VoiceSeparator/blob/Stan/notebooks/U_Net.ipynb\" target=\"_parent\"><img src=\"https://colab.research.google.com/assets/colab-badge.svg\" alt=\"Open In Colab\"/></a>"
      ]
    },
    {
      "cell_type": "markdown",
      "source": [
        "# Installs et imports"
      ],
      "metadata": {
        "id": "wzO6fagoWP5U"
      }
    },
    {
      "cell_type": "code",
      "execution_count": 1,
      "metadata": {
        "id": "HRetCHcDWDQL",
        "colab": {
          "base_uri": "https://localhost:8080/"
        },
        "outputId": "c36ad1d8-c2de-4cc9-e9b7-991e76098087"
      },
      "outputs": [
        {
          "output_type": "stream",
          "name": "stdout",
          "text": [
            "Requirement already satisfied: nussl in /usr/local/lib/python3.7/dist-packages (1.1.9)\n",
            "Requirement already satisfied: tensorboard in /usr/local/lib/python3.7/dist-packages (from nussl) (2.7.0)\n",
            "Requirement already satisfied: torch in /usr/local/lib/python3.7/dist-packages (from nussl) (1.10.0+cu111)\n",
            "Requirement already satisfied: sox in /usr/local/lib/python3.7/dist-packages (from nussl) (1.4.1)\n",
            "Requirement already satisfied: musdb in /usr/local/lib/python3.7/dist-packages (from nussl) (0.4.0)\n",
            "Requirement already satisfied: museval in /usr/local/lib/python3.7/dist-packages (from nussl) (0.4.0)\n",
            "Requirement already satisfied: matplotlib in /usr/local/lib/python3.7/dist-packages (from nussl) (3.2.2)\n",
            "Requirement already satisfied: pyloudnorm in /usr/local/lib/python3.7/dist-packages (from nussl) (0.1.0)\n",
            "Requirement already satisfied: termtables in /usr/local/lib/python3.7/dist-packages (from nussl) (0.2.4)\n",
            "Requirement already satisfied: librosa in /usr/local/lib/python3.7/dist-packages (from nussl) (0.8.1)\n",
            "Requirement already satisfied: pytorch-ignite in /usr/local/lib/python3.7/dist-packages (from nussl) (0.4.8)\n",
            "Requirement already satisfied: tqdm in /usr/local/lib/python3.7/dist-packages (from nussl) (4.62.3)\n",
            "Requirement already satisfied: norbert in /usr/local/lib/python3.7/dist-packages (from nussl) (0.2.1)\n",
            "Requirement already satisfied: zarr in /usr/local/lib/python3.7/dist-packages (from nussl) (2.10.3)\n",
            "Requirement already satisfied: ffmpy in /usr/local/lib/python3.7/dist-packages (from nussl) (0.3.0)\n",
            "Requirement already satisfied: pyyaml in /usr/local/lib/python3.7/dist-packages (from nussl) (3.13)\n",
            "Requirement already satisfied: ffmpeg-python in /usr/local/lib/python3.7/dist-packages (from nussl) (0.2.0)\n",
            "Requirement already satisfied: gpytorch in /usr/local/lib/python3.7/dist-packages (from nussl) (1.6.0)\n",
            "Requirement already satisfied: jams in /usr/local/lib/python3.7/dist-packages (from nussl) (0.3.4)\n",
            "Requirement already satisfied: soxbindings>=1.2.2 in /usr/local/lib/python3.7/dist-packages (from nussl) (1.2.3)\n",
            "Requirement already satisfied: importlib-resources in /usr/local/lib/python3.7/dist-packages (from nussl) (5.4.0)\n",
            "Requirement already satisfied: numpy>=1.9.0 in /usr/local/lib/python3.7/dist-packages (from sox->nussl) (1.19.5)\n",
            "Requirement already satisfied: future in /usr/local/lib/python3.7/dist-packages (from ffmpeg-python->nussl) (0.16.0)\n",
            "Requirement already satisfied: zipp>=3.1.0 in /usr/local/lib/python3.7/dist-packages (from importlib-resources->nussl) (3.7.0)\n",
            "Requirement already satisfied: six in /usr/local/lib/python3.7/dist-packages (from jams->nussl) (1.15.0)\n",
            "Requirement already satisfied: pandas in /usr/local/lib/python3.7/dist-packages (from jams->nussl) (1.3.5)\n",
            "Requirement already satisfied: mir-eval>=0.5 in /usr/local/lib/python3.7/dist-packages (from jams->nussl) (0.6)\n",
            "Requirement already satisfied: decorator in /usr/local/lib/python3.7/dist-packages (from jams->nussl) (4.4.2)\n",
            "Requirement already satisfied: sortedcontainers>=2.0.0 in /usr/local/lib/python3.7/dist-packages (from jams->nussl) (2.4.0)\n",
            "Requirement already satisfied: jsonschema>=3.0.0 in /usr/local/lib/python3.7/dist-packages (from jams->nussl) (4.3.3)\n",
            "Requirement already satisfied: pyrsistent!=0.17.0,!=0.17.1,!=0.17.2,>=0.14.0 in /usr/local/lib/python3.7/dist-packages (from jsonschema>=3.0.0->jams->nussl) (0.18.1)\n",
            "Requirement already satisfied: attrs>=17.4.0 in /usr/local/lib/python3.7/dist-packages (from jsonschema>=3.0.0->jams->nussl) (21.4.0)\n",
            "Requirement already satisfied: importlib-metadata in /usr/local/lib/python3.7/dist-packages (from jsonschema>=3.0.0->jams->nussl) (4.10.1)\n",
            "Requirement already satisfied: typing-extensions in /usr/local/lib/python3.7/dist-packages (from jsonschema>=3.0.0->jams->nussl) (3.10.0.2)\n",
            "Requirement already satisfied: scipy>=1.0.0 in /usr/local/lib/python3.7/dist-packages (from mir-eval>=0.5->jams->nussl) (1.4.1)\n",
            "Requirement already satisfied: joblib>=0.14 in /usr/local/lib/python3.7/dist-packages (from librosa->nussl) (1.1.0)\n",
            "Requirement already satisfied: packaging>=20.0 in /usr/local/lib/python3.7/dist-packages (from librosa->nussl) (21.3)\n",
            "Requirement already satisfied: audioread>=2.0.0 in /usr/local/lib/python3.7/dist-packages (from librosa->nussl) (2.1.9)\n",
            "Requirement already satisfied: pooch>=1.0 in /usr/local/lib/python3.7/dist-packages (from librosa->nussl) (1.6.0)\n",
            "Requirement already satisfied: resampy>=0.2.2 in /usr/local/lib/python3.7/dist-packages (from librosa->nussl) (0.2.2)\n",
            "Requirement already satisfied: soundfile>=0.10.2 in /usr/local/lib/python3.7/dist-packages (from librosa->nussl) (0.10.3.post1)\n",
            "Requirement already satisfied: scikit-learn!=0.19.0,>=0.14.0 in /usr/local/lib/python3.7/dist-packages (from librosa->nussl) (1.0.2)\n",
            "Requirement already satisfied: numba>=0.43.0 in /usr/local/lib/python3.7/dist-packages (from librosa->nussl) (0.51.2)\n",
            "Requirement already satisfied: llvmlite<0.35,>=0.34.0.dev0 in /usr/local/lib/python3.7/dist-packages (from numba>=0.43.0->librosa->nussl) (0.34.0)\n",
            "Requirement already satisfied: setuptools in /usr/local/lib/python3.7/dist-packages (from numba>=0.43.0->librosa->nussl) (57.4.0)\n",
            "Requirement already satisfied: pyparsing!=3.0.5,>=2.0.2 in /usr/local/lib/python3.7/dist-packages (from packaging>=20.0->librosa->nussl) (3.0.7)\n",
            "Requirement already satisfied: requests>=2.19.0 in /usr/local/lib/python3.7/dist-packages (from pooch>=1.0->librosa->nussl) (2.23.0)\n",
            "Requirement already satisfied: appdirs>=1.3.0 in /usr/local/lib/python3.7/dist-packages (from pooch>=1.0->librosa->nussl) (1.4.4)\n",
            "Requirement already satisfied: chardet<4,>=3.0.2 in /usr/local/lib/python3.7/dist-packages (from requests>=2.19.0->pooch>=1.0->librosa->nussl) (3.0.4)\n",
            "Requirement already satisfied: idna<3,>=2.5 in /usr/local/lib/python3.7/dist-packages (from requests>=2.19.0->pooch>=1.0->librosa->nussl) (2.10)\n",
            "Requirement already satisfied: certifi>=2017.4.17 in /usr/local/lib/python3.7/dist-packages (from requests>=2.19.0->pooch>=1.0->librosa->nussl) (2021.10.8)\n",
            "Requirement already satisfied: urllib3!=1.25.0,!=1.25.1,<1.26,>=1.21.1 in /usr/local/lib/python3.7/dist-packages (from requests>=2.19.0->pooch>=1.0->librosa->nussl) (1.24.3)\n",
            "Requirement already satisfied: threadpoolctl>=2.0.0 in /usr/local/lib/python3.7/dist-packages (from scikit-learn!=0.19.0,>=0.14.0->librosa->nussl) (3.1.0)\n",
            "Requirement already satisfied: cffi>=1.0 in /usr/local/lib/python3.7/dist-packages (from soundfile>=0.10.2->librosa->nussl) (1.15.0)\n",
            "Requirement already satisfied: pycparser in /usr/local/lib/python3.7/dist-packages (from cffi>=1.0->soundfile>=0.10.2->librosa->nussl) (2.21)\n",
            "Requirement already satisfied: kiwisolver>=1.0.1 in /usr/local/lib/python3.7/dist-packages (from matplotlib->nussl) (1.3.2)\n",
            "Requirement already satisfied: cycler>=0.10 in /usr/local/lib/python3.7/dist-packages (from matplotlib->nussl) (0.11.0)\n",
            "Requirement already satisfied: python-dateutil>=2.1 in /usr/local/lib/python3.7/dist-packages (from matplotlib->nussl) (2.8.2)\n",
            "Requirement already satisfied: stempeg>=0.2.3 in /usr/local/lib/python3.7/dist-packages (from musdb->nussl) (0.2.3)\n",
            "Requirement already satisfied: pyaml in /usr/local/lib/python3.7/dist-packages (from musdb->nussl) (21.10.1)\n",
            "Requirement already satisfied: simplejson in /usr/local/lib/python3.7/dist-packages (from museval->nussl) (3.17.6)\n",
            "Requirement already satisfied: pytz>=2017.3 in /usr/local/lib/python3.7/dist-packages (from pandas->jams->nussl) (2018.9)\n",
            "Requirement already satisfied: grpcio>=1.24.3 in /usr/local/lib/python3.7/dist-packages (from tensorboard->nussl) (1.43.0)\n",
            "Requirement already satisfied: markdown>=2.6.8 in /usr/local/lib/python3.7/dist-packages (from tensorboard->nussl) (3.3.6)\n",
            "Requirement already satisfied: werkzeug>=0.11.15 in /usr/local/lib/python3.7/dist-packages (from tensorboard->nussl) (1.0.1)\n",
            "Requirement already satisfied: wheel>=0.26 in /usr/local/lib/python3.7/dist-packages (from tensorboard->nussl) (0.37.1)\n",
            "Requirement already satisfied: absl-py>=0.4 in /usr/local/lib/python3.7/dist-packages (from tensorboard->nussl) (1.0.0)\n",
            "Requirement already satisfied: protobuf>=3.6.0 in /usr/local/lib/python3.7/dist-packages (from tensorboard->nussl) (3.17.3)\n",
            "Requirement already satisfied: google-auth<3,>=1.6.3 in /usr/local/lib/python3.7/dist-packages (from tensorboard->nussl) (1.35.0)\n",
            "Requirement already satisfied: tensorboard-plugin-wit>=1.6.0 in /usr/local/lib/python3.7/dist-packages (from tensorboard->nussl) (1.8.1)\n",
            "Requirement already satisfied: google-auth-oauthlib<0.5,>=0.4.1 in /usr/local/lib/python3.7/dist-packages (from tensorboard->nussl) (0.4.6)\n",
            "Requirement already satisfied: tensorboard-data-server<0.7.0,>=0.6.0 in /usr/local/lib/python3.7/dist-packages (from tensorboard->nussl) (0.6.1)\n",
            "Requirement already satisfied: pyasn1-modules>=0.2.1 in /usr/local/lib/python3.7/dist-packages (from google-auth<3,>=1.6.3->tensorboard->nussl) (0.2.8)\n",
            "Requirement already satisfied: rsa<5,>=3.1.4 in /usr/local/lib/python3.7/dist-packages (from google-auth<3,>=1.6.3->tensorboard->nussl) (4.8)\n",
            "Requirement already satisfied: cachetools<5.0,>=2.0.0 in /usr/local/lib/python3.7/dist-packages (from google-auth<3,>=1.6.3->tensorboard->nussl) (4.2.4)\n",
            "Requirement already satisfied: requests-oauthlib>=0.7.0 in /usr/local/lib/python3.7/dist-packages (from google-auth-oauthlib<0.5,>=0.4.1->tensorboard->nussl) (1.3.1)\n",
            "Requirement already satisfied: pyasn1<0.5.0,>=0.4.6 in /usr/local/lib/python3.7/dist-packages (from pyasn1-modules>=0.2.1->google-auth<3,>=1.6.3->tensorboard->nussl) (0.4.8)\n",
            "Requirement already satisfied: oauthlib>=3.0.0 in /usr/local/lib/python3.7/dist-packages (from requests-oauthlib>=0.7.0->google-auth-oauthlib<0.5,>=0.4.1->tensorboard->nussl) (3.2.0)\n",
            "Requirement already satisfied: numcodecs>=0.6.4 in /usr/local/lib/python3.7/dist-packages (from zarr->nussl) (0.9.1)\n",
            "Requirement already satisfied: asciitree in /usr/local/lib/python3.7/dist-packages (from zarr->nussl) (0.3.3)\n",
            "Requirement already satisfied: fasteners in /usr/local/lib/python3.7/dist-packages (from zarr->nussl) (0.17.3)\n"
          ]
        }
      ],
      "source": [
        "!pip install nussl"
      ]
    },
    {
      "cell_type": "code",
      "source": [
        "!pip install git+https://github.com/MickaRiv/ProjetDatascientest-VoiceSeparator"
      ],
      "metadata": {
        "id": "2qpbyKEIWXLs",
        "colab": {
          "base_uri": "https://localhost:8080/"
        },
        "outputId": "017b863b-0dba-42d2-d34a-2118ebcf90f4"
      },
      "execution_count": 2,
      "outputs": [
        {
          "output_type": "stream",
          "name": "stdout",
          "text": [
            "Collecting git+https://github.com/MickaRiv/ProjetDatascientest-VoiceSeparator\n",
            "  Cloning https://github.com/MickaRiv/ProjetDatascientest-VoiceSeparator to /tmp/pip-req-build-5qirz3bx\n",
            "  Running command git clone -q https://github.com/MickaRiv/ProjetDatascientest-VoiceSeparator /tmp/pip-req-build-5qirz3bx\n"
          ]
        }
      ]
    },
    {
      "cell_type": "code",
      "source": [
        "import os\n",
        "import nussl\n",
        "import librosa\n",
        "from matplotlib import pyplot as plt\n",
        "import numpy as np\n",
        "import concurrent.futures\n",
        "import time"
      ],
      "metadata": {
        "id": "hdUm3Z_kYBxG",
        "colab": {
          "base_uri": "https://localhost:8080/"
        },
        "outputId": "6d9583f6-016b-4c15-aae5-fb33ffe36d94"
      },
      "execution_count": 3,
      "outputs": [
        {
          "output_type": "stream",
          "name": "stderr",
          "text": [
            "SoX could not be found!\n",
            "\n",
            "    If you do not have SoX, proceed here:\n",
            "     - - - http://sox.sourceforge.net/ - - -\n",
            "\n",
            "    If you do (or think that you should) have SoX, double-check your\n",
            "    path variables.\n",
            "    \n"
          ]
        }
      ]
    },
    {
      "cell_type": "markdown",
      "source": [
        "# Montage du drive"
      ],
      "metadata": {
        "id": "B2SM-rvNXePU"
      }
    },
    {
      "cell_type": "code",
      "source": [
        "from google.colab import drive\n",
        "drive.mount(\"/content/drive\")"
      ],
      "metadata": {
        "colab": {
          "base_uri": "https://localhost:8080/"
        },
        "id": "T-wEt9VkW93z",
        "outputId": "8ab359c0-7794-4e73-9cd8-5986ba63357a"
      },
      "execution_count": 5,
      "outputs": [
        {
          "output_type": "stream",
          "name": "stdout",
          "text": [
            "Mounted at /content/drive\n"
          ]
        }
      ]
    },
    {
      "cell_type": "markdown",
      "source": [
        "# Récupération des données"
      ],
      "metadata": {
        "id": "379UggomX8AA"
      }
    },
    {
      "cell_type": "code",
      "source": [
        "from voicesep.core import get_musdb_data\n",
        "\n",
        "path = os.path.join(\"/content\",\n",
        "                    \"drive\",\n",
        "                    \"MyDrive\",\n",
        "                    \"Projet Datascientest\",\n",
        "                    \"musdb18\")\n",
        "musdb = get_musdb_data(gather_accompaniment=True,folder=path)\n",
        "musdb_train = get_musdb_data(gather_accompaniment=True,folder=path,subfolder=\"train\")\n",
        "musdb_test = get_musdb_data(gather_accompaniment=True,folder=path,subfolder=\"test\")"
      ],
      "metadata": {
        "id": "Kpy_wS_1X2FV"
      },
      "execution_count": 4,
      "outputs": []
    },
    {
      "cell_type": "markdown",
      "source": [
        "Ces variables sont des hooks dataset, et pas directement l'entièreté des données (pour ne pas exploser la RAM). Il est possible d'accéder aux items du dataset par le getitem python classique : `musdb[i]`.\n",
        "\n",
        "Exemple :"
      ],
      "metadata": {
        "id": "O5q2W0J5aYaT"
      }
    },
    {
      "cell_type": "markdown",
      "source": [
        "# Paramètres du modèle"
      ],
      "metadata": {
        "id": "r3Fio-6BRtpG"
      }
    },
    {
      "cell_type": "code",
      "source": [
        "#  Préprocess\n",
        "freq                  = 4096      # fréquence de reéchantillonage\n",
        "window_length         = 511       # taille fenêtre FFT\n",
        "hop_length            = 384       # recouvrement FFT\n",
        "patch_size            =  64       # taille du patch temporel pour  CNN   \n",
        "augmentation_factor   =  10        # paramètres de data augmentation\n",
        "\n",
        "nfreq                 = 256       # nombre de bins dans l'espace fréquentiel   = (window_length)/2        \n",
        "\n",
        "\n",
        "#  CNN\n",
        "batch_size      = 4        # taille des batch (en nombre de chansons)\n",
        "val_batch_size  = 4        # taille des batch pour la validation (en nombre de chansons)\n",
        "val_ratio       = 0.15      # fraction des data pour validation\n"
      ],
      "metadata": {
        "id": "36MCPW9E50MB"
      },
      "execution_count": 5,
      "outputs": []
    },
    {
      "cell_type": "markdown",
      "source": [
        "# Définition de fonctions utiles"
      ],
      "metadata": {
        "id": "P-GlZxRO5c6D"
      }
    },
    {
      "cell_type": "markdown",
      "source": [
        "Une fonction pour le préprocessing des données :\n",
        "- rééchantillonage,\n",
        "- passage en mono,\n",
        "- STFT et séparation magnitude et phase."
      ],
      "metadata": {
        "id": "DtRNRzh6QyXT"
      }
    },
    {
      "cell_type": "code",
      "source": [
        "def preprocess(music_data,\n",
        "               freq=freq,\n",
        "               window_length=window_length,\n",
        "               hop_length=hop_length,\n",
        "               normalize=True):\n",
        "  \n",
        "  # Spectro voix et mix\n",
        "  voice = music_data['sources'][\"vocals\"]\n",
        "  mix = music_data['mix']\n",
        "\n",
        "  # Resampling \n",
        "  if freq is not None:\n",
        "    voice.resample(freq,res_type='kaiser_fast')\n",
        "    mix.resample(freq,res_type='kaiser_fast')\n",
        "\n",
        "  # Passage en mono\n",
        "  voice.to_mono()\n",
        "  mix.to_mono()\n",
        "\n",
        "  # fft mix et voix (magnitude normalisée et phase)\n",
        "  stftvoice = voice.stft(window_length=window_length,hop_length=hop_length)\n",
        "  magvoice, phasevoice = librosa.magphase(stftvoice)\n",
        "\n",
        "  stftmix = mix.stft(window_length=window_length,hop_length=hop_length)\n",
        "  magmix, phasemix = librosa.magphase(stftmix)\n",
        "\n",
        "  if normalize:\n",
        "    norm = magmix.max()\n",
        "    magmix /= norm\n",
        "    magvoice /= norm\n",
        "    return magmix, magvoice, phasemix, norm\n",
        "\n",
        "  return magmix, magvoice, phasemix"
      ],
      "metadata": {
        "id": "DOB6Q_O0hhtw"
      },
      "execution_count": 6,
      "outputs": []
    },
    {
      "cell_type": "markdown",
      "source": [
        "Une fonction pour reshape les données (avec data augmentation)\n",
        "\n",
        "Des tableaux 2D ($n_{freq} \\times n_{t}$) sont pris en entrée.\n",
        "\n",
        "Les spectrogrammes sont découpés aléatoirement en tronçons de même tailles et une dimension de canal est ajoutée. La sortie est donc de dimension $n_{tronçons} \\times n_{t}' \\times n_{freq} \\times n_{canal}$, où $n_{t}'$ correspond à un `patch_size` choisi par l'utilisateur et $n_{canal} = 1$.\n",
        "Le nombre de tronçons est contrôlé par le paramètre augmentation_factor."
      ],
      "metadata": {
        "id": "ssmm6-K-RDx5"
      }
    },
    {
      "cell_type": "code",
      "source": [
        "def reshape(X_mix, X_voice, patch_size=patch_size, dataaugment=False):\n",
        " # transposition pour mettre le temps en première composante  \n",
        "\n",
        "  X_mix = X_mix.T\n",
        "  X_voice = X_voice.T\n",
        "\n",
        "  nimages0=X_mix.shape[0]//patch_size    # nombre total d'images pour un découpage disjoint\n",
        "  nimages=nimages0 * augmentation_factor # nombre total d'images (data augmentation)\n",
        "\n",
        "# cas sans data augmentation. Découpage disjoint du spectre\n",
        "  if (dataaugment==False):\n",
        "    newsize = nimages0*patch_size           # nouvelle taille pour un découpage qui tombe juste \n",
        "\n",
        "    X_mix_resized = X_mix[:newsize,:]\n",
        "    X_voice_resized = X_voice[:newsize,:]\n",
        "\n",
        "    X_mix = np.array(np.split(X_mix_resized, nimages0, axis=0))    \n",
        "    X_voice = np.array(np.split(X_voice_resized, nimages0, axis=0))\n",
        "\n",
        "# cas avec data augmentation. Découpage aléatoire dans le spectre\n",
        "  if (dataaugment==True):\n",
        "    Xm, Xv = [], []\n",
        "    starts = np.random.randint(0, X_mix.shape[0]-patch_size, nimages)\n",
        "    for start in starts:\n",
        "      end = start + patch_size\n",
        "      Xm.append(X_mix[start:end,:])\n",
        "      Xv.append(X_voice[start:end,:])\n",
        " \n",
        "    X_mix=np.array(Xm)\n",
        "    X_voice=np.array(Xv)\n",
        "\n",
        "  # rajout d'une dimension (canal)              \n",
        "  X_mix=np.expand_dims(X_mix,axis=3) \n",
        "  X_voice=np.expand_dims(X_voice,axis=3)\n",
        "\n",
        "  return X_mix, X_voice\n",
        "\n"
      ],
      "metadata": {
        "id": "kRPs4VtE5YP0"
      },
      "execution_count": 7,
      "outputs": []
    },
    {
      "cell_type": "markdown",
      "source": [
        "Enfin, un générateur de données est créé pour permettre l'entrainement d'un réseau de neurone sans engorger la RAM.\n",
        "\n",
        "Nous allons d'abord mettre en place la structure nécessaire au multithreading."
      ],
      "metadata": {
        "id": "Eh1zZOd8TBBS"
      }
    },
    {
      "cell_type": "code",
      "source": [
        "# Multithreading and multiprocessing test : Lancement de 5 fonctions qui durent 2 secondes\n",
        "def f(i):\n",
        "  time.sleep(2)\n",
        "  return i\n",
        "\n",
        "res = []\n",
        "t = time.time()\n",
        "for i in range(5):\n",
        "  res.append(f(i))\n",
        "print(f\"Sequential : {time.time()-t}s\")\n",
        "print(f\"Result : {res}\")\n",
        "\n",
        "t = time.time()\n",
        "with concurrent.futures.ThreadPoolExecutor() as executor:\n",
        "  threads = []\n",
        "  for i in range(5):\n",
        "    threads.append(executor.submit(f, i))\n",
        "  res = [t.result() for t in threads]\n",
        "print(f\"Multithreaded : {time.time()-t}s\")\n",
        "print(f\"Result : {res}\")\n",
        "\n",
        "t = time.time()\n",
        "with concurrent.futures.ProcessPoolExecutor() as executor:\n",
        "  threads = []\n",
        "  for i in range(5):\n",
        "    threads.append(executor.submit(f, i))\n",
        "  res = [t.result() for t in threads]\n",
        "print(f\"Multiprocessed : {time.time()-t}s\")\n",
        "print(f\"Result : {res}\")\n",
        "print(f\"(By default, google allows to use 2 CPU)\")"
      ],
      "metadata": {
        "colab": {
          "base_uri": "https://localhost:8080/"
        },
        "id": "ZPNgQyaRX6Xd",
        "outputId": "3521a01a-d13e-46cf-bb50-b131dd0d51bb"
      },
      "execution_count": null,
      "outputs": [
        {
          "output_type": "stream",
          "name": "stdout",
          "text": [
            "Sequential : 10.011022806167603s\n",
            "Result : [0, 1, 2, 3, 4]\n",
            "Multithreaded : 2.0051374435424805s\n",
            "Result : [0, 1, 2, 3, 4]\n",
            "Multiprocessed : 6.1457908153533936s\n",
            "Result : [0, 1, 2, 3, 4]\n",
            "(By default, google allows to use 2 CPU)\n"
          ]
        }
      ]
    },
    {
      "cell_type": "markdown",
      "source": [
        "Notre problème est majoritairement CPU-bound (limité par la puissance de calcul), notamment lors de la première epoch (lecture des audios, stft, etc...).\n",
        "\n",
        "Le multiprocessing est donc plus adapté que le multithreading.\n",
        "\n",
        "Par défaut, Colab nous permet d'accéder à deux CPU, ce qui permet de diviser le temps par deux mais ajoute un overhead.\n",
        "\n",
        "De plus, la réalisation de trop de tâches en parallèle risque de saturer la RAM, que l'on contrôle difficilement grâce au générateur.\n",
        "\n",
        "Peu de gain est à espérer, mais on propose d'utiliser un multiprocessing que nous contraindrons à 3 workers max. Nous n'utiliserons la parallélisation **que** lorsque les données ne sont pas lues en cache. "
      ],
      "metadata": {
        "id": "etF8WGZJM7Wj"
      }
    },
    {
      "cell_type": "code",
      "source": [
        "def get_data(all_data, num, freq, window_length, hop_length, cache_on_disk, cache_path):\n",
        "\n",
        "  magmix, magvoice, *_ = preprocess(all_data[num], freq, window_length, hop_length)\n",
        "  magmix = magmix[:,:,0]\n",
        "  magvoice = magvoice[:,:,0]\n",
        "  if cache_on_disk:\n",
        "    os.mkdir(cache_path)\n",
        "    np.save(os.path.join(cache_path,\"magmix.npy\"), magmix)\n",
        "    np.save(os.path.join(cache_path,\"magvoice.npy\"), magvoice)\n",
        "  return magmix, magvoice"
      ],
      "metadata": {
        "id": "zqlwXDRZO3VL"
      },
      "execution_count": 8,
      "outputs": []
    },
    {
      "cell_type": "markdown",
      "source": [
        "De nombreux paramètres sont disponibles, notamment la possibilité de stocker les données sur le disque (argument `cache_on_disk`), ce qui permet de très fortement accélérer la lecture des données dès la deuxième epoch."
      ],
      "metadata": {
        "id": "WcgvRGQkF1QG"
      }
    },
    {
      "cell_type": "code",
      "source": [
        "def data_generator(all_data,\n",
        "                   batch_size = batch_size,\n",
        "                   nfreq = nfreq,\n",
        "                   freq = freq,\n",
        "                   window_length = window_length,\n",
        "                   hop_length = hop_length,\n",
        "                   patch_size = patch_size,\n",
        "                   cache_on_disk = False,\n",
        "                   cache_dir = os.path.join(\"/content\",\"cache\"),\n",
        "                   randomize_batches = False,\n",
        "                   min_max = None,\n",
        "                   parallel = False,\n",
        "                   max_workers = None):\n",
        "  # Mix as input, voice as output\n",
        "  if cache_on_disk and not os.path.exists(cache_dir):\n",
        "    os.mkdir(cache_dir)\n",
        "  magmixes, magvoices = {},{}\n",
        "  if min_max is None:\n",
        "    min = 0\n",
        "    max = len(all_data)\n",
        "  else:\n",
        "    min, max = min_max\n",
        "  my_range = np.arange(min,max)\n",
        "\n",
        "  with concurrent.futures.ProcessPoolExecutor(max_workers=max_workers) as executor:\n",
        "    workers = {}\n",
        "    counts = []\n",
        "    while True:\n",
        "\n",
        "      if randomize_batches:\n",
        "        np.random.shuffle(my_range)\n",
        "\n",
        "      for count,num in enumerate(my_range):\n",
        "\n",
        "        counts.append(count)\n",
        "        cache_path = os.path.join(cache_dir,f\"{num}_{freq}_{window_length}_{hop_length}\")\n",
        "        if cache_on_disk and os.path.exists(cache_path):\n",
        "          magmix = np.load(os.path.join(cache_path,\"magmix.npy\"))\n",
        "          magvoice = np.load(os.path.join(cache_path,\"magvoice.npy\"))\n",
        "          magmixes[count] = magmix\n",
        "          magvoices[count] = magvoice\n",
        "        else:\n",
        "          func = get_data\n",
        "          args = (all_data, num, freq, window_length, hop_length, cache_on_disk, cache_path)\n",
        "          if parallel:\n",
        "            workers[count] = executor.submit(func, *args)\n",
        "          else:\n",
        "            magmix, magvoice = func(*args)\n",
        "            magmixes[count] = magmix\n",
        "            magvoices[count] = magvoice\n",
        "\n",
        "        if((count+1)%batch_size == 0 or count+1 == len(my_range)):\n",
        "\n",
        "          if parallel:\n",
        "            results = {i:w.result() for i,w in workers.items()}\n",
        "            for i in results.keys():\n",
        "              magmixes[i] = results[i][0]\n",
        "              magvoices[i] = results[i][1]\n",
        "          X_mix = np.concatenate([magmixes[i] for i in counts], axis=1)\n",
        "          X_voice = np.concatenate([magvoices[i] for i in counts], axis=1)\n",
        "          X_mix, X_voice = reshape(X_mix, X_voice, patch_size,dataaugment=True)\n",
        "        \n",
        "          yield X_mix, X_voice\n",
        "\n",
        "          X_mix, X_voice = None, None\n",
        "          magmixes, magvoices = {}, {}\n",
        "          workers = {}\n",
        "          counts = []"
      ],
      "metadata": {
        "id": "9HoWVD3olZne"
      },
      "execution_count": 9,
      "outputs": []
    },
    {
      "cell_type": "markdown",
      "source": [
        "Petite vérification de la shape obtenue sur un exemple rapide."
      ],
      "metadata": {
        "id": "G026qeO9Tl1n"
      }
    },
    {
      "cell_type": "code",
      "source": [
        "a = data_generator(musdb_train,\n",
        "                   batch_size=5,\n",
        "                   cache_on_disk=True,\n",
        "                   randomize_batches=False,\n",
        "                   min_max = None,\n",
        "                   parallel = True)\n",
        "print(\"Testing, should be (162,256, 64, 1)\")\n",
        "import time\n",
        "t = time.time()\n",
        "print(next(a)[0].shape)\n",
        "print(f\"Took {time.time()-t}s\")"
      ],
      "metadata": {
        "colab": {
          "base_uri": "https://localhost:8080/"
        },
        "id": "o49lvjgF38mj",
        "outputId": "dd8a7b6a-164c-411e-dc37-829de947b544"
      },
      "execution_count": null,
      "outputs": [
        {
          "output_type": "stream",
          "name": "stdout",
          "text": [
            "Testing, should be (81, 128, 512, 1)\n",
            "(162, 256, 64, 1)\n",
            "(162, 256, 64, 1)\n",
            "Took 56.85111999511719s\n"
          ]
        }
      ]
    },
    {
      "cell_type": "markdown",
      "source": [
        "# Création du U-Net"
      ],
      "metadata": {
        "id": "Y5EX2vtFTBkI"
      }
    },
    {
      "cell_type": "markdown",
      "source": [
        "U-Net tiré de Jansson et al.\n",
        "\n",
        "Input: \"image\" de spectrogramme : taille nframes x nfreq\n",
        "Output: Mask M  x Input = Spectro Voix"
      ],
      "metadata": {
        "id": "AzubwnPETmX5"
      }
    },
    {
      "cell_type": "markdown",
      "source": [
        "## Définition et entrainement du réseau"
      ],
      "metadata": {
        "id": "0aMWq1FuWMLg"
      }
    },
    {
      "cell_type": "code",
      "source": [
        "import tensorflow as tf\n",
        "from tensorflow.keras.models import Model\n",
        "from tensorflow.keras.layers import Input, BatchNormalization, Conv2D, Conv2DTranspose , Dropout, Concatenate,  LeakyReLU, ReLU, Activation\n",
        "from tensorflow.keras import callbacks\n",
        "\n",
        "n_train = int(len(musdb_train)*(1-val_ratio))\n",
        "n_tot=len(musdb_train)\n",
        "#n_train=50\n",
        "#n_tot=55\n",
        "\n",
        "data_gen = data_generator(musdb_train,\n",
        "                          batch_size=batch_size,\n",
        "                          patch_size=patch_size,\n",
        "                          cache_on_disk=True,\n",
        "                          min_max = (0,n_train),\n",
        "                          max_workers = 3)\n",
        "val_gen = data_generator(musdb_train,\n",
        "                         batch_size=val_batch_size,\n",
        "                         patch_size=patch_size,\n",
        "                         cache_on_disk=True,\n",
        "                         min_max = (n_train,n_tot),\n",
        "                         max_workers = 3)\n",
        "\n",
        "# Création de la structure\n",
        "nframes=patch_size\n",
        "inputs=Input(shape =(nframes,nfreq,1) )\n",
        "\n",
        "conv1 = Conv2D(filters = 16, kernel_size = (5,5) , strides=2, padding='same')(inputs)\n",
        "conv1 = BatchNormalization()(conv1)\n",
        "conv1 = LeakyReLU(alpha=0.2)(conv1)\n",
        "\n",
        "conv2 = Conv2D(filters = 32, kernel_size = (5,5), strides=2, padding='same')(conv1)\n",
        "conv2 = BatchNormalization()(conv2)\n",
        "conv2 = LeakyReLU(alpha=0.2)(conv2)\n",
        "\n",
        "conv3 = Conv2D(filters = 64, kernel_size = (3,3), strides=2, padding='same')(conv2)\n",
        "conv3 = BatchNormalization()(conv3)\n",
        "conv3 = LeakyReLU(alpha=0.2)(conv3)\n",
        "\n",
        "conv4 = Conv2D(filters = 128, kernel_size = (3,3), strides=2, padding='same')(conv3)\n",
        "conv4 = BatchNormalization()(conv4)\n",
        "conv4 = LeakyReLU(alpha=0.2)(conv4)\n",
        "\n",
        "conv5 = Conv2D(filters = 256, kernel_size = (3,3), strides=2, padding='same')(conv4)\n",
        "conv5 = BatchNormalization()(conv5)\n",
        "conv5 = LeakyReLU(alpha=0.2)(conv5)\n",
        "\n",
        "conv6 = Conv2D(filters = 256, kernel_size = (3,3), strides=2, padding='same')(conv5)\n",
        "conv6 = BatchNormalization()(conv6)\n",
        "conv6 = LeakyReLU(alpha=0.2)(conv6)\n",
        "\n",
        "deconv7 = Conv2DTranspose(filters = 256, kernel_size = (3,3), strides=2, padding='same')(conv6)\n",
        "deconv7 = BatchNormalization()(deconv7)\n",
        "deconv7 = Dropout(0.5)(deconv7)\n",
        "deconv7 = ReLU()(deconv7)\n",
        "deconv7 = Concatenate(axis=3)([deconv7, conv5])\n",
        "\n",
        "deconv8 = Conv2DTranspose(filters = 128, kernel_size = (3,3), strides=2, padding='same')(deconv7)\n",
        "deconv8 = BatchNormalization()(deconv8)\n",
        "deconv8 = Dropout(0.5)(deconv8)\n",
        "deconv8 = ReLU()(deconv8)\n",
        "deconv8 = Concatenate(axis=3)([deconv8, conv4])\n",
        "\n",
        "deconv9 = Conv2DTranspose(filters = 64, kernel_size = (3,3), strides=2, padding='same')(deconv8)\n",
        "deconv9 = BatchNormalization()(deconv9)\n",
        "deconv9 = Dropout(0.5)(deconv9)\n",
        "deconv9 = ReLU()(deconv9)\n",
        "deconv9= Concatenate(axis=3)([deconv9, conv3])\n",
        "\n",
        "deconv10 = Conv2DTranspose(filters = 32, kernel_size = (5,5), strides=2, padding='same')(deconv9)\n",
        "deconv10 = BatchNormalization()(deconv10)\n",
        "deconv10 = ReLU()(deconv10)\n",
        "deconv10 = Concatenate(axis=3)([deconv10, conv2])\n",
        "\n",
        "deconv11 = Conv2DTranspose(filters = 16, kernel_size = (5,5), strides=2, padding='same')(deconv10)\n",
        "deconv11 = BatchNormalization()(deconv11)\n",
        "deconv11 = ReLU()(deconv11)\n",
        "deconv11 = Concatenate(axis=3)([deconv11, conv1])\n",
        "\n",
        "deconv12 = Conv2DTranspose(filters = 1, kernel_size = (5,5), strides=2, padding='same')(deconv11)\n",
        "\n",
        "mask     = Activation('sigmoid')(deconv12)\n",
        "\n",
        "output1 = tf.multiply(inputs,mask)\n",
        "\n",
        "unet = Model(inputs=inputs, outputs=output1)\n",
        "unet.summary()\n",
        "\n",
        "\n",
        "unet.compile(loss='mean_absolute_error',optimizer='adam')            \n",
        "\n",
        "\n",
        "early_stopping = callbacks.EarlyStopping(monitor='val_loss',\n",
        "                                         patience=40,\n",
        "                                         mode='min',\n",
        "                                         restore_best_weights=True)\n",
        "\n",
        "lr_plateau = callbacks.ReduceLROnPlateau(monitor='val_loss',\n",
        "                                         patience=30,\n",
        "                                         factor=0.6,\n",
        "                                         verbose=2,\n",
        "                                         mode='min')\n",
        "\n",
        "train_history = unet.fit(data_gen,\n",
        "                         epochs=150,\n",
        "                         steps_per_epoch=np.ceil(n_train/batch_size),\n",
        "                         validation_data=val_gen,\n",
        "                         validation_steps=np.ceil((n_tot-n_train)/batch_size),\n",
        "                         callbacks = [lr_plateau])\n",
        "\n"
      ],
      "metadata": {
        "colab": {
          "base_uri": "https://localhost:8080/"
        },
        "id": "aZbxuIq2TW8M",
        "outputId": "b224689a-631c-4384-b47a-1c8ffcff91a3"
      },
      "execution_count": null,
      "outputs": [
        {
          "output_type": "stream",
          "name": "stdout",
          "text": [
            "Model: \"model_4\"\n",
            "__________________________________________________________________________________________________\n",
            " Layer (type)                   Output Shape         Param #     Connected to                     \n",
            "==================================================================================================\n",
            " input_5 (InputLayer)           [(None, 64, 256, 1)  0           []                               \n",
            "                                ]                                                                 \n",
            "                                                                                                  \n",
            " conv2d_24 (Conv2D)             (None, 32, 128, 16)  416         ['input_5[0][0]']                \n",
            "                                                                                                  \n",
            " batch_normalization_44 (BatchN  (None, 32, 128, 16)  64         ['conv2d_24[0][0]']              \n",
            " ormalization)                                                                                    \n",
            "                                                                                                  \n",
            " leaky_re_lu_24 (LeakyReLU)     (None, 32, 128, 16)  0           ['batch_normalization_44[0][0]'] \n",
            "                                                                                                  \n",
            " conv2d_25 (Conv2D)             (None, 16, 64, 32)   12832       ['leaky_re_lu_24[0][0]']         \n",
            "                                                                                                  \n",
            " batch_normalization_45 (BatchN  (None, 16, 64, 32)  128         ['conv2d_25[0][0]']              \n",
            " ormalization)                                                                                    \n",
            "                                                                                                  \n",
            " leaky_re_lu_25 (LeakyReLU)     (None, 16, 64, 32)   0           ['batch_normalization_45[0][0]'] \n",
            "                                                                                                  \n",
            " conv2d_26 (Conv2D)             (None, 8, 32, 64)    18496       ['leaky_re_lu_25[0][0]']         \n",
            "                                                                                                  \n",
            " batch_normalization_46 (BatchN  (None, 8, 32, 64)   256         ['conv2d_26[0][0]']              \n",
            " ormalization)                                                                                    \n",
            "                                                                                                  \n",
            " leaky_re_lu_26 (LeakyReLU)     (None, 8, 32, 64)    0           ['batch_normalization_46[0][0]'] \n",
            "                                                                                                  \n",
            " conv2d_27 (Conv2D)             (None, 4, 16, 128)   73856       ['leaky_re_lu_26[0][0]']         \n",
            "                                                                                                  \n",
            " batch_normalization_47 (BatchN  (None, 4, 16, 128)  512         ['conv2d_27[0][0]']              \n",
            " ormalization)                                                                                    \n",
            "                                                                                                  \n",
            " leaky_re_lu_27 (LeakyReLU)     (None, 4, 16, 128)   0           ['batch_normalization_47[0][0]'] \n",
            "                                                                                                  \n",
            " conv2d_28 (Conv2D)             (None, 2, 8, 256)    295168      ['leaky_re_lu_27[0][0]']         \n",
            "                                                                                                  \n",
            " batch_normalization_48 (BatchN  (None, 2, 8, 256)   1024        ['conv2d_28[0][0]']              \n",
            " ormalization)                                                                                    \n",
            "                                                                                                  \n",
            " leaky_re_lu_28 (LeakyReLU)     (None, 2, 8, 256)    0           ['batch_normalization_48[0][0]'] \n",
            "                                                                                                  \n",
            " conv2d_29 (Conv2D)             (None, 1, 4, 256)    590080      ['leaky_re_lu_28[0][0]']         \n",
            "                                                                                                  \n",
            " batch_normalization_49 (BatchN  (None, 1, 4, 256)   1024        ['conv2d_29[0][0]']              \n",
            " ormalization)                                                                                    \n",
            "                                                                                                  \n",
            " leaky_re_lu_29 (LeakyReLU)     (None, 1, 4, 256)    0           ['batch_normalization_49[0][0]'] \n",
            "                                                                                                  \n",
            " conv2d_transpose_24 (Conv2DTra  (None, 2, 8, 256)   590080      ['leaky_re_lu_29[0][0]']         \n",
            " nspose)                                                                                          \n",
            "                                                                                                  \n",
            " batch_normalization_50 (BatchN  (None, 2, 8, 256)   1024        ['conv2d_transpose_24[0][0]']    \n",
            " ormalization)                                                                                    \n",
            "                                                                                                  \n",
            " dropout_12 (Dropout)           (None, 2, 8, 256)    0           ['batch_normalization_50[0][0]'] \n",
            "                                                                                                  \n",
            " re_lu_20 (ReLU)                (None, 2, 8, 256)    0           ['dropout_12[0][0]']             \n",
            "                                                                                                  \n",
            " concatenate_20 (Concatenate)   (None, 2, 8, 512)    0           ['re_lu_20[0][0]',               \n",
            "                                                                  'leaky_re_lu_28[0][0]']         \n",
            "                                                                                                  \n",
            " conv2d_transpose_25 (Conv2DTra  (None, 4, 16, 128)  589952      ['concatenate_20[0][0]']         \n",
            " nspose)                                                                                          \n",
            "                                                                                                  \n",
            " batch_normalization_51 (BatchN  (None, 4, 16, 128)  512         ['conv2d_transpose_25[0][0]']    \n",
            " ormalization)                                                                                    \n",
            "                                                                                                  \n",
            " dropout_13 (Dropout)           (None, 4, 16, 128)   0           ['batch_normalization_51[0][0]'] \n",
            "                                                                                                  \n",
            " re_lu_21 (ReLU)                (None, 4, 16, 128)   0           ['dropout_13[0][0]']             \n",
            "                                                                                                  \n",
            " concatenate_21 (Concatenate)   (None, 4, 16, 256)   0           ['re_lu_21[0][0]',               \n",
            "                                                                  'leaky_re_lu_27[0][0]']         \n",
            "                                                                                                  \n",
            " conv2d_transpose_26 (Conv2DTra  (None, 8, 32, 64)   147520      ['concatenate_21[0][0]']         \n",
            " nspose)                                                                                          \n",
            "                                                                                                  \n",
            " batch_normalization_52 (BatchN  (None, 8, 32, 64)   256         ['conv2d_transpose_26[0][0]']    \n",
            " ormalization)                                                                                    \n",
            "                                                                                                  \n",
            " dropout_14 (Dropout)           (None, 8, 32, 64)    0           ['batch_normalization_52[0][0]'] \n",
            "                                                                                                  \n",
            " re_lu_22 (ReLU)                (None, 8, 32, 64)    0           ['dropout_14[0][0]']             \n",
            "                                                                                                  \n",
            " concatenate_22 (Concatenate)   (None, 8, 32, 128)   0           ['re_lu_22[0][0]',               \n",
            "                                                                  'leaky_re_lu_26[0][0]']         \n",
            "                                                                                                  \n",
            " conv2d_transpose_27 (Conv2DTra  (None, 16, 64, 32)  102432      ['concatenate_22[0][0]']         \n",
            " nspose)                                                                                          \n",
            "                                                                                                  \n",
            " batch_normalization_53 (BatchN  (None, 16, 64, 32)  128         ['conv2d_transpose_27[0][0]']    \n",
            " ormalization)                                                                                    \n",
            "                                                                                                  \n",
            " re_lu_23 (ReLU)                (None, 16, 64, 32)   0           ['batch_normalization_53[0][0]'] \n",
            "                                                                                                  \n",
            " concatenate_23 (Concatenate)   (None, 16, 64, 64)   0           ['re_lu_23[0][0]',               \n",
            "                                                                  'leaky_re_lu_25[0][0]']         \n",
            "                                                                                                  \n",
            " conv2d_transpose_28 (Conv2DTra  (None, 32, 128, 16)  25616      ['concatenate_23[0][0]']         \n",
            " nspose)                                                                                          \n",
            "                                                                                                  \n",
            " batch_normalization_54 (BatchN  (None, 32, 128, 16)  64         ['conv2d_transpose_28[0][0]']    \n",
            " ormalization)                                                                                    \n",
            "                                                                                                  \n",
            " re_lu_24 (ReLU)                (None, 32, 128, 16)  0           ['batch_normalization_54[0][0]'] \n",
            "                                                                                                  \n",
            " concatenate_24 (Concatenate)   (None, 32, 128, 32)  0           ['re_lu_24[0][0]',               \n",
            "                                                                  'leaky_re_lu_24[0][0]']         \n",
            "                                                                                                  \n",
            " conv2d_transpose_29 (Conv2DTra  (None, 64, 256, 1)  801         ['concatenate_24[0][0]']         \n",
            " nspose)                                                                                          \n",
            "                                                                                                  \n",
            " activation_4 (Activation)      (None, 64, 256, 1)   0           ['conv2d_transpose_29[0][0]']    \n",
            "                                                                                                  \n",
            " tf.math.multiply_4 (TFOpLambda  (None, 64, 256, 1)  0           ['input_5[0][0]',                \n",
            " )                                                                'activation_4[0][0]']           \n",
            "                                                                                                  \n",
            "==================================================================================================\n",
            "Total params: 2,452,241\n",
            "Trainable params: 2,449,745\n",
            "Non-trainable params: 2,496\n",
            "__________________________________________________________________________________________________\n",
            "Epoch 1/150\n",
            " 1/22 [>.............................] - ETA: 4:11 - loss: 0.0078"
          ]
        }
      ]
    },
    {
      "cell_type": "markdown",
      "source": [
        "Courbes de perte"
      ],
      "metadata": {
        "id": "OOXwqzFVVt49"
      }
    },
    {
      "cell_type": "code",
      "source": [
        "plt.figure(figsize=(9,6))\n",
        "plt.rcParams['xtick.labelsize']=15\n",
        "plt.rcParams['ytick.labelsize']=15\n",
        "plt.plot(train_history.history['loss'])\n",
        "plt.plot(train_history.history['val_loss'])\n",
        "plt.title('Perte par epoch',fontsize=15)\n",
        "plt.ylabel('loss',fontsize=20)\n",
        "plt.xlabel('epoch',fontsize=20)\n",
        "plt.legend(['train', 'validation'], loc='best',fontsize=20)\n",
        "plt.show();"
      ],
      "metadata": {
        "id": "p_XSEzuJVlvq",
        "outputId": "6cfa80ff-f3a0-4b34-d794-38192c142688",
        "colab": {
          "base_uri": "https://localhost:8080/",
          "height": 420
        }
      },
      "execution_count": 20,
      "outputs": [
        {
          "output_type": "display_data",
          "data": {
            "image/png": "[encoded data removed]",
            "text/plain": [
              "<Figure size 648x432 with 1 Axes>"
            ]
          },
          "metadata": {
            "needs_background": "light"
          }
        }
      ]
    },
    {
      "cell_type": "markdown",
      "source": [
        "Possibilité de sauvegarder le réseau obtenu. Nom au format *nom* \\_ *date* \\_ *clé aléatoire*."
      ],
      "metadata": {
        "id": "H3t62l2tWeIe"
      }
    },
    {
      "cell_type": "code",
      "source": [
        "import secrets\n",
        "from datetime import datetime\n",
        "\n",
        "name = \"model\"\n",
        "date = datetime.today().strftime('%Y%m%d')\n",
        "rand_key = secrets.token_hex(8)\n",
        "full_name = f\"{name}_{date}_{rand_key}\"\n",
        "\n",
        "unet.save(os.path.join(\"/content\",\"drive\",\"MyDrive\",\"Projet Datascientest\",\"UNet\",full_name))"
      ],
      "metadata": {
        "id": "z8gjGAIxWjxq",
        "colab": {
          "base_uri": "https://localhost:8080/"
        },
        "outputId": "b8fea988-98da-4627-ac39-2f1ceb7810bc"
      },
      "execution_count": 21,
      "outputs": [
        {
          "output_type": "stream",
          "name": "stdout",
          "text": [
            "INFO:tensorflow:Assets written to: /content/drive/MyDrive/Projet Datascientest/UNet/model_20220207_1c3f202c69a53517/assets\n"
          ]
        }
      ]
    },
    {
      "cell_type": "markdown",
      "source": [
        "## Chargement d'un réseau existant"
      ],
      "metadata": {
        "id": "UPYKCki7WUYu"
      }
    },
    {
      "cell_type": "code",
      "source": [
        "from tensorflow.keras.models import load_model\n",
        "\n",
        "model_path = os.path.join(\"/content\",\"drive\",\"MyDrive\",\"Projet Datascientest\",\"UNet\",\"model_20220207_aug=4_4k\")\n",
        "unet = load_model(model_path)\n",
        "\n",
        "#Modèles:\n",
        "#model_20220122:fs=4 kHz - Model=2.3+LR+ES - Augment=2 - Batch=2 - 34 épochs - Loss=0.0027    Val_loss=0.0035     SDR=\n",
        "\n",
        "\n"
      ],
      "metadata": {
        "id": "-lb5xYvPZFsC"
      },
      "execution_count": 10,
      "outputs": []
    },
    {
      "cell_type": "markdown",
      "source": [
        "# Evaluation du modèle"
      ],
      "metadata": {
        "id": "-Sk6a2GFZqc2"
      }
    },
    {
      "cell_type": "markdown",
      "source": [
        "## Exemple de prédiction"
      ],
      "metadata": {
        "id": "TW3IiwxaZ2rH"
      }
    },
    {
      "cell_type": "markdown",
      "source": [
        "## Visualisation complète et écoute d'une musique"
      ],
      "metadata": {
        "id": "xH9_nck-vaRi"
      }
    },
    {
      "cell_type": "code",
      "source": [
        "data = musdb_train[0]\n",
        "\n",
        "magmix, magvoice, phase, norm = preprocess(data)\n",
        "X_mix, X_voice = reshape(magmix[:,:,0], magvoice[:,:,0], patch_size, dataaugment=False)\n",
        "\n",
        "print(data[\"mix\"])\n",
        "data[\"mix\"].embed_audio()\n",
        "nussl.utils.visualize_spectrogram(data[\"mix\"])\n",
        "plt.show()\n",
        "\n",
        "print(data[\"sources\"][\"vocals\"])\n",
        "data[\"sources\"][\"vocals\"].embed_audio()\n",
        "nussl.utils.visualize_spectrogram(data[\"sources\"][\"vocals\"])\n",
        "plt.show()\n",
        "\n",
        "X_voice_pred =unet.predict(X_mix)\n",
        "magmix_pred = X_voice_pred.reshape(-1,nfreq,1).transpose(1,0,2)\n",
        "end = magmix_pred.shape[1]\n",
        "audio_pred = nussl.AudioSignal(stft=magmix_pred*norm*phase[:,:end],sample_rate=freq)\n",
        "audio_pred.istft(window_length=window_length,hop_length=hop_length)\n",
        "print(audio_pred)\n",
        "audio_pred.embed_audio()\n",
        "nussl.utils.visualize_spectrogram(audio_pred)\n",
        "plt.show()\n",
        "\n"
      ],
      "metadata": {
        "id": "Mwlq8Jwfv_BJ"
      },
      "execution_count": null,
      "outputs": []
    },
    {
      "cell_type": "code",
      "source": [
        "# fonctions\n",
        "\n",
        "def preprocess_mix(mix,\n",
        "                   freq=freq,\n",
        "                   window_length=window_length,\n",
        "                   hop_length=hop_length,\n",
        "                   normalize=True):\n",
        "\n",
        "  # Resampling à 16 kHz (pour data plus light)\n",
        "  if freq is not None:\n",
        "    mix.resample(freq,res_type='kaiser_fast')\n",
        "\n",
        "  # Passage en mono\n",
        "  mix.to_mono()\n",
        "\n",
        "  # fft mix et voix (magnitude normalisée et phase)\n",
        "  stftmix = mix.stft(window_length=window_length,hop_length=hop_length)\n",
        "  magmix, phasemix = librosa.magphase(stftmix)\n",
        "\n",
        "  if normalize:\n",
        "    norm = magmix.max()\n",
        "    magmix /= norm\n",
        "    return magmix, phasemix, norm\n",
        "\n",
        "  return magmix, phasemix\n",
        "\n",
        "\n",
        "def reshape_mix(X_mix, patch_size=patch_size, extend=False):\n",
        "  # transposition pour mettre le temps en première composante  \n",
        "  X_mix = X_mix.T\n",
        "\n",
        "  if extend:\n",
        "    # split en \"images\" temporelles de taille patch_size (128 dans le papier d'origine)\n",
        "    nimages = int(np.ceil(X_mix.shape[0]/patch_size))   # nombre total d'images\n",
        "    newsize = nimages*patch_size           # nouvelle taille pour un découpage qui tombe juste \n",
        "\n",
        "    X_mix_resized = np.concatenate((X_mix,np.zeros((newsize-X_mix.shape[0],X_mix.shape[1]))))\n",
        "  else:\n",
        "    # split en \"images\" temporelles de taille patch_size (128 dans le papier d'origine)\n",
        "    nimages = X_mix.shape[0]//patch_size   # nombre total d'images\n",
        "    newsize = nimages*patch_size           # nouvelle taille pour un découpage qui tombe juste \n",
        "\n",
        "    X_mix_resized = X_mix[:newsize]\n",
        "\n",
        "  X_mix = np.array(np.split(X_mix_resized, nimages, axis=0))    # découpage \n",
        "\n",
        "  X_mix = np.expand_dims(X_mix,axis=3) # rajout d'une dimension (canal) \n",
        "\n",
        "  return X_mix\n",
        "\n",
        "class UNetModel:\n",
        "\n",
        "  def __init__(self,mix,model):\n",
        "    self.mix = mix\n",
        "    self.model = model\n",
        "  def __call__(self):\n",
        "    magmix, phase, norm = preprocess_mix(self.mix)\n",
        "    X_mix = reshape_mix(magmix[:,:,0], patch_size, extend=True)\n",
        "    X_voice_pred = self.model.predict(X_mix)\n",
        "    magmix_pred = X_voice_pred.reshape(-1,nfreq,1).transpose(1,0,2)\n",
        "    end = magmix.shape[1]\n",
        "    audio_pred = nussl.AudioSignal(stft=magmix_pred[:,:end]*norm*phase,sample_rate=freq)\n",
        "    audio_pred.istft(window_length=window_length,hop_length=hop_length)\n",
        "    audio_pred.truncate_seconds(self.mix.signal_duration)\n",
        "    return [audio_pred*2,audio_pred]\n",
        "\n",
        "\n",
        "\n"
      ],
      "metadata": {
        "id": "Zy6f6lnPvIBu"
      },
      "execution_count": 11,
      "outputs": []
    },
    {
      "cell_type": "code",
      "source": [
        ""
      ],
      "metadata": {
        "id": "z2BP2VsLxwxv"
      },
      "execution_count": null,
      "outputs": []
    },
    {
      "cell_type": "code",
      "source": [
        "# appli\n",
        "from voicesep.models import evaluate_dict_models\n",
        "from glob import glob\n",
        "\n",
        "models = os.path.join(\"/content\",\"drive\",\"MyDrive\",\"Projet Datascientest\",\"UNet\",\"model_20220207_aug=8_4k\")\n",
        "unets=[]\n",
        "#unets.append(load_model(models,custom_objects={'myloss': myloss}))\n",
        "unets.append(load_model(models))\n",
        "print(unets)\n",
        "\n",
        "sdr=[]\n",
        "for i in range(50):\n",
        "  data = musdb_test[i]\n",
        "  if (i%2==0):\n",
        "      print('processing:',i)\n",
        "  truth = [data[\"sources\"]['drums+bass+other'], data[\"sources\"]['vocals']]\n",
        "  truth[0].resample(freq,res_type='kaiser_fast')\n",
        "  truth[1].resample(freq,res_type='kaiser_fast')\n",
        "  truth[0].to_mono()\n",
        "  truth[1].to_mono()\n",
        "\n",
        "  sep_class_dict = {\n",
        "                  f\"UNet{i}\": UNetModel(data[\"mix\"],u) for i,u in enumerate(unets)\n",
        "                 }\n",
        "  \n",
        "  scores = evaluate_dict_models(sep_class_dict, truth,visualize=False, report=False)\n",
        "  sdr.append(scores['voice']['SI-SDR'])"
      ],
      "metadata": {
        "id": "ZreZirddfXZM",
        "outputId": "11b0c407-fbe3-44d6-a110-c60d14fade49",
        "colab": {
          "base_uri": "https://localhost:8080/"
        }
      },
      "execution_count": 14,
      "outputs": [
        {
          "output_type": "stream",
          "name": "stdout",
          "text": [
            "[<keras.engine.functional.Functional object at 0x7f48da65dbd0>]\n",
            "processing: 0\n",
            "processing: 2\n",
            "processing: 4\n",
            "processing: 6\n",
            "processing: 8\n",
            "processing: 10\n",
            "processing: 12\n",
            "processing: 14\n",
            "processing: 16\n",
            "processing: 18\n",
            "processing: 20\n",
            "processing: 22\n",
            "processing: 24\n",
            "processing: 26\n",
            "processing: 28\n",
            "processing: 30\n",
            "processing: 32\n",
            "processing: 34\n",
            "processing: 36\n",
            "processing: 38\n",
            "processing: 40\n",
            "processing: 42\n",
            "processing: 44\n",
            "processing: 46\n",
            "processing: 48\n"
          ]
        }
      ]
    },
    {
      "cell_type": "code",
      "source": [
        "import pandas as pd\n",
        "\n",
        "\n",
        "sdrl=pd.DataFrame(sdr)\n",
        "sdrl=sdrl.reset_index() \n",
        "print(sdrl)\n",
        "sdrl.to_csv(\"/content/drive/MyDrive/Projet Datascientest/UNet/perfosdr_20220207_aug=8_4k.csv\")\n",
        "\n",
        "print(sdrl.describe())\n",
        "plt.boxplot(sdrl['UNet0']);\n",
        "\n",
        "\n",
        "# Modèle Stan : 20220202_100x2_2.3M_maxepoch:loss=18/20       <SDR>=2.06    sigma_SDR= 5.76     max=11.4 (i=21)   min=-24.1 (i=27)     \n",
        "# Modèle Mick : 20220202_quick                                <SDR>=0.76    sigma_SDR=5.59      max=9.2  (i=21)   min=-21.8 (i=27)   \n",
        "# Modèle Stan : 20220206_90x2_2.3M_4k_percent                 <SDR>=-14 !   \n",
        "# Modèle Stan : 20220206_90x2_2.3M_4k_L2                      <SDR>=1.91   sigma_SDR=6.43      max=10.6  (i=21)   min=-28.1 (i=27) \n",
        "# Modèle Stan : 20220206_90x2_2.3M_4k_L2_long                  <SDR>=1.95  sigma_SDR=6.15      max=10.7  (i=21)   min=-23.4 (i=27)\n",
        "\n",
        "# Modèle Mick/Stan : 20220207_aug=4_4k                         <SDR>=1.26  sigma_SDR=6.09      max=10.9  (i=21)   min=-25.0 (i=27)\n",
        "# Modèle Mick/Stan : 20220207_aug=8_4k                         <SDR>=0.70  sigma_SDR=7.80      max=8.7  (i=21)   min=-28.6 (i=27)\n",
        "\n"
      ],
      "metadata": {
        "colab": {
          "base_uri": "https://localhost:8080/",
          "height": 1000
        },
        "id": "L_fTT-tj8HRV",
        "outputId": "14c9b1d2-5f29-42d2-c05f-e485038cab70"
      },
      "execution_count": 15,
      "outputs": [
        {
          "output_type": "stream",
          "name": "stdout",
          "text": [
            "Alg   index      UNet0\n",
            "0    SI-SDR   5.044906\n",
            "1    SI-SDR   1.998550\n",
            "2    SI-SDR   7.483045\n",
            "3    SI-SDR  -1.116604\n",
            "4    SI-SDR  -9.659552\n",
            "5    SI-SDR   7.052624\n",
            "6    SI-SDR  -2.318330\n",
            "7    SI-SDR   0.107309\n",
            "8    SI-SDR  -0.609028\n",
            "9    SI-SDR   1.094454\n",
            "10   SI-SDR   3.228202\n",
            "11   SI-SDR  -0.272272\n",
            "12   SI-SDR   4.859019\n",
            "13   SI-SDR  -0.477948\n",
            "14   SI-SDR   0.712720\n",
            "15   SI-SDR   2.582096\n",
            "16   SI-SDR   3.220349\n",
            "17   SI-SDR   4.366814\n",
            "18   SI-SDR   4.470181\n",
            "19   SI-SDR   2.681929\n",
            "20   SI-SDR   0.890473\n",
            "21   SI-SDR   8.680202\n",
            "22   SI-SDR   3.805646\n",
            "23   SI-SDR   6.048840\n",
            "24   SI-SDR  -0.031932\n",
            "25   SI-SDR   2.695204\n",
            "26   SI-SDR   0.715188\n",
            "27   SI-SDR -28.612655\n",
            "28   SI-SDR -10.140776\n",
            "29   SI-SDR   1.388926\n",
            "30   SI-SDR  -5.271568\n",
            "31   SI-SDR   5.332151\n",
            "32   SI-SDR   1.063395\n",
            "33   SI-SDR   1.945662\n",
            "34   SI-SDR   6.600070\n",
            "35   SI-SDR   8.311726\n",
            "36   SI-SDR -34.910618\n",
            "37   SI-SDR  -4.489321\n",
            "38   SI-SDR   3.864285\n",
            "39   SI-SDR   4.016540\n",
            "40   SI-SDR   4.642891\n",
            "41   SI-SDR  -2.132012\n",
            "42   SI-SDR   1.922858\n",
            "43   SI-SDR   6.494165\n",
            "44   SI-SDR   6.365382\n",
            "45   SI-SDR  -1.854305\n",
            "46   SI-SDR   4.013625\n",
            "47   SI-SDR   6.178519\n",
            "48   SI-SDR   1.332828\n",
            "49   SI-SDR   1.925230\n",
            "Alg        UNet0\n",
            "count  50.000000\n",
            "mean    0.704782\n",
            "std     7.808764\n",
            "min   -34.910618\n",
            "25%    -0.212187\n",
            "50%     1.972106\n",
            "75%     4.599714\n",
            "max     8.680202\n"
          ]
        },
        {
          "output_type": "display_data",
          "data": {
            "image/png": "[encoded data removed]",
            "text/plain": [
              "<Figure size 432x288 with 1 Axes>"
            ]
          },
          "metadata": {
            "needs_background": "light"
          }
        }
      ]
    }
  ]
}