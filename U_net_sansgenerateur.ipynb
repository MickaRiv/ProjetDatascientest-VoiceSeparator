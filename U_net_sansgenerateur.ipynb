{
  "cells": [
    {
      "cell_type": "markdown",
      "metadata": {
        "id": "view-in-github",
        "colab_type": "text"
      },
      "source": [
        "<a href=\"https://colab.research.google.com/github/MickaRiv/ProjetDatascientest-VoiceSeparator/blob/Stan/U_net_sansgenerateur.ipynb\" target=\"_parent\"><img src=\"https://colab.research.google.com/assets/colab-badge.svg\" alt=\"Open In Colab\"/></a>"
      ]
    },
    {
      "cell_type": "markdown",
      "metadata": {
        "id": "wzO6fagoWP5U"
      },
      "source": [
        "# Installs et imports"
      ]
    },
    {
      "cell_type": "code",
      "execution_count": null,
      "metadata": {
        "colab": {
          "base_uri": "https://localhost:8080/"
        },
        "id": "HRetCHcDWDQL",
        "outputId": "a46d8d4a-3055-4f32-e614-5c8e821a9c1d"
      },
      "outputs": [
        {
          "output_type": "stream",
          "name": "stdout",
          "text": [
            "Collecting nussl\n",
            "  Downloading nussl-1.1.9-py2.py3-none-any.whl (239 kB)\n",
            "\u001b[?25l\r\u001b[K     |█▍                              | 10 kB 23.0 MB/s eta 0:00:01\r\u001b[K     |██▊                             | 20 kB 23.5 MB/s eta 0:00:01\r\u001b[K     |████                            | 30 kB 19.3 MB/s eta 0:00:01\r\u001b[K     |█████▌                          | 40 kB 12.7 MB/s eta 0:00:01\r\u001b[K     |██████▉                         | 51 kB 11.2 MB/s eta 0:00:01\r\u001b[K     |████████▏                       | 61 kB 12.5 MB/s eta 0:00:01\r\u001b[K     |█████████▋                      | 71 kB 10.8 MB/s eta 0:00:01\r\u001b[K     |███████████                     | 81 kB 11.8 MB/s eta 0:00:01\r\u001b[K     |████████████▎                   | 92 kB 12.3 MB/s eta 0:00:01\r\u001b[K     |█████████████▋                  | 102 kB 11.7 MB/s eta 0:00:01\r\u001b[K     |███████████████                 | 112 kB 11.7 MB/s eta 0:00:01\r\u001b[K     |████████████████▍               | 122 kB 11.7 MB/s eta 0:00:01\r\u001b[K     |█████████████████▊              | 133 kB 11.7 MB/s eta 0:00:01\r\u001b[K     |███████████████████▏            | 143 kB 11.7 MB/s eta 0:00:01\r\u001b[K     |████████████████████▌           | 153 kB 11.7 MB/s eta 0:00:01\r\u001b[K     |█████████████████████▉          | 163 kB 11.7 MB/s eta 0:00:01\r\u001b[K     |███████████████████████▎        | 174 kB 11.7 MB/s eta 0:00:01\r\u001b[K     |████████████████████████▋       | 184 kB 11.7 MB/s eta 0:00:01\r\u001b[K     |██████████████████████████      | 194 kB 11.7 MB/s eta 0:00:01\r\u001b[K     |███████████████████████████▎    | 204 kB 11.7 MB/s eta 0:00:01\r\u001b[K     |████████████████████████████▊   | 215 kB 11.7 MB/s eta 0:00:01\r\u001b[K     |██████████████████████████████  | 225 kB 11.7 MB/s eta 0:00:01\r\u001b[K     |███████████████████████████████▍| 235 kB 11.7 MB/s eta 0:00:01\r\u001b[K     |████████████████████████████████| 239 kB 11.7 MB/s \n",
            "\u001b[?25hRequirement already satisfied: pyyaml in /usr/local/lib/python3.7/dist-packages (from nussl) (3.13)\n",
            "Requirement already satisfied: tqdm in /usr/local/lib/python3.7/dist-packages (from nussl) (4.62.3)\n",
            "Collecting termtables\n",
            "  Downloading termtables-0.2.4-py3-none-any.whl (17 kB)\n",
            "Collecting pyloudnorm\n",
            "  Downloading pyloudnorm-0.1.0-py3-none-any.whl (9.3 kB)\n",
            "Collecting ffmpeg-python\n",
            "  Downloading ffmpeg_python-0.2.0-py3-none-any.whl (25 kB)\n",
            "Collecting zarr\n",
            "  Downloading zarr-2.10.3-py3-none-any.whl (146 kB)\n",
            "\u001b[K     |████████████████████████████████| 146 kB 29.1 MB/s \n",
            "\u001b[?25hRequirement already satisfied: librosa in /usr/local/lib/python3.7/dist-packages (from nussl) (0.8.1)\n",
            "Collecting sox\n",
            "  Downloading sox-1.4.1-py2.py3-none-any.whl (39 kB)\n",
            "Requirement already satisfied: importlib-resources in /usr/local/lib/python3.7/dist-packages (from nussl) (5.4.0)\n",
            "Collecting norbert\n",
            "  Downloading norbert-0.2.1-py2.py3-none-any.whl (11 kB)\n",
            "Collecting jams\n",
            "  Downloading jams-0.3.4.tar.gz (51 kB)\n",
            "\u001b[K     |████████████████████████████████| 51 kB 65 kB/s \n",
            "\u001b[?25hCollecting gpytorch\n",
            "  Downloading gpytorch-1.6.0.tar.gz (310 kB)\n",
            "\u001b[K     |████████████████████████████████| 310 kB 32.0 MB/s \n",
            "\u001b[?25hRequirement already satisfied: tensorboard in /usr/local/lib/python3.7/dist-packages (from nussl) (2.7.0)\n",
            "Collecting musdb\n",
            "  Downloading musdb-0.4.0-py2.py3-none-any.whl (29 kB)\n",
            "Collecting pytorch-ignite\n",
            "  Downloading pytorch_ignite-0.4.8-py3-none-any.whl (251 kB)\n",
            "\u001b[K     |████████████████████████████████| 251 kB 34.7 MB/s \n",
            "\u001b[?25hCollecting soxbindings>=1.2.2\n",
            "  Downloading soxbindings-1.2.3-cp37-cp37m-manylinux2010_x86_64.whl (3.3 MB)\n",
            "\u001b[K     |████████████████████████████████| 3.3 MB 40.6 MB/s \n",
            "\u001b[?25hCollecting ffmpy\n",
            "  Downloading ffmpy-0.3.0.tar.gz (4.8 kB)\n",
            "Requirement already satisfied: matplotlib in /usr/local/lib/python3.7/dist-packages (from nussl) (3.2.2)\n",
            "Collecting museval\n",
            "  Downloading museval-0.4.0-py2.py3-none-any.whl (21 kB)\n",
            "Requirement already satisfied: torch in /usr/local/lib/python3.7/dist-packages (from nussl) (1.10.0+cu111)\n",
            "Requirement already satisfied: numpy>=1.9.0 in /usr/local/lib/python3.7/dist-packages (from sox->nussl) (1.19.5)\n",
            "Requirement already satisfied: future in /usr/local/lib/python3.7/dist-packages (from ffmpeg-python->nussl) (0.16.0)\n",
            "Requirement already satisfied: zipp>=3.1.0 in /usr/local/lib/python3.7/dist-packages (from importlib-resources->nussl) (3.7.0)\n",
            "Requirement already satisfied: pandas in /usr/local/lib/python3.7/dist-packages (from jams->nussl) (1.3.5)\n",
            "Requirement already satisfied: sortedcontainers>=2.0.0 in /usr/local/lib/python3.7/dist-packages (from jams->nussl) (2.4.0)\n",
            "Requirement already satisfied: jsonschema>=3.0.0 in /usr/local/lib/python3.7/dist-packages (from jams->nussl) (4.3.3)\n",
            "Requirement already satisfied: six in /usr/local/lib/python3.7/dist-packages (from jams->nussl) (1.15.0)\n",
            "Requirement already satisfied: decorator in /usr/local/lib/python3.7/dist-packages (from jams->nussl) (4.4.2)\n",
            "Collecting mir_eval>=0.5\n",
            "  Downloading mir_eval-0.6.tar.gz (87 kB)\n",
            "\u001b[K     |████████████████████████████████| 87 kB 3.8 MB/s \n",
            "\u001b[?25hRequirement already satisfied: typing-extensions in /usr/local/lib/python3.7/dist-packages (from jsonschema>=3.0.0->jams->nussl) (3.10.0.2)\n",
            "Requirement already satisfied: importlib-metadata in /usr/local/lib/python3.7/dist-packages (from jsonschema>=3.0.0->jams->nussl) (4.10.1)\n",
            "Requirement already satisfied: pyrsistent!=0.17.0,!=0.17.1,!=0.17.2,>=0.14.0 in /usr/local/lib/python3.7/dist-packages (from jsonschema>=3.0.0->jams->nussl) (0.18.1)\n",
            "Requirement already satisfied: attrs>=17.4.0 in /usr/local/lib/python3.7/dist-packages (from jsonschema>=3.0.0->jams->nussl) (21.4.0)\n",
            "Requirement already satisfied: scipy>=1.0.0 in /usr/local/lib/python3.7/dist-packages (from mir_eval>=0.5->jams->nussl) (1.4.1)\n",
            "Requirement already satisfied: audioread>=2.0.0 in /usr/local/lib/python3.7/dist-packages (from librosa->nussl) (2.1.9)\n",
            "Requirement already satisfied: numba>=0.43.0 in /usr/local/lib/python3.7/dist-packages (from librosa->nussl) (0.51.2)\n",
            "Requirement already satisfied: soundfile>=0.10.2 in /usr/local/lib/python3.7/dist-packages (from librosa->nussl) (0.10.3.post1)\n",
            "Requirement already satisfied: pooch>=1.0 in /usr/local/lib/python3.7/dist-packages (from librosa->nussl) (1.6.0)\n",
            "Requirement already satisfied: scikit-learn!=0.19.0,>=0.14.0 in /usr/local/lib/python3.7/dist-packages (from librosa->nussl) (1.0.2)\n",
            "Requirement already satisfied: resampy>=0.2.2 in /usr/local/lib/python3.7/dist-packages (from librosa->nussl) (0.2.2)\n",
            "Requirement already satisfied: packaging>=20.0 in /usr/local/lib/python3.7/dist-packages (from librosa->nussl) (21.3)\n",
            "Requirement already satisfied: joblib>=0.14 in /usr/local/lib/python3.7/dist-packages (from librosa->nussl) (1.1.0)\n",
            "Requirement already satisfied: setuptools in /usr/local/lib/python3.7/dist-packages (from numba>=0.43.0->librosa->nussl) (57.4.0)\n",
            "Requirement already satisfied: llvmlite<0.35,>=0.34.0.dev0 in /usr/local/lib/python3.7/dist-packages (from numba>=0.43.0->librosa->nussl) (0.34.0)\n",
            "Requirement already satisfied: pyparsing!=3.0.5,>=2.0.2 in /usr/local/lib/python3.7/dist-packages (from packaging>=20.0->librosa->nussl) (3.0.7)\n",
            "Requirement already satisfied: appdirs>=1.3.0 in /usr/local/lib/python3.7/dist-packages (from pooch>=1.0->librosa->nussl) (1.4.4)\n",
            "Requirement already satisfied: requests>=2.19.0 in /usr/local/lib/python3.7/dist-packages (from pooch>=1.0->librosa->nussl) (2.23.0)\n",
            "Requirement already satisfied: chardet<4,>=3.0.2 in /usr/local/lib/python3.7/dist-packages (from requests>=2.19.0->pooch>=1.0->librosa->nussl) (3.0.4)\n",
            "Requirement already satisfied: urllib3!=1.25.0,!=1.25.1,<1.26,>=1.21.1 in /usr/local/lib/python3.7/dist-packages (from requests>=2.19.0->pooch>=1.0->librosa->nussl) (1.24.3)\n",
            "Requirement already satisfied: idna<3,>=2.5 in /usr/local/lib/python3.7/dist-packages (from requests>=2.19.0->pooch>=1.0->librosa->nussl) (2.10)\n",
            "Requirement already satisfied: certifi>=2017.4.17 in /usr/local/lib/python3.7/dist-packages (from requests>=2.19.0->pooch>=1.0->librosa->nussl) (2021.10.8)\n",
            "Requirement already satisfied: threadpoolctl>=2.0.0 in /usr/local/lib/python3.7/dist-packages (from scikit-learn!=0.19.0,>=0.14.0->librosa->nussl) (3.1.0)\n",
            "Requirement already satisfied: cffi>=1.0 in /usr/local/lib/python3.7/dist-packages (from soundfile>=0.10.2->librosa->nussl) (1.15.0)\n",
            "Requirement already satisfied: pycparser in /usr/local/lib/python3.7/dist-packages (from cffi>=1.0->soundfile>=0.10.2->librosa->nussl) (2.21)\n",
            "Requirement already satisfied: cycler>=0.10 in /usr/local/lib/python3.7/dist-packages (from matplotlib->nussl) (0.11.0)\n",
            "Requirement already satisfied: kiwisolver>=1.0.1 in /usr/local/lib/python3.7/dist-packages (from matplotlib->nussl) (1.3.2)\n",
            "Requirement already satisfied: python-dateutil>=2.1 in /usr/local/lib/python3.7/dist-packages (from matplotlib->nussl) (2.8.2)\n",
            "Collecting stempeg>=0.2.3\n",
            "  Downloading stempeg-0.2.3-py3-none-any.whl (963 kB)\n",
            "\u001b[K     |████████████████████████████████| 963 kB 5.6 MB/s \n",
            "\u001b[?25hCollecting pyaml\n",
            "  Downloading pyaml-21.10.1-py2.py3-none-any.whl (24 kB)\n",
            "Collecting simplejson\n",
            "  Downloading simplejson-3.17.6-cp37-cp37m-manylinux_2_5_x86_64.manylinux1_x86_64.manylinux_2_12_x86_64.manylinux2010_x86_64.whl (130 kB)\n",
            "\u001b[K     |████████████████████████████████| 130 kB 9.7 MB/s \n",
            "\u001b[?25hRequirement already satisfied: pytz>=2017.3 in /usr/local/lib/python3.7/dist-packages (from pandas->jams->nussl) (2018.9)\n",
            "Requirement already satisfied: markdown>=2.6.8 in /usr/local/lib/python3.7/dist-packages (from tensorboard->nussl) (3.3.6)\n",
            "Requirement already satisfied: grpcio>=1.24.3 in /usr/local/lib/python3.7/dist-packages (from tensorboard->nussl) (1.43.0)\n",
            "Requirement already satisfied: google-auth-oauthlib<0.5,>=0.4.1 in /usr/local/lib/python3.7/dist-packages (from tensorboard->nussl) (0.4.6)\n",
            "Requirement already satisfied: absl-py>=0.4 in /usr/local/lib/python3.7/dist-packages (from tensorboard->nussl) (1.0.0)\n",
            "Requirement already satisfied: tensorboard-plugin-wit>=1.6.0 in /usr/local/lib/python3.7/dist-packages (from tensorboard->nussl) (1.8.1)\n",
            "Requirement already satisfied: wheel>=0.26 in /usr/local/lib/python3.7/dist-packages (from tensorboard->nussl) (0.37.1)\n",
            "Requirement already satisfied: werkzeug>=0.11.15 in /usr/local/lib/python3.7/dist-packages (from tensorboard->nussl) (1.0.1)\n",
            "Requirement already satisfied: tensorboard-data-server<0.7.0,>=0.6.0 in /usr/local/lib/python3.7/dist-packages (from tensorboard->nussl) (0.6.1)\n",
            "Requirement already satisfied: protobuf>=3.6.0 in /usr/local/lib/python3.7/dist-packages (from tensorboard->nussl) (3.17.3)\n",
            "Requirement already satisfied: google-auth<3,>=1.6.3 in /usr/local/lib/python3.7/dist-packages (from tensorboard->nussl) (1.35.0)\n",
            "Requirement already satisfied: cachetools<5.0,>=2.0.0 in /usr/local/lib/python3.7/dist-packages (from google-auth<3,>=1.6.3->tensorboard->nussl) (4.2.4)\n",
            "Requirement already satisfied: pyasn1-modules>=0.2.1 in /usr/local/lib/python3.7/dist-packages (from google-auth<3,>=1.6.3->tensorboard->nussl) (0.2.8)\n",
            "Requirement already satisfied: rsa<5,>=3.1.4 in /usr/local/lib/python3.7/dist-packages (from google-auth<3,>=1.6.3->tensorboard->nussl) (4.8)\n",
            "Requirement already satisfied: requests-oauthlib>=0.7.0 in /usr/local/lib/python3.7/dist-packages (from google-auth-oauthlib<0.5,>=0.4.1->tensorboard->nussl) (1.3.1)\n",
            "Requirement already satisfied: pyasn1<0.5.0,>=0.4.6 in /usr/local/lib/python3.7/dist-packages (from pyasn1-modules>=0.2.1->google-auth<3,>=1.6.3->tensorboard->nussl) (0.4.8)\n",
            "Requirement already satisfied: oauthlib>=3.0.0 in /usr/local/lib/python3.7/dist-packages (from requests-oauthlib>=0.7.0->google-auth-oauthlib<0.5,>=0.4.1->tensorboard->nussl) (3.2.0)\n",
            "Collecting numcodecs>=0.6.4\n",
            "  Downloading numcodecs-0.9.1-cp37-cp37m-manylinux2010_x86_64.whl (6.2 MB)\n",
            "\u001b[K     |████████████████████████████████| 6.2 MB 9.3 MB/s \n",
            "\u001b[?25hCollecting asciitree\n",
            "  Downloading asciitree-0.3.3.tar.gz (4.0 kB)\n",
            "Collecting fasteners\n",
            "  Downloading fasteners-0.17.3-py3-none-any.whl (18 kB)\n",
            "Building wheels for collected packages: ffmpy, gpytorch, jams, mir-eval, asciitree\n",
            "  Building wheel for ffmpy (setup.py) ... \u001b[?25l\u001b[?25hdone\n",
            "  Created wheel for ffmpy: filename=ffmpy-0.3.0-py3-none-any.whl size=4712 sha256=93c5e9c7d556bf9dd5503b6f3faad4e185ba3b1b45f8b3c9a73fba8ccba752dd\n",
            "  Stored in directory: /root/.cache/pip/wheels/13/e4/6c/e8059816e86796a597c6e6b0d4c880630f51a1fcfa0befd5e6\n",
            "  Building wheel for gpytorch (setup.py) ... \u001b[?25l\u001b[?25hdone\n",
            "  Created wheel for gpytorch: filename=gpytorch-1.6.0-py2.py3-none-any.whl size=509889 sha256=0167af24faf598f5d62adc64b807d36007fcb35aa2d2a57cd6272eaddff1e5d3\n",
            "  Stored in directory: /root/.cache/pip/wheels/66/b5/89/34c06ad393a6feb72b4cdde46d0f1c667f3e2632960f9df109\n",
            "  Building wheel for jams (setup.py) ... \u001b[?25l\u001b[?25hdone\n",
            "  Created wheel for jams: filename=jams-0.3.4-py3-none-any.whl size=64922 sha256=9eeeebff6a1598a0c7f8cde672c327909eb9de6fd549599a84640fa9c26193b2\n",
            "  Stored in directory: /root/.cache/pip/wheels/c9/aa/16/ce72bc4caa58dfab819e3f46b3542f2bf90a83009f4ea07a48\n",
            "  Building wheel for mir-eval (setup.py) ... \u001b[?25l\u001b[?25hdone\n",
            "  Created wheel for mir-eval: filename=mir_eval-0.6-py3-none-any.whl size=96515 sha256=597d1fd57b2dddaf3b1e90e5faeb5c1bcc4f6f00609addaba5ed8db7872c2253\n",
            "  Stored in directory: /root/.cache/pip/wheels/08/28/2d/006dbad29550bac8daf049ff34fa882655a7d3e77f3b67595e\n",
            "  Building wheel for asciitree (setup.py) ... \u001b[?25l\u001b[?25hdone\n",
            "  Created wheel for asciitree: filename=asciitree-0.3.3-py3-none-any.whl size=5050 sha256=045fb7ea632198b0ab0b8c1c62d0feff587437deef075c231abf0a598e01d639\n",
            "  Stored in directory: /root/.cache/pip/wheels/12/1c/38/0def51e15add93bff3f4bf9c248b94db0839b980b8535e72a0\n",
            "Successfully built ffmpy gpytorch jams mir-eval asciitree\n",
            "Installing collected packages: ffmpeg-python, stempeg, pyaml, sox, simplejson, numcodecs, musdb, mir-eval, fasteners, asciitree, zarr, termtables, soxbindings, pytorch-ignite, pyloudnorm, norbert, museval, jams, gpytorch, ffmpy, nussl\n",
            "Successfully installed asciitree-0.3.3 fasteners-0.17.3 ffmpeg-python-0.2.0 ffmpy-0.3.0 gpytorch-1.6.0 jams-0.3.4 mir-eval-0.6 musdb-0.4.0 museval-0.4.0 norbert-0.2.1 numcodecs-0.9.1 nussl-1.1.9 pyaml-21.10.1 pyloudnorm-0.1.0 pytorch-ignite-0.4.8 simplejson-3.17.6 sox-1.4.1 soxbindings-1.2.3 stempeg-0.2.3 termtables-0.2.4 zarr-2.10.3\n"
          ]
        }
      ],
      "source": [
        "!pip install nussl"
      ]
    },
    {
      "cell_type": "code",
      "execution_count": null,
      "metadata": {
        "colab": {
          "base_uri": "https://localhost:8080/"
        },
        "id": "2qpbyKEIWXLs",
        "outputId": "f10bf48a-20a8-4d3f-cab0-ee6d05964c42"
      },
      "outputs": [
        {
          "output_type": "stream",
          "name": "stdout",
          "text": [
            "Collecting git+https://github.com/MickaRiv/ProjetDatascientest-VoiceSeparator\n",
            "  Cloning https://github.com/MickaRiv/ProjetDatascientest-VoiceSeparator to /tmp/pip-req-build-94para9r\n",
            "  Running command git clone -q https://github.com/MickaRiv/ProjetDatascientest-VoiceSeparator /tmp/pip-req-build-94para9r\n",
            "Building wheels for collected packages: voice-separator\n",
            "  Building wheel for voice-separator (setup.py) ... \u001b[?25l\u001b[?25hdone\n",
            "  Created wheel for voice-separator: filename=voice_separator-0.0.1-py3-none-any.whl size=5584 sha256=246bf00ee6ab2349dacdc69aea86fd5fbc5c87f36f82cc95a9a41b3c5c508da5\n",
            "  Stored in directory: /tmp/pip-ephem-wheel-cache-d60tanht/wheels/89/ad/91/9cded351057b1a842fbbfa97f091da426d85036b0efd2e0273\n",
            "Successfully built voice-separator\n",
            "Installing collected packages: voice-separator\n",
            "Successfully installed voice-separator-0.0.1\n"
          ]
        }
      ],
      "source": [
        "!pip install git+https://github.com/MickaRiv/ProjetDatascientest-VoiceSeparator"
      ]
    },
    {
      "cell_type": "code",
      "execution_count": null,
      "metadata": {
        "id": "hdUm3Z_kYBxG",
        "colab": {
          "base_uri": "https://localhost:8080/"
        },
        "outputId": "f77c3a88-de07-4443-c539-c09d1cc12ffa"
      },
      "outputs": [
        {
          "output_type": "stream",
          "name": "stderr",
          "text": [
            "SoX could not be found!\n",
            "\n",
            "    If you do not have SoX, proceed here:\n",
            "     - - - http://sox.sourceforge.net/ - - -\n",
            "\n",
            "    If you do (or think that you should) have SoX, double-check your\n",
            "    path variables.\n",
            "    \n"
          ]
        }
      ],
      "source": [
        "import os\n",
        "import nussl\n",
        "import librosa\n",
        "from matplotlib import pyplot as plt\n",
        "import numpy as np"
      ]
    },
    {
      "cell_type": "markdown",
      "metadata": {
        "id": "B2SM-rvNXePU"
      },
      "source": [
        "# Montage du drive"
      ]
    },
    {
      "cell_type": "code",
      "execution_count": null,
      "metadata": {
        "colab": {
          "base_uri": "https://localhost:8080/"
        },
        "id": "T-wEt9VkW93z",
        "outputId": "fad2991d-0927-4637-a388-79621f49187d"
      },
      "outputs": [
        {
          "output_type": "stream",
          "name": "stdout",
          "text": [
            "Mounted at /content/drive\n"
          ]
        }
      ],
      "source": [
        "from google.colab import drive\n",
        "drive.mount(\"/content/drive\")"
      ]
    },
    {
      "cell_type": "markdown",
      "metadata": {
        "id": "379UggomX8AA"
      },
      "source": [
        "# Récupération des données"
      ]
    },
    {
      "cell_type": "code",
      "execution_count": null,
      "metadata": {
        "id": "Kpy_wS_1X2FV"
      },
      "outputs": [],
      "source": [
        "from voicesep.core import get_musdb_data\n",
        "\n",
        "path = os.path.join(\"/content\",\n",
        "                    \"drive\",\n",
        "                    \"MyDrive\",\n",
        "                    \"Projet Datascientest\",\n",
        "                    \"musdb18\")\n",
        "musdb = get_musdb_data(gather_accompaniment=True,folder=path)\n",
        "musdb_train = get_musdb_data(gather_accompaniment=True,folder=path,subfolder=\"train\")\n",
        "musdb_test = get_musdb_data(gather_accompaniment=True,folder=path,subfolder=\"test\")"
      ]
    },
    {
      "cell_type": "markdown",
      "metadata": {
        "id": "aizgdYHqjAKP"
      },
      "source": [
        "# Paramètres du modèle"
      ]
    },
    {
      "cell_type": "code",
      "execution_count": null,
      "metadata": {
        "id": "36MCPW9E50MB"
      },
      "outputs": [],
      "source": [
        "#  Préprocess\n",
        "\n",
        "n_train               = 100        # nombre de chansons en train maxi=len(musdb_train)=100\n",
        "augmentation_factor   = 2          # paramètre de data augmentation\n",
        "\n",
        "freq                  = 4096  #8192      # fréquence de reéchantillonage\n",
        "window_length         = 511   # 1023       # taille fenêtre FFT\n",
        "hop_length            = 384   # 768       # recouvrement FFT\n",
        "patch_size            = 64    # 128       # taille du patch temporel pour  CNN   \n",
        "\n",
        "nfreq                 =  256 #512       # nombre de bins dans l'espace fréquentiel= (window_length+1)/2        \n",
        "\n",
        "\n",
        "#  CNN\n",
        "batch_size            = 32        # taille des batch \n",
        "\n",
        "Predvoix              = False    # True: Prise en compte en plus de la présence de voix dans le CNN"
      ]
    },
    {
      "cell_type": "markdown",
      "metadata": {
        "id": "P-GlZxRO5c6D"
      },
      "source": [
        "# Définition de fonctions utiles"
      ]
    },
    {
      "cell_type": "markdown",
      "metadata": {
        "id": "DtRNRzh6QyXT"
      },
      "source": [
        "Une fonction pour le préprocessing des données :\n",
        "- rééchantillonage,\n",
        "- passage en mono,\n",
        "- STFT et séparation magnitude et phase."
      ]
    },
    {
      "cell_type": "code",
      "execution_count": null,
      "metadata": {
        "id": "aBqv3Jb_kV3F"
      },
      "outputs": [],
      "source": [
        "def preprocess(music_data,\n",
        "               freq=freq,\n",
        "               window_length=window_length,\n",
        "               hop_length=hop_length,\n",
        "               normalize=True,\n",
        "               Predvoix=False):\n",
        "  \n",
        "  # Spectro voix et mix\n",
        "  voice = music_data['sources'][\"vocals\"]\n",
        "  mix = music_data['mix']\n",
        "\n",
        "  # Resampling \n",
        "  if freq is not None:\n",
        "    voice.resample(freq,res_type='kaiser_fast')\n",
        "    mix.resample(freq,res_type='kaiser_fast')\n",
        "\n",
        "  # Passage en mono\n",
        "  voice.to_mono()\n",
        "  mix.to_mono()\n",
        "\n",
        "  # fft mix et voix (magnitude normalisée et phase)\n",
        "  stftvoice = voice.stft(window_length=window_length,hop_length=hop_length)\n",
        "  magvoice, phasevoice = librosa.magphase(stftvoice)\n",
        "\n",
        "  stftmix = mix.stft(window_length=window_length,hop_length=hop_length)\n",
        "  magmix, phasemix = librosa.magphase(stftmix)\n",
        "\n",
        "  if normalize:\n",
        "    norm = magmix.max()\n",
        "    magmix /= norm\n",
        "    magvoice /= norm\n",
        "\n",
        " # si predvois=True  : détection de voix en fonction du temps sur base d'un cutoff en magnitude\n",
        "  if Predvoix:\n",
        "    maxtvoice=np.max(magvoice, axis=0)\n",
        "    maxtvoice=10*np.log(maxtvoice+1e-10)\n",
        "    db_cutoff=-20\n",
        "    tmask=np.where(maxtvoice  < db_cutoff, 0, 1) \n",
        "    \n",
        "    if Predvoix:\n",
        "      return magmix, magvoice, phasemix, norm, tmask\n",
        "    else:\n",
        "      return magmix, magvoice, phasemix, norm"
      ]
    },
    {
      "cell_type": "markdown",
      "metadata": {
        "id": "r3Fio-6BRtpG"
      },
      "source": [
        "# Spectrogrammes et création du dataset"
      ]
    },
    {
      "cell_type": "markdown",
      "metadata": {
        "id": "PG4-NBdGSJSr"
      },
      "source": [
        "Création du dataset a priori (pas de générateur). Calcul des spectres et concaténation. On peut ensuite faire une data augmentation en prenant aléatoirement dedans."
      ]
    },
    {
      "cell_type": "code",
      "execution_count": null,
      "metadata": {
        "colab": {
          "base_uri": "https://localhost:8080/"
        },
        "id": "59FqkmcJR6JA",
        "outputId": "e591b837-1186-4e80-ee9f-264a040d28ff"
      },
      "outputs": [
        {
          "output_type": "stream",
          "name": "stdout",
          "text": [
            "processing: 3\n",
            "processing: 6\n",
            "processing: 9\n",
            "processing: 12\n",
            "processing: 15\n",
            "processing: 18\n",
            "processing: 21\n",
            "processing: 24\n",
            "processing: 27\n",
            "processing: 30\n",
            "processing: 33\n",
            "processing: 36\n",
            "processing: 39\n",
            "processing: 42\n",
            "processing: 45\n",
            "processing: 48\n",
            "processing: 51\n",
            "processing: 54\n",
            "processing: 57\n",
            "processing: 60\n",
            "processing: 63\n",
            "processing: 66\n",
            "processing: 69\n",
            "processing: 72\n",
            "processing: 75\n",
            "processing: 78\n",
            "processing: 81\n",
            "processing: 84\n",
            "processing: 87\n",
            "processing: 90\n"
          ]
        }
      ],
      "source": [
        "# calcul et concaténation des spectrogrammes\n",
        "k=0\n",
        "for npiste in range(n_train):\n",
        "  magmix, magvoice, *_ , tmask = preprocess(musdb_train[npiste],Predvoix=Predvoix)\n",
        "\n",
        "# concatenation\n",
        "  k=k+1\n",
        "  if (k%3==0):\n",
        "    print(\"processing:\",k)\n",
        "\n",
        "  if (k==1):\n",
        "    X_mix_full   =magmix.reshape(nfreq,-1)\n",
        "    X_voice_full =magvoice.reshape(nfreq,-1)\n",
        "    if Predvoix:\n",
        "      h_voice      =tmask\n",
        "  else:\n",
        "    X_mix_full  =np.append(X_mix_full,magmix.reshape(nfreq,-1),axis=1)\n",
        "    X_voice_full=np.append(X_voice_full,magvoice.reshape(nfreq,-1),axis=1)\n",
        "    if Predvoix:\n",
        "      h_voice =np.append(h_voice,tmask)\n",
        " \n",
        " "
      ]
    },
    {
      "cell_type": "code",
      "execution_count": null,
      "metadata": {
        "colab": {
          "base_uri": "https://localhost:8080/"
        },
        "id": "yYPWEqqFlSFy",
        "outputId": "7aa4fe82-0bc8-470c-bb66-7f24b72b1b6a"
      },
      "outputs": [
        {
          "output_type": "stream",
          "name": "stdout",
          "text": [
            "Data set:  90 songs\n",
            "Images0 :  3367\n",
            "Data set:  6734 training images with size 256 x 64\n"
          ]
        }
      ],
      "source": [
        "# data augmentation par découpage aléatoire\n",
        "# Le paramètre augmentation_factor gère ce suréchantillonnage\n",
        "X_mix_fullT = X_mix_full.T\n",
        "X_voice_fullT = X_voice_full.T\n",
        "nimages0=X_mix_fullT.shape[0]//patch_size   # nombre total d'images disjointes\n",
        "nimages=nimages0 * augmentation_factor     # facteur de sur-échantillonnage\n",
        "\n",
        "Xm, Xv, Hv = [], [], [] \n",
        "# tirage au hasard d'un intervalle [start:start+patch_size]\n",
        "starts = np.random.randint(0, X_mix_fullT.shape[0]-patch_size, nimages)\n",
        "for start in starts:\n",
        "  end = start + patch_size\n",
        "  Xm.append(X_mix_fullT[start:end,:])\n",
        "  Xv.append(X_voice_fullT[start:end,:])\n",
        "  if Predvoix:\n",
        "    Hv.append(h_voice[start:end])\n",
        "print('Data set: ',k, 'songs')\n",
        "print('Images0 : ',nimages0)\n",
        "print('Data set: ',nimages, 'training images with size',nfreq,'x',patch_size)\n",
        " \n",
        "\n",
        "X_mix=np.array(Xm)\n",
        "X_voice=np.array(Xv)\n",
        "H_voice=np.array(Hv)            \n",
        "X_mix=np.expand_dims(X_mix,axis=3) # rajout d'une dimension (canal) \n",
        "X_voice=np.expand_dims(X_voice,axis=3)\n",
        "\n"
      ]
    },
    {
      "cell_type": "markdown",
      "metadata": {
        "id": "Y5EX2vtFTBkI"
      },
      "source": [
        "# Création du U-Net"
      ]
    },
    {
      "cell_type": "markdown",
      "metadata": {
        "id": "AzubwnPETmX5"
      },
      "source": [
        "U-Net tiré de Jansson et al.\n",
        "\n",
        "Input: \"image\" de spectrogramme : taille nframes x nfreq\n",
        "(papier d'origine nframes=128 et nfreq=512)\n",
        "\n",
        "Output: Mask M (0/1) de même dimension\n",
        "\n",
        "Cette version de U-Net est \"light\" avec 2.3M param. (9.6M dans la version d'origine)"
      ]
    },
    {
      "cell_type": "code",
      "execution_count": null,
      "metadata": {
        "colab": {
          "base_uri": "https://localhost:8080/"
        },
        "id": "9N4WJR0cz8L2",
        "outputId": "0d1ff027-cd4d-4b01-dec2-6c008d0ff3eb"
      },
      "outputs": [
        {
          "output_type": "stream",
          "name": "stdout",
          "text": [
            "Epoch 1/100\n",
            "379/379 [==============================] - 22s 43ms/step - loss: 1.9191e-04 - val_loss: 1.9175e-04 - lr: 0.0010\n",
            "Epoch 2/100\n",
            "379/379 [==============================] - 13s 34ms/step - loss: 1.3190e-04 - val_loss: 1.1678e-04 - lr: 0.0010\n",
            "Epoch 3/100\n",
            "379/379 [==============================] - 13s 34ms/step - loss: 1.1261e-04 - val_loss: 1.0600e-04 - lr: 0.0010\n",
            "Epoch 4/100\n",
            "379/379 [==============================] - 13s 34ms/step - loss: 1.0162e-04 - val_loss: 1.1051e-04 - lr: 0.0010\n",
            "Epoch 5/100\n",
            "379/379 [==============================] - 13s 33ms/step - loss: 9.4120e-05 - val_loss: 9.3397e-05 - lr: 0.0010\n",
            "Epoch 6/100\n",
            "379/379 [==============================] - 13s 33ms/step - loss: 8.6542e-05 - val_loss: 9.0760e-05 - lr: 0.0010\n",
            "Epoch 7/100\n",
            "379/379 [==============================] - 13s 34ms/step - loss: 8.0755e-05 - val_loss: 8.2156e-05 - lr: 0.0010\n",
            "Epoch 8/100\n",
            "379/379 [==============================] - 13s 33ms/step - loss: 7.7969e-05 - val_loss: 8.6029e-05 - lr: 0.0010\n",
            "Epoch 9/100\n",
            "379/379 [==============================] - 14s 36ms/step - loss: 7.3789e-05 - val_loss: 7.7805e-05 - lr: 0.0010\n",
            "Epoch 10/100\n",
            "379/379 [==============================] - 13s 33ms/step - loss: 6.9636e-05 - val_loss: 7.6740e-05 - lr: 0.0010\n",
            "Epoch 11/100\n",
            "379/379 [==============================] - 13s 33ms/step - loss: 6.7839e-05 - val_loss: 7.6349e-05 - lr: 0.0010\n",
            "Epoch 12/100\n",
            "379/379 [==============================] - 13s 34ms/step - loss: 6.7755e-05 - val_loss: 7.4505e-05 - lr: 0.0010\n",
            "Epoch 13/100\n",
            "379/379 [==============================] - 13s 33ms/step - loss: 6.4432e-05 - val_loss: 7.9860e-05 - lr: 0.0010\n",
            "Epoch 14/100\n",
            "379/379 [==============================] - 13s 33ms/step - loss: 6.2992e-05 - val_loss: 7.0743e-05 - lr: 0.0010\n",
            "Epoch 15/100\n",
            "379/379 [==============================] - 13s 33ms/step - loss: 6.1013e-05 - val_loss: 6.8267e-05 - lr: 0.0010\n",
            "Epoch 16/100\n",
            "379/379 [==============================] - 13s 33ms/step - loss: 5.8922e-05 - val_loss: 6.8372e-05 - lr: 0.0010\n",
            "Epoch 17/100\n",
            "379/379 [==============================] - 13s 33ms/step - loss: 5.8470e-05 - val_loss: 7.0945e-05 - lr: 0.0010\n",
            "Epoch 18/100\n",
            "379/379 [==============================] - 13s 34ms/step - loss: 5.8059e-05 - val_loss: 7.1121e-05 - lr: 0.0010\n",
            "Epoch 19/100\n",
            "379/379 [==============================] - 13s 33ms/step - loss: 5.6787e-05 - val_loss: 6.7437e-05 - lr: 0.0010\n",
            "Epoch 20/100\n",
            "379/379 [==============================] - 13s 33ms/step - loss: 5.5470e-05 - val_loss: 6.4856e-05 - lr: 0.0010\n",
            "Epoch 21/100\n",
            "379/379 [==============================] - 13s 33ms/step - loss: 5.4892e-05 - val_loss: 6.5626e-05 - lr: 0.0010\n",
            "Epoch 22/100\n",
            "379/379 [==============================] - 13s 33ms/step - loss: 5.7779e-05 - val_loss: 6.6839e-05 - lr: 0.0010\n",
            "Epoch 23/100\n",
            "379/379 [==============================] - 13s 33ms/step - loss: 5.4222e-05 - val_loss: 6.5203e-05 - lr: 0.0010\n",
            "Epoch 24/100\n",
            "379/379 [==============================] - 13s 33ms/step - loss: 5.2482e-05 - val_loss: 6.3073e-05 - lr: 0.0010\n",
            "Epoch 25/100\n",
            "379/379 [==============================] - 13s 33ms/step - loss: 5.1661e-05 - val_loss: 6.2954e-05 - lr: 0.0010\n",
            "Epoch 26/100\n",
            "379/379 [==============================] - 13s 33ms/step - loss: 5.2061e-05 - val_loss: 6.2934e-05 - lr: 0.0010\n",
            "Epoch 27/100\n",
            "379/379 [==============================] - 13s 33ms/step - loss: 5.1145e-05 - val_loss: 6.2971e-05 - lr: 0.0010\n",
            "Epoch 28/100\n",
            "379/379 [==============================] - 13s 33ms/step - loss: 5.0404e-05 - val_loss: 6.4000e-05 - lr: 0.0010\n",
            "Epoch 29/100\n",
            "379/379 [==============================] - 13s 33ms/step - loss: 5.0332e-05 - val_loss: 6.2598e-05 - lr: 0.0010\n",
            "Epoch 30/100\n",
            "379/379 [==============================] - 13s 33ms/step - loss: 4.9512e-05 - val_loss: 6.2220e-05 - lr: 0.0010\n",
            "Epoch 31/100\n",
            "379/379 [==============================] - 13s 33ms/step - loss: 4.8820e-05 - val_loss: 6.1652e-05 - lr: 0.0010\n",
            "Epoch 32/100\n",
            "379/379 [==============================] - 13s 33ms/step - loss: 4.8971e-05 - val_loss: 6.1946e-05 - lr: 0.0010\n",
            "Epoch 33/100\n",
            "379/379 [==============================] - 13s 33ms/step - loss: 4.8570e-05 - val_loss: 6.2384e-05 - lr: 0.0010\n",
            "Epoch 34/100\n",
            "379/379 [==============================] - 13s 33ms/step - loss: 4.8108e-05 - val_loss: 6.1840e-05 - lr: 0.0010\n",
            "Epoch 35/100\n",
            "379/379 [==============================] - 13s 33ms/step - loss: 4.7642e-05 - val_loss: 6.0540e-05 - lr: 0.0010\n",
            "Epoch 36/100\n",
            "379/379 [==============================] - ETA: 0s - loss: 4.7620e-05\n",
            "Epoch 00036: ReduceLROnPlateau reducing learning rate to 0.000800000037997961.\n",
            "379/379 [==============================] - 13s 33ms/step - loss: 4.7620e-05 - val_loss: 6.0815e-05 - lr: 0.0010\n",
            "Epoch 37/100\n",
            "379/379 [==============================] - 13s 33ms/step - loss: 4.6349e-05 - val_loss: 5.9950e-05 - lr: 8.0000e-04\n",
            "Epoch 38/100\n",
            "379/379 [==============================] - 13s 33ms/step - loss: 4.5909e-05 - val_loss: 5.9963e-05 - lr: 8.0000e-04\n",
            "Epoch 39/100\n",
            "379/379 [==============================] - 13s 33ms/step - loss: 4.5655e-05 - val_loss: 6.0505e-05 - lr: 8.0000e-04\n",
            "Epoch 40/100\n",
            "379/379 [==============================] - 13s 33ms/step - loss: 4.5238e-05 - val_loss: 5.8722e-05 - lr: 8.0000e-04\n",
            "Epoch 41/100\n",
            "379/379 [==============================] - 13s 33ms/step - loss: 4.5263e-05 - val_loss: 5.9016e-05 - lr: 8.0000e-04\n",
            "Epoch 42/100\n",
            "379/379 [==============================] - 13s 33ms/step - loss: 4.4898e-05 - val_loss: 5.8808e-05 - lr: 8.0000e-04\n",
            "Epoch 43/100\n",
            "379/379 [==============================] - 13s 33ms/step - loss: 4.4586e-05 - val_loss: 5.8156e-05 - lr: 8.0000e-04\n",
            "Epoch 44/100\n",
            "379/379 [==============================] - 13s 33ms/step - loss: 4.4311e-05 - val_loss: 5.8839e-05 - lr: 8.0000e-04\n",
            "Epoch 45/100\n",
            "379/379 [==============================] - 13s 34ms/step - loss: 4.4119e-05 - val_loss: 5.8910e-05 - lr: 8.0000e-04\n",
            "Epoch 46/100\n",
            "379/379 [==============================] - 13s 34ms/step - loss: 4.3847e-05 - val_loss: 5.8097e-05 - lr: 8.0000e-04\n",
            "Epoch 47/100\n",
            "379/379 [==============================] - 13s 33ms/step - loss: 4.3741e-05 - val_loss: 5.8876e-05 - lr: 8.0000e-04\n",
            "Epoch 48/100\n",
            "379/379 [==============================] - 13s 34ms/step - loss: 4.3504e-05 - val_loss: 5.7954e-05 - lr: 8.0000e-04\n",
            "Epoch 49/100\n",
            "379/379 [==============================] - 13s 34ms/step - loss: 4.3328e-05 - val_loss: 5.9311e-05 - lr: 8.0000e-04\n",
            "Epoch 50/100\n",
            "379/379 [==============================] - 13s 33ms/step - loss: 4.3214e-05 - val_loss: 5.8320e-05 - lr: 8.0000e-04\n",
            "Epoch 51/100\n",
            "379/379 [==============================] - 13s 33ms/step - loss: 4.3437e-05 - val_loss: 6.0082e-05 - lr: 8.0000e-04\n",
            "Epoch 52/100\n",
            "379/379 [==============================] - 13s 33ms/step - loss: 4.3251e-05 - val_loss: 5.8029e-05 - lr: 8.0000e-04\n",
            "Epoch 53/100\n",
            "379/379 [==============================] - 13s 34ms/step - loss: 4.2733e-05 - val_loss: 5.7595e-05 - lr: 8.0000e-04\n",
            "Epoch 54/100\n",
            "379/379 [==============================] - 13s 33ms/step - loss: 4.2824e-05 - val_loss: 5.7297e-05 - lr: 8.0000e-04\n",
            "Epoch 55/100\n",
            "379/379 [==============================] - 13s 33ms/step - loss: 4.2429e-05 - val_loss: 5.7866e-05 - lr: 8.0000e-04\n",
            "Epoch 56/100\n",
            "379/379 [==============================] - 13s 34ms/step - loss: 4.2364e-05 - val_loss: 5.8377e-05 - lr: 8.0000e-04\n",
            "Epoch 57/100\n",
            "379/379 [==============================] - 13s 34ms/step - loss: 4.2632e-05 - val_loss: 5.7057e-05 - lr: 8.0000e-04\n",
            "Epoch 58/100\n",
            "379/379 [==============================] - 13s 33ms/step - loss: 4.2089e-05 - val_loss: 5.8300e-05 - lr: 8.0000e-04\n",
            "Epoch 59/100\n",
            "379/379 [==============================] - 13s 33ms/step - loss: 4.2003e-05 - val_loss: 5.8245e-05 - lr: 8.0000e-04\n",
            "Epoch 60/100\n",
            "379/379 [==============================] - 13s 34ms/step - loss: 4.2202e-05 - val_loss: 5.7267e-05 - lr: 8.0000e-04\n",
            "Epoch 61/100\n",
            "379/379 [==============================] - 13s 33ms/step - loss: 4.1594e-05 - val_loss: 5.6885e-05 - lr: 8.0000e-04\n",
            "Epoch 62/100\n",
            "379/379 [==============================] - 13s 33ms/step - loss: 4.1582e-05 - val_loss: 5.7443e-05 - lr: 8.0000e-04\n",
            "Epoch 63/100\n",
            "379/379 [==============================] - 13s 33ms/step - loss: 4.1426e-05 - val_loss: 5.7026e-05 - lr: 8.0000e-04\n",
            "Epoch 64/100\n",
            "379/379 [==============================] - 13s 34ms/step - loss: 4.1399e-05 - val_loss: 5.8915e-05 - lr: 8.0000e-04\n",
            "Epoch 65/100\n",
            "379/379 [==============================] - 13s 34ms/step - loss: 4.1159e-05 - val_loss: 5.7236e-05 - lr: 8.0000e-04\n",
            "Epoch 66/100\n",
            "379/379 [==============================] - ETA: 0s - loss: 4.1138e-05\n",
            "Epoch 00066: ReduceLROnPlateau reducing learning rate to 0.0006400000303983689.\n",
            "379/379 [==============================] - 13s 33ms/step - loss: 4.1138e-05 - val_loss: 5.7022e-05 - lr: 8.0000e-04\n",
            "Epoch 67/100\n",
            "379/379 [==============================] - 13s 34ms/step - loss: 4.0545e-05 - val_loss: 5.6397e-05 - lr: 6.4000e-04\n",
            "Epoch 68/100\n",
            "379/379 [==============================] - 13s 34ms/step - loss: 4.0288e-05 - val_loss: 5.6654e-05 - lr: 6.4000e-04\n",
            "Epoch 69/100\n",
            "379/379 [==============================] - 13s 34ms/step - loss: 4.0256e-05 - val_loss: 5.6647e-05 - lr: 6.4000e-04\n",
            "Epoch 70/100\n",
            "379/379 [==============================] - 13s 33ms/step - loss: 4.0137e-05 - val_loss: 5.6248e-05 - lr: 6.4000e-04\n",
            "Epoch 71/100\n",
            "379/379 [==============================] - 13s 33ms/step - loss: 4.0104e-05 - val_loss: 5.6493e-05 - lr: 6.4000e-04\n",
            "Epoch 72/100\n",
            "379/379 [==============================] - 13s 34ms/step - loss: 4.0002e-05 - val_loss: 5.7122e-05 - lr: 6.4000e-04\n",
            "Epoch 73/100\n",
            "379/379 [==============================] - 13s 34ms/step - loss: 3.9839e-05 - val_loss: 5.7140e-05 - lr: 6.4000e-04\n",
            "Epoch 74/100\n",
            "379/379 [==============================] - 13s 33ms/step - loss: 3.9772e-05 - val_loss: 5.6817e-05 - lr: 6.4000e-04\n",
            "Epoch 75/100\n",
            "379/379 [==============================] - 13s 33ms/step - loss: 3.9536e-05 - val_loss: 5.6346e-05 - lr: 6.4000e-04\n",
            "Epoch 76/100\n",
            "379/379 [==============================] - 13s 34ms/step - loss: 3.9585e-05 - val_loss: 5.6413e-05 - lr: 6.4000e-04\n",
            "Epoch 77/100\n",
            "379/379 [==============================] - 13s 34ms/step - loss: 3.9538e-05 - val_loss: 5.6220e-05 - lr: 6.4000e-04\n",
            "Epoch 78/100\n",
            "379/379 [==============================] - 13s 34ms/step - loss: 3.9369e-05 - val_loss: 5.7221e-05 - lr: 6.4000e-04\n",
            "Epoch 79/100\n",
            "379/379 [==============================] - 13s 33ms/step - loss: 3.9344e-05 - val_loss: 5.6357e-05 - lr: 6.4000e-04\n",
            "Epoch 80/100\n",
            "379/379 [==============================] - 13s 34ms/step - loss: 3.9337e-05 - val_loss: 5.7067e-05 - lr: 6.4000e-04\n",
            "Epoch 81/100\n",
            "379/379 [==============================] - 13s 34ms/step - loss: 3.9167e-05 - val_loss: 5.6658e-05 - lr: 6.4000e-04\n",
            "Epoch 82/100\n",
            "379/379 [==============================] - 13s 34ms/step - loss: 3.9061e-05 - val_loss: 5.6066e-05 - lr: 6.4000e-04\n",
            "Epoch 83/100\n",
            "379/379 [==============================] - 13s 34ms/step - loss: 3.8993e-05 - val_loss: 5.6385e-05 - lr: 6.4000e-04\n",
            "Epoch 84/100\n",
            "379/379 [==============================] - 13s 34ms/step - loss: 3.8950e-05 - val_loss: 5.6673e-05 - lr: 6.4000e-04\n",
            "Epoch 85/100\n",
            "379/379 [==============================] - 13s 34ms/step - loss: 3.8941e-05 - val_loss: 5.6559e-05 - lr: 6.4000e-04\n",
            "Epoch 86/100\n",
            "379/379 [==============================] - 13s 34ms/step - loss: 3.8852e-05 - val_loss: 5.6860e-05 - lr: 6.4000e-04\n",
            "Epoch 87/100\n",
            "379/379 [==============================] - 13s 34ms/step - loss: 3.8770e-05 - val_loss: 5.6209e-05 - lr: 6.4000e-04\n",
            "Epoch 88/100\n",
            "379/379 [==============================] - 13s 34ms/step - loss: 3.8687e-05 - val_loss: 5.5596e-05 - lr: 6.4000e-04\n",
            "Epoch 89/100\n",
            "379/379 [==============================] - 13s 34ms/step - loss: 3.8469e-05 - val_loss: 5.6481e-05 - lr: 6.4000e-04\n",
            "Epoch 90/100\n",
            "379/379 [==============================] - 13s 34ms/step - loss: 3.8521e-05 - val_loss: 5.6401e-05 - lr: 6.4000e-04\n",
            "Epoch 91/100\n",
            "379/379 [==============================] - 13s 34ms/step - loss: 3.8454e-05 - val_loss: 5.6176e-05 - lr: 6.4000e-04\n",
            "Epoch 92/100\n",
            "379/379 [==============================] - 13s 34ms/step - loss: 3.8469e-05 - val_loss: 5.6426e-05 - lr: 6.4000e-04\n",
            "Epoch 93/100\n",
            "379/379 [==============================] - 13s 34ms/step - loss: 3.8421e-05 - val_loss: 5.6311e-05 - lr: 6.4000e-04\n",
            "Epoch 94/100\n",
            "379/379 [==============================] - 13s 34ms/step - loss: 3.8162e-05 - val_loss: 5.5701e-05 - lr: 6.4000e-04\n",
            "Epoch 95/100\n",
            "379/379 [==============================] - 13s 34ms/step - loss: 3.8324e-05 - val_loss: 5.6095e-05 - lr: 6.4000e-04\n",
            "Epoch 96/100\n",
            "379/379 [==============================] - ETA: 0s - loss: 3.8426e-05\n",
            "Epoch 00096: ReduceLROnPlateau reducing learning rate to 0.0005120000336319208.\n",
            "379/379 [==============================] - 13s 33ms/step - loss: 3.8426e-05 - val_loss: 5.6508e-05 - lr: 6.4000e-04\n",
            "Epoch 97/100\n",
            "379/379 [==============================] - 13s 33ms/step - loss: 3.7925e-05 - val_loss: 5.5956e-05 - lr: 5.1200e-04\n",
            "Epoch 98/100\n",
            "379/379 [==============================] - 14s 38ms/step - loss: 3.7840e-05 - val_loss: 5.5836e-05 - lr: 5.1200e-04\n",
            "Epoch 99/100\n",
            "379/379 [==============================] - 13s 35ms/step - loss: 3.7695e-05 - val_loss: 5.5699e-05 - lr: 5.1200e-04\n",
            "Epoch 100/100\n",
            "379/379 [==============================] - 13s 34ms/step - loss: 3.7555e-05 - val_loss: 5.5628e-05 - lr: 5.1200e-04\n"
          ]
        }
      ],
      "source": [
        "# UNET light (2,3  Millions param)\n",
        "import tensorflow as tf\n",
        "from tensorflow.keras.models import Model\n",
        "from tensorflow.keras.layers import Input, BatchNormalization, Flatten, Dense, Conv2D, Conv2DTranspose , Dropout, Concatenate,  LeakyReLU, ReLU, Activation\n",
        "from tensorflow.keras import callbacks\n",
        "\n",
        "# Création de la structure\n",
        "\n",
        "nframes=patch_size\n",
        "inputs=Input(shape =(nframes,nfreq,1) )\n",
        "\n",
        "conv1 = Conv2D(filters = 16, kernel_size = (5,5) , strides=2, padding='same')(inputs)\n",
        "conv1 = BatchNormalization()(conv1)\n",
        "conv1 = LeakyReLU(alpha=0.2)(conv1)\n",
        "\n",
        "conv2 = Conv2D(filters = 32, kernel_size = (5,5), strides=2, padding='same')(conv1)\n",
        "conv2 = BatchNormalization()(conv2)\n",
        "conv2 = LeakyReLU(alpha=0.2)(conv2)\n",
        "\n",
        "conv3 = Conv2D(filters = 64, kernel_size = (3,3), strides=2, padding='same')(conv2)\n",
        "conv3 = BatchNormalization()(conv3)\n",
        "conv3 = LeakyReLU(alpha=0.2)(conv3)\n",
        "\n",
        "conv4 = Conv2D(filters = 128, kernel_size = (3,3), strides=2, padding='same')(conv3)\n",
        "conv4 = BatchNormalization()(conv4)\n",
        "conv4 = LeakyReLU(alpha=0.2)(conv4)\n",
        "\n",
        "conv5 = Conv2D(filters = 256, kernel_size = (3,3), strides=2, padding='same')(conv4)\n",
        "conv5 = BatchNormalization()(conv5)\n",
        "conv5 = LeakyReLU(alpha=0.2)(conv5)\n",
        "\n",
        "conv6 = Conv2D(filters = 256, kernel_size = (3,3), strides=2, padding='same')(conv5)\n",
        "conv6 = BatchNormalization()(conv6)\n",
        "conv6 = LeakyReLU(alpha=0.2)(conv6)\n",
        "\n",
        "deconv7 = Conv2DTranspose(filters = 256, kernel_size = (3,3), strides=2, padding='same')(conv6)\n",
        "deconv7 = BatchNormalization()(deconv7)\n",
        "deconv7 = Dropout(0.5)(deconv7)\n",
        "deconv7 = ReLU()(deconv7)\n",
        "deconv7 = Concatenate(axis=3)([deconv7, conv5])\n",
        "\n",
        "deconv8 = Conv2DTranspose(filters = 128, kernel_size = (3,3), strides=2, padding='same')(deconv7)\n",
        "deconv8 = BatchNormalization()(deconv8)\n",
        "deconv8 = Dropout(0.5)(deconv8)\n",
        "deconv8 = ReLU()(deconv8)\n",
        "deconv8 = Concatenate(axis=3)([deconv8, conv4])\n",
        "\n",
        "deconv9 = Conv2DTranspose(filters = 64, kernel_size = (3,3), strides=2, padding='same')(deconv8)\n",
        "deconv9 = BatchNormalization()(deconv9)\n",
        "deconv9 = Dropout(0.5)(deconv9)\n",
        "deconv9 = ReLU()(deconv9)\n",
        "deconv9= Concatenate(axis=3)([deconv9, conv3])\n",
        "\n",
        "deconv10 = Conv2DTranspose(filters = 32, kernel_size = (5,5), strides=2, padding='same')(deconv9)\n",
        "deconv10 = BatchNormalization()(deconv10)\n",
        "deconv10 = Dropout(0.5)(deconv10)\n",
        "deconv10 = ReLU()(deconv10)\n",
        "deconv10 = Concatenate(axis=3)([deconv10, conv2])\n",
        "\n",
        "deconv11 = Conv2DTranspose(filters = 16, kernel_size = (5,5), strides=2, padding='same')(deconv10)\n",
        "deconv11 = BatchNormalization()(deconv11)\n",
        "deconv11 = ReLU()(deconv11)\n",
        "deconv11 = Concatenate(axis=3)([deconv11, conv1])\n",
        "\n",
        "deconv12 = Conv2DTranspose(filters = 1, kernel_size = (5,5), strides=2, padding='same')(deconv11)\n",
        "\n",
        "mask     = Activation('sigmoid')(deconv12)\n",
        "# spectrogramme de sortie = Mask x input\n",
        "output1 = tf.multiply(inputs,mask)\n",
        "\n",
        "#quelques callbacks\n",
        "early_stopping = callbacks.EarlyStopping(monitor='val_loss',\n",
        "                                         patience=30,\n",
        "                                         mode='min',\n",
        "                                         restore_best_weights=True)\n",
        "\n",
        "lr_plateau = callbacks.ReduceLROnPlateau(monitor='val_loss',\n",
        "                                         patience=30,\n",
        "                                         factor=0.8,\n",
        "                                         verbose=2,\n",
        "                                         mode='min')\n",
        "\n",
        "#Si prédiction de voix, modélisation d'une probabilité d'occurence de voix\n",
        "#Juste un DNN sur espace latent\n",
        "#La sortie finale est alors multipliée par l'occurence de voix\n",
        "if Predvoix:\n",
        "  flatten = Flatten()\n",
        "  dense = Dense(units = nframes,activation = 'sigmoid')\n",
        "  output2 =dense(flatten(conv6)) \n",
        "  output1=tf.multiply(output1,tf.expand_dims(tf.expand_dims(output2,axis=1), axis=1))\n",
        "\n",
        "\n",
        "# Compilation UNET en cas de prédiction de voix => deux sorties dans le réseau \n",
        "if Predvoix:\n",
        "  unet = Model(inputs=inputs, outputs=[output1,output2])\n",
        "  unet.summary()\n",
        "\n",
        "  unet.compile(loss=['mean_absolute_error','binary_crossentropy'],   \n",
        "              optimizer='adam',loss_weights=[0.99,0.01])           \n",
        "\n",
        "  train_history=unet.fit(x=X_mix,\n",
        "                       y=[X_voice,H_voice], \n",
        "                       validation_split=0.1,\n",
        "                       epochs=25,\n",
        "                       batch_size=batch_size,\n",
        "                       callbacks = [early_stopping, lr_plateau])\n",
        "\n",
        "# Compilation UNET dans le cas classique => on sort juste le spectrogramme \n",
        "else:\n",
        "  unet = Model(inputs=inputs, outputs=output1)\n",
        "  unet.compile(loss='mean_squared_error', optimizer='adam')            \n",
        "  train_history=unet.fit(x=X_mix,\n",
        "                       y=X_voice,\n",
        "                       validation_split=0.1,\n",
        "                       epochs=100,\n",
        "                       batch_size=batch_size,\n",
        "                       callbacks = [early_stopping, lr_plateau])\n",
        " \n",
        "\n"
      ]
    },
    {
      "cell_type": "markdown",
      "metadata": {
        "id": "fLg2mGQDr1iu"
      },
      "source": [
        "Plot des pertes"
      ]
    },
    {
      "cell_type": "code",
      "execution_count": null,
      "metadata": {
        "colab": {
          "base_uri": "https://localhost:8080/",
          "height": 420
        },
        "id": "Cxu5EtdsFkus",
        "outputId": "354129f5-c6c1-49b2-e137-b8709368935c"
      },
      "outputs": [
        {
          "output_type": "display_data",
          "data": {
            "image/png": "[encoded data removed]",
            "text/plain": [
              "<Figure size 648x432 with 1 Axes>"
            ]
          },
          "metadata": {
            "needs_background": "light"
          }
        }
      ],
      "source": [
        "plt.figure(figsize=(9,6))\n",
        "plt.rcParams['xtick.labelsize']=15\n",
        "plt.rcParams['ytick.labelsize']=15\n",
        "plt.plot(train_history.history['loss'])\n",
        "plt.plot(train_history.history['val_loss'])\n",
        "plt.title('Perte par epoch' ,fontsize=15)\n",
        "plt.ylabel('loss',fontsize=20)\n",
        "plt.xlabel('epoch',fontsize=20)\n",
        "plt.legend(['train', 'validation'], loc='best',fontsize=15)\n",
        "plt.show();\n"
      ]
    },
    {
      "cell_type": "markdown",
      "metadata": {
        "id": "aNINJieQgYhr"
      },
      "source": [
        "# Sauvegarde / Chargement d'un réseau existant"
      ]
    },
    {
      "cell_type": "code",
      "source": [
        "#sauvegarde\n",
        "import secrets\n",
        "from datetime import datetime\n",
        "\n",
        "name = \"model\"\n",
        "date = datetime.today().strftime('%Y%m%d')\n",
        "rand_key = secrets.token_hex(8)\n",
        "full_name = f\"{name}_{date}_{rand_key}\"\n",
        "\n",
        "unet.save(os.path.join(\"/content\",\"drive\",\"MyDrive\",\"Projet Datascientest\",\"UNet\",full_name))"
      ],
      "metadata": {
        "id": "z8gjGAIxWjxq",
        "outputId": "b7eb9f55-b9c8-4fea-a325-5be8c8a247f4",
        "colab": {
          "base_uri": "https://localhost:8080/"
        }
      },
      "execution_count": null,
      "outputs": [
        {
          "output_type": "stream",
          "name": "stdout",
          "text": [
            "INFO:tensorflow:Assets written to: /content/drive/MyDrive/Projet Datascientest/UNet/model_20220206_c42ecc03b574a81a/assets\n"
          ]
        },
        {
          "output_type": "stream",
          "name": "stderr",
          "text": [
            "INFO:tensorflow:Assets written to: /content/drive/MyDrive/Projet Datascientest/UNet/model_20220206_c42ecc03b574a81a/assets\n"
          ]
        }
      ]
    },
    {
      "cell_type": "code",
      "source": [
        "#chargement\n",
        "from tensorflow.keras.models import load_model\n",
        "\n",
        "def myloss(y_true, y_pred):\n",
        "  return tf.math.reduce_sum(abs(y_true - y_pred)) + abs(tf.math.reduce_sum(y_true) - tf.math.reduce_sum(y_pred))\n",
        "model_path = os.path.join(\"/content\",\"drive\",\"MyDrive\",\"Projet Datascientest\",\"UNet\",\"model_20220206_90x2_2.3M_4k_L2_long\")\n",
        "print(model_path)\n",
        "#unet = load_model(model_path,custom_objects={'myloss': myloss})\n",
        "unet = load_model(model_path)"
      ],
      "metadata": {
        "id": "1pVBOfRRf2jZ",
        "outputId": "8083d417-ebe0-4732-c996-3e74f9275252",
        "colab": {
          "base_uri": "https://localhost:8080/"
        }
      },
      "execution_count": null,
      "outputs": [
        {
          "output_type": "stream",
          "name": "stdout",
          "text": [
            "/content/drive/MyDrive/Projet Datascientest/UNet/model_20220206_90x2_2.3M_4k_L2_long\n"
          ]
        }
      ]
    },
    {
      "cell_type": "markdown",
      "metadata": {
        "id": "ZcC-k8whsjBH"
      },
      "source": [
        "# Ecoute"
      ]
    },
    {
      "cell_type": "code",
      "execution_count": null,
      "metadata": {
        "id": "kRPs4VtE5YP0"
      },
      "outputs": [],
      "source": [
        "# fonction de reshape des données\n",
        "def reshape(X_mix, X_voice, patch_size=patch_size):\n",
        "  # transposition pour mettre le temps en première composante  \n",
        "  X_mix = X_mix.T\n",
        "  X_voice = X_voice.T\n",
        "\n",
        "  # split en \"images\" temporelles de taille patch_size (128 dans le papier d'origine)\n",
        "  nimages = X_mix.shape[0]//patch_size   # nombre total d'images\n",
        "  newsize = nimages*patch_size           # nouvelle taille pour un découpage qui tombe juste \n",
        "\n",
        "  X_mix_resized = X_mix[:newsize]\n",
        "  X_voice_resized = X_voice[:newsize]\n",
        "\n",
        "  X_mix = np.array(np.split(X_mix_resized, nimages, axis=0))    # découpage \n",
        "  X_voice = np.array(np.split(X_voice_resized, nimages, axis=0))\n",
        "\n",
        "  X_mix = np.expand_dims(X_mix,axis=3) # rajout d'une dimension (canal) \n",
        "  X_voice = np.expand_dims(X_voice,axis=3)\n",
        "\n",
        "  return X_mix, X_voice\n"
      ]
    },
    {
      "cell_type": "code",
      "execution_count": null,
      "metadata": {
        "colab": {
          "base_uri": "https://localhost:8080/",
          "height": 272
        },
        "id": "RUGAaDMsfJud",
        "outputId": "cec90d8e-915c-49fe-fda4-81545976c64c"
      },
      "outputs": [
        {
          "output_type": "stream",
          "name": "stderr",
          "text": [
            "/usr/local/lib/python3.7/dist-packages/nussl/core/audio_signal.py:1485: UserWarning: Cannot resample to the same sample rate.\n",
            "  warnings.warn('Cannot resample to the same sample rate.')\n"
          ]
        },
        {
          "output_type": "error",
          "ename": "TypeError",
          "evalue": "ignored",
          "traceback": [
            "\u001b[0;31m---------------------------------------------------------------------------\u001b[0m",
            "\u001b[0;31mTypeError\u001b[0m                                 Traceback (most recent call last)",
            "\u001b[0;32m<ipython-input-38-0a13863cceea>\u001b[0m in \u001b[0;36m<module>\u001b[0;34m()\u001b[0m\n\u001b[1;32m      1\u001b[0m \u001b[0;31m# écoute d'une musique au choix\u001b[0m\u001b[0;34m\u001b[0m\u001b[0;34m\u001b[0m\u001b[0;34m\u001b[0m\u001b[0m\n\u001b[0;32m----> 2\u001b[0;31m \u001b[0mmagmix\u001b[0m\u001b[0;34m,\u001b[0m \u001b[0mmagvoice\u001b[0m\u001b[0;34m,\u001b[0m \u001b[0mphase\u001b[0m\u001b[0;34m,\u001b[0m \u001b[0mnorm\u001b[0m\u001b[0;34m,\u001b[0m \u001b[0m_\u001b[0m \u001b[0;34m=\u001b[0m \u001b[0mpreprocess\u001b[0m\u001b[0;34m(\u001b[0m\u001b[0mdata\u001b[0m\u001b[0;34m)\u001b[0m\u001b[0;34m\u001b[0m\u001b[0;34m\u001b[0m\u001b[0m\n\u001b[0m\u001b[1;32m      3\u001b[0m \u001b[0mdata\u001b[0m \u001b[0;34m=\u001b[0m \u001b[0mmusdb_test\u001b[0m\u001b[0;34m[\u001b[0m\u001b[0;36m27\u001b[0m\u001b[0;34m]\u001b[0m\u001b[0;34m\u001b[0m\u001b[0;34m\u001b[0m\u001b[0m\n\u001b[1;32m      4\u001b[0m \u001b[0;34m\u001b[0m\u001b[0m\n\u001b[1;32m      5\u001b[0m \u001b[0;34m\u001b[0m\u001b[0m\n",
            "\u001b[0;31mTypeError\u001b[0m: cannot unpack non-iterable NoneType object"
          ]
        }
      ],
      "source": [
        "# écoute d'une musique au choix\n",
        "magmix, magvoice, phase, norm, _ = preprocess(data)\n",
        "data = musdb_test[27]\n",
        "\n",
        "magmix, magvoice, phase, norm, _ = preprocess(data, Predvoix=False)\n",
        "Xmix, Xvoice = reshape(magmix[:,:,0], magvoice[:,:,0], patch_size)\n",
        "\n",
        "print(data[\"mix\"])\n",
        "data[\"mix\"].embed_audio()\n",
        "nussl.utils.visualize_spectrogram(data[\"mix\"])\n",
        "plt.show()\n",
        "\n",
        "print(data[\"sources\"][\"vocals\"])\n",
        "data[\"sources\"][\"vocals\"].embed_audio()\n",
        "nussl.utils.visualize_spectrogram(data[\"sources\"][\"vocals\"],)\n",
        "plt.show()\n",
        "\n",
        "Xvoice_pred =unet.predict(Xmix)\n",
        "magmix_pred = Xvoice_pred.reshape(-1,nfreq,1).transpose(1,0,2)\n",
        "end = magmix_pred.shape[1]\n",
        "audio_pred = nussl.AudioSignal(stft=magmix_pred*norm*phase[:,:end],sample_rate=freq)\n",
        "audio_pred.istft(window_length=window_length,hop_length=hop_length)\n",
        "print(audio_pred)\n",
        "audio_pred.embed_audio()\n",
        "nussl.utils.visualize_spectrogram(audio_pred)\n",
        "plt.show()\n",
        "\n"
      ]
    },
    {
      "cell_type": "markdown",
      "metadata": {
        "id": "xH9_nck-vaRi"
      },
      "source": [
        "# Evaluations (métriques)"
      ]
    },
    {
      "cell_type": "code",
      "source": [
        "# fonctions utiles\n",
        "\n",
        "def preprocess_mix(mix,\n",
        "                   freq=freq,\n",
        "                   window_length=window_length,\n",
        "                   hop_length=hop_length,\n",
        "                   normalize=True):\n",
        "\n",
        "  # Resampling à 16 kHz (pour data plus light)\n",
        "  if freq is not None:\n",
        "    mix.resample(freq,res_type='kaiser_fast')\n",
        "\n",
        "  # Passage en mono\n",
        "  mix.to_mono()\n",
        "\n",
        "  # fft mix et voix (magnitude normalisée et phase)\n",
        "  stftmix = mix.stft(window_length=window_length,hop_length=hop_length)\n",
        "  magmix, phasemix = librosa.magphase(stftmix)\n",
        "\n",
        "  if normalize:\n",
        "    norm = magmix.max()\n",
        "    magmix /= norm\n",
        "    return magmix, phasemix, norm\n",
        "\n",
        "  return magmix, phasemix\n",
        "\n",
        "\n",
        "def reshape_mix(X_mix, patch_size=patch_size, extend=False):\n",
        "  # transposition pour mettre le temps en première composante  \n",
        "  X_mix = X_mix.T\n",
        "\n",
        "  if extend:\n",
        "    # split en \"images\" temporelles de taille patch_size (128 dans le papier d'origine)\n",
        "    nimages = int(np.ceil(X_mix.shape[0]/patch_size))   # nombre total d'images\n",
        "    newsize = nimages*patch_size           # nouvelle taille pour un découpage qui tombe juste \n",
        "\n",
        "    X_mix_resized = np.concatenate((X_mix,np.zeros((newsize-X_mix.shape[0],X_mix.shape[1]))))\n",
        "  else:\n",
        "    # split en \"images\" temporelles de taille patch_size (128 dans le papier d'origine)\n",
        "    nimages = X_mix.shape[0]//patch_size   # nombre total d'images\n",
        "    newsize = nimages*patch_size           # nouvelle taille pour un découpage qui tombe juste \n",
        "\n",
        "    X_mix_resized = X_mix[:newsize]\n",
        "\n",
        "  X_mix = np.array(np.split(X_mix_resized, nimages, axis=0))    # découpage \n",
        "\n",
        "  X_mix = np.expand_dims(X_mix,axis=3) # rajout d'une dimension (canal) \n",
        "\n",
        "  return X_mix\n",
        "\n",
        "class UNetModel:\n",
        "\n",
        "  def __init__(self,mix,model):\n",
        "    self.mix = mix\n",
        "    self.model = model\n",
        "  def __call__(self):\n",
        "    magmix, phase, norm = preprocess_mix(self.mix)\n",
        "    X_mix = reshape_mix(magmix[:,:,0], patch_size, extend=True)\n",
        "    X_voice_pred = self.model.predict(X_mix)\n",
        "    magmix_pred = X_voice_pred.reshape(-1,nfreq,1).transpose(1,0,2)\n",
        "    end = magmix.shape[1]\n",
        "    audio_pred = nussl.AudioSignal(stft=magmix_pred[:,:end]*norm*phase,sample_rate=freq)\n",
        "    audio_pred.istft(window_length=window_length,hop_length=hop_length)\n",
        "    audio_pred.truncate_seconds(self.mix.signal_duration)\n",
        "    return [audio_pred*2,audio_pred]\n",
        "\n",
        "\n",
        "\n"
      ],
      "metadata": {
        "id": "Zy6f6lnPvIBu"
      },
      "execution_count": null,
      "outputs": []
    },
    {
      "cell_type": "code",
      "source": [
        "# application : évaluation d'un modèle sur la base de test\n",
        "from voicesep.models import evaluate_dict_models\n",
        "from glob import glob\n",
        "\n",
        "models = os.path.join(\"/content\",\"drive\",\"MyDrive\",\"Projet Datascientest\",\"UNet\",\"model_20220206_90x2_2.3M_4k_L2_long\")\n",
        "unets=[]\n",
        "#unets.append(load_model(models,custom_objects={'myloss': myloss}))\n",
        "unets.append(load_model(models))\n",
        "print(unets)\n",
        "\n",
        "sdr=[]\n",
        "for i in range(50):\n",
        "  data = musdb_test[i]\n",
        "  if (i%2==0):\n",
        "      print('processing:',i)\n",
        "  truth = [data[\"sources\"]['drums+bass+other'], data[\"sources\"]['vocals']]\n",
        "  truth[0].resample(freq,res_type='kaiser_fast')\n",
        "  truth[1].resample(freq,res_type='kaiser_fast')\n",
        "  truth[0].to_mono()\n",
        "  truth[1].to_mono()\n",
        "\n",
        "  sep_class_dict = {\n",
        "                  f\"UNet{i}\": UNetModel(data[\"mix\"],u) for i,u in enumerate(unets)\n",
        "                 }\n",
        "  \n",
        "  scores = evaluate_dict_models(sep_class_dict, truth,visualize=False, report=False)\n",
        "  sdr.append(scores['voice']['SI-SDR'])"
      ],
      "metadata": {
        "id": "ZreZirddfXZM",
        "outputId": "f9f46a99-8a5a-46df-c5ed-247d2bd97917",
        "colab": {
          "base_uri": "https://localhost:8080/"
        }
      },
      "execution_count": null,
      "outputs": [
        {
          "output_type": "stream",
          "name": "stdout",
          "text": [
            "[<keras.engine.functional.Functional object at 0x7fd106f74490>]\n",
            "processing: 0\n",
            "processing: 2\n",
            "processing: 4\n",
            "processing: 6\n",
            "processing: 8\n",
            "processing: 10\n",
            "processing: 12\n",
            "processing: 14\n",
            "processing: 16\n",
            "processing: 18\n",
            "processing: 20\n",
            "processing: 22\n",
            "processing: 24\n",
            "processing: 26\n",
            "processing: 28\n",
            "processing: 30\n",
            "processing: 32\n",
            "processing: 34\n",
            "processing: 36\n",
            "processing: 38\n",
            "processing: 40\n",
            "processing: 42\n",
            "processing: 44\n",
            "processing: 46\n",
            "processing: 48\n"
          ]
        }
      ]
    },
    {
      "cell_type": "code",
      "source": [
        "# écriture des SDR et boxplot\n",
        "import pandas as pd\n",
        "\n",
        "\n",
        "sdrl=pd.DataFrame(sdr)\n",
        "sdrl=sdrl.reset_index() \n",
        "print(sdrl)\n",
        "sdrl.to_csv(\"/content/drive/MyDrive/Projet Datascientest/UNet/perfosdr_20220206_90x2_2.3M_4k_L2_long.csv\")\n",
        "\n",
        "print(sdrl.describe())\n",
        "plt.boxplot(sdrl['UNet0']);\n",
        "\n",
        "\n",
        "# Modèle Stan : 20220202_100x2_2.3M_maxepoch:loss=18/20       <SDR>=2.06    sigma_SDR= 5.76     max=11.4 (i=21)   min=-24.1 (i=27)     \n",
        "# Modèle Mick : 20220202_quick                                <SDR>=0.76    sigma_SDR=5.59      max=9.2  (i=21)   min=-21.8 (i=27)   \n",
        "# Modèle Stan : 20220206_90x2_2.3M_4k_percent                 <SDR>=-14 !   \n",
        "# Modèle Stan : 20220206_90x2_2.3M_4k_L2                      <SDR>=1.91   sigma_SDR=6.43      max=10.6  (i=21)   min=-28.1 (i=27) \n",
        "# Modèle Stan : 20220206_90x2_2.3M_4k_L2_long                  <SDR>=1.95  sigma_SDR=6.15      max=10.7  (i=21)   min=-23.4 (i=27) "
      ],
      "metadata": {
        "colab": {
          "base_uri": "https://localhost:8080/",
          "height": 1000
        },
        "id": "L_fTT-tj8HRV",
        "outputId": "740aee36-c0e9-4c11-8997-91e7d1281144"
      },
      "execution_count": null,
      "outputs": [
        {
          "output_type": "stream",
          "name": "stdout",
          "text": [
            "Alg   index      UNet0\n",
            "0    SI-SDR   6.669761\n",
            "1    SI-SDR   2.906779\n",
            "2    SI-SDR   7.458191\n",
            "3    SI-SDR   0.134803\n",
            "4    SI-SDR  -7.750470\n",
            "5    SI-SDR   7.457414\n",
            "6    SI-SDR  -0.838950\n",
            "7    SI-SDR   2.248391\n",
            "8    SI-SDR  -0.058684\n",
            "9    SI-SDR   2.555993\n",
            "10   SI-SDR   4.892777\n",
            "11   SI-SDR   0.205904\n",
            "12   SI-SDR   5.388677\n",
            "13   SI-SDR  -0.132162\n",
            "14   SI-SDR   1.213705\n",
            "15   SI-SDR   2.107437\n",
            "16   SI-SDR   2.893148\n",
            "17   SI-SDR   4.760952\n",
            "18   SI-SDR   3.074661\n",
            "19   SI-SDR   3.674531\n",
            "20   SI-SDR   1.337239\n",
            "21   SI-SDR  10.697785\n",
            "22   SI-SDR   4.069864\n",
            "23   SI-SDR   5.948131\n",
            "24   SI-SDR   0.796269\n",
            "25   SI-SDR   3.034050\n",
            "26   SI-SDR   3.387334\n",
            "27   SI-SDR -23.429209\n",
            "28   SI-SDR  -5.097971\n",
            "29   SI-SDR   0.761773\n",
            "30   SI-SDR  -1.135282\n",
            "31   SI-SDR   7.570254\n",
            "32   SI-SDR   2.150861\n",
            "33   SI-SDR   2.486146\n",
            "34   SI-SDR   6.718584\n",
            "35   SI-SDR   8.076702\n",
            "36   SI-SDR -21.888931\n",
            "37   SI-SDR  -4.600403\n",
            "38   SI-SDR   5.111144\n",
            "39   SI-SDR   4.824570\n",
            "40   SI-SDR   5.298797\n",
            "41   SI-SDR   1.187230\n",
            "42   SI-SDR   3.239953\n",
            "43   SI-SDR   7.339991\n",
            "44   SI-SDR   5.447623\n",
            "45   SI-SDR   0.315814\n",
            "46   SI-SDR   5.162962\n",
            "47   SI-SDR   6.127888\n",
            "48   SI-SDR   0.456903\n",
            "49   SI-SDR   3.651118\n",
            "Alg        UNet0\n",
            "count  50.000000\n",
            "mean    1.958201\n",
            "std     6.150506\n",
            "min   -23.429209\n",
            "25%     0.533121\n",
            "50%     2.970414\n",
            "75%     5.264838\n",
            "max    10.697785\n"
          ]
        },
        {
          "output_type": "display_data",
          "data": {
            "image/png": "[encoded data removed]",
            "text/plain": [
              "<Figure size 432x288 with 1 Axes>"
            ]
          },
          "metadata": {
            "needs_background": "light"
          }
        }
      ]
    }
  ],
  "metadata": {
    "accelerator": "GPU",
    "colab": {
      "collapsed_sections": [],
      "name": "U-net-sansgenerateur.ipynb",
      "provenance": [],
      "toc_visible": true,
      "include_colab_link": true
    },
    "kernelspec": {
      "display_name": "Python 3",
      "name": "python3"
    },
    "language_info": {
      "name": "python"
    }
  },
  "nbformat": 4,
  "nbformat_minor": 0
}